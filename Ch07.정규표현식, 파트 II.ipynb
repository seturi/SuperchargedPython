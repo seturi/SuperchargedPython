{
 "cells": [
  {
   "cell_type": "markdown",
   "metadata": {},
   "source": [
    "# 7.2 태그를 남기지 않는 그룹"
   ]
  },
  {
   "cell_type": "markdown",
   "metadata": {},
   "source": [
    "## 7.2.2 태깅 문제 고치기"
   ]
  },
  {
   "cell_type": "code",
   "execution_count": 1,
   "metadata": {},
   "outputs": [
    {
     "name": "stdout",
     "output_type": "stream",
     "text": [
      "12,000\n",
      "100\n",
      "53.12\n"
     ]
    }
   ],
   "source": [
    "import re\n",
    "\n",
    "pat = r'\\d{1,3}(?:,\\d{3})*(?:\\.\\d*)?\\b'\n",
    "s = '12,000 monkeys on 100 typewriters for 53.12 days.'\n",
    "lst = re.findall(pat, s)\n",
    "for item in lst:\n",
    "    print(item)"
   ]
  },
  {
   "cell_type": "markdown",
   "metadata": {},
   "source": [
    "# 7.3 탐욕적 일치 vs 게으른 일치"
   ]
  },
  {
   "cell_type": "code",
   "execution_count": 2,
   "metadata": {},
   "outputs": [
    {
     "name": "stdout",
     "output_type": "stream",
     "text": [
      "<h1>This is an HTML heading.<\\h1>\n"
     ]
    }
   ],
   "source": [
    "import re\n",
    "\n",
    "pat = r'<.*>'  # 탐욕적 일치\n",
    "the_line = '<h1>This is an HTML heading.<\\h1>'\n",
    "m = re.match(pat, the_line)\n",
    "print(m.group())"
   ]
  },
  {
   "cell_type": "code",
   "execution_count": 3,
   "metadata": {},
   "outputs": [
    {
     "name": "stdout",
     "output_type": "stream",
     "text": [
      "<h1>\n"
     ]
    }
   ],
   "source": [
    "pat = r'<.*?>' # 게으른 일치\n",
    "the_line = '<h1>This is an HTML heading.<\\h1>'\n",
    "m = re.match(pat, the_line)\n",
    "print(m.group())"
   ]
  },
  {
   "cell_type": "code",
   "execution_count": 4,
   "metadata": {},
   "outputs": [],
   "source": [
    "s = r'''<h1>This is the first heading<\\h1>\n",
    "<h1>This is the second heading<\\h1>\n",
    "<b>This is in bold<\\b>\n",
    "'''"
   ]
  },
  {
   "cell_type": "code",
   "execution_count": 5,
   "metadata": {},
   "outputs": [
    {
     "name": "stdout",
     "output_type": "stream",
     "text": [
      "There are 6 tags.\n"
     ]
    }
   ],
   "source": [
    "pat = r'<.*?>'  # 게으른 일치\n",
    "lst = re.findall(pat, s, flags=re.DOTALL)\n",
    "print('There are', len(lst), 'tags.')"
   ]
  },
  {
   "cell_type": "code",
   "execution_count": 6,
   "metadata": {},
   "outputs": [
    {
     "name": "stdout",
     "output_type": "stream",
     "text": [
      "There are 1 tags.\n"
     ]
    }
   ],
   "source": [
    "pat = r'<.*>'  # 탐욕적 일치\n",
    "lst = re.findall(pat, s, flags=re.DOTALL)\n",
    "print('There are', len(lst), 'tags.')"
   ]
  },
  {
   "cell_type": "code",
   "execution_count": 7,
   "metadata": {},
   "outputs": [],
   "source": [
    "s = '''Here is a single sentence. Here is\n",
    "another sentence, ending in a period. And\n",
    "here is yet another.\n",
    "'''"
   ]
  },
  {
   "cell_type": "code",
   "execution_count": 8,
   "metadata": {},
   "outputs": [
    {
     "name": "stdout",
     "output_type": "stream",
     "text": [
      "There are  3 sentences.\n"
     ]
    }
   ],
   "source": [
    "pat = r'.*?[.?!]'\n",
    "lst = re.findall(pat, s, flags=re.DOTALL)\n",
    "print('There are ', len(lst), 'sentences.')"
   ]
  },
  {
   "cell_type": "markdown",
   "metadata": {},
   "source": [
    "# 7.4 전방탐색 기능"
   ]
  },
  {
   "cell_type": "code",
   "execution_count": 1,
   "metadata": {},
   "outputs": [],
   "source": [
    "s = '''See the U.S.A. today. It's right here, not\n",
    "a world away. Average temp. is 66.5.'''"
   ]
  },
  {
   "cell_type": "code",
   "execution_count": 4,
   "metadata": {},
   "outputs": [
    {
     "name": "stdout",
     "output_type": "stream",
     "text": [
      "-> See the U.S.A. today.\n",
      "-> It's right here, not\n",
      "a world away.\n",
      "-> Average temp. is 66.5.\n"
     ]
    }
   ],
   "source": [
    "import re\n",
    "\n",
    "pat = r'[A-Z].*?[.!?](?= [A-Z]|$)'\n",
    "m = re.findall(pat, s, flags=re.DOTALL | re.MULTILINE)\n",
    "\n",
    "for i in m:\n",
    "    print('->', i)"
   ]
  },
  {
   "cell_type": "code",
   "execution_count": 7,
   "metadata": {},
   "outputs": [
    {
     "name": "stdout",
     "output_type": "stream",
     "text": [
      "-> See the U.S.A. today. I\n",
      "-> \n"
     ]
    }
   ],
   "source": [
    "pat = r'[A-Z].*?[.!?] [A-Z]|$'\n",
    "m = re.findall(pat, s, flags=re.DOTALL)\n",
    "for i in m:\n",
    "    print('->', i)"
   ]
  },
  {
   "cell_type": "markdown",
   "metadata": {},
   "source": [
    "# 7.5 다중 패턴 확인하기(전방탐색)"
   ]
  },
  {
   "cell_type": "code",
   "execution_count": 8,
   "metadata": {},
   "outputs": [],
   "source": [
    "pat1 = r'(\\w|[!@#$%^&*+-]){8,12}$'\n",
    "pat2 = r'(?=.*[a-zA-Z])'\n",
    "pat3 = r'(?=.*\\d)'\n",
    "pat4 = r'(?=.*[!@#$%^&*+-])'\n",
    "\n",
    "pat = pat2 + pat3 + pat4 + pat1"
   ]
  },
  {
   "cell_type": "code",
   "execution_count": 9,
   "metadata": {},
   "outputs": [
    {
     "name": "stdout",
     "output_type": "stream",
     "text": [
      "It passed the test!\n"
     ]
    }
   ],
   "source": [
    "import re\n",
    "\n",
    "passwd = 'HenryThe5!'\n",
    "if re.match(pat, passwd):\n",
    "    print('It passed the test!')\n",
    "else:\n",
    "    print('Insufficiently strong password')"
   ]
  }
 ],
 "metadata": {
  "kernelspec": {
   "display_name": "Python 3",
   "language": "python",
   "name": "python3"
  },
  "language_info": {
   "codemirror_mode": {
    "name": "ipython",
    "version": 3
   },
   "file_extension": ".py",
   "mimetype": "text/x-python",
   "name": "python",
   "nbconvert_exporter": "python",
   "pygments_lexer": "ipython3",
   "version": "3.7.6"
  }
 },
 "nbformat": 4,
 "nbformat_minor": 4
}
