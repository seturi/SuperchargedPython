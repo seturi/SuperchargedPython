{
 "cells": [
  {
   "cell_type": "markdown",
   "metadata": {},
   "source": [
    "# 10.2 부동소수점 포맷의 제약 사항"
   ]
  },
  {
   "cell_type": "code",
   "execution_count": 1,
   "metadata": {},
   "outputs": [
    {
     "data": {
      "text/plain": [
       "0.30000000000000004"
      ]
     },
     "execution_count": 1,
     "metadata": {},
     "output_type": "execute_result"
    }
   ],
   "source": [
    "0.1 + 0.1 + 0.1  "
   ]
  },
  {
   "cell_type": "code",
   "execution_count": 3,
   "metadata": {},
   "outputs": [
    {
     "data": {
      "text/plain": [
       "3.0"
      ]
     },
     "execution_count": 3,
     "metadata": {},
     "output_type": "execute_result"
    }
   ],
   "source": [
    "round(1.0 + 1.0 + 1.0, 2)"
   ]
  },
  {
   "cell_type": "code",
   "execution_count": 4,
   "metadata": {},
   "outputs": [
    {
     "data": {
      "text/plain": [
       "0.9999999999999999"
      ]
     },
     "execution_count": 4,
     "metadata": {},
     "output_type": "execute_result"
    }
   ],
   "source": [
    "0.6 + 0.3 + 0.1"
   ]
  },
  {
   "cell_type": "code",
   "execution_count": 5,
   "metadata": {},
   "outputs": [
    {
     "data": {
      "text/plain": [
       "0.49999999999999994"
      ]
     },
     "execution_count": 5,
     "metadata": {},
     "output_type": "execute_result"
    }
   ],
   "source": [
    "(0.6 + 0.3 + 0.1) / 2"
   ]
  },
  {
   "cell_type": "markdown",
   "metadata": {},
   "source": [
    "# 10.3 Decimal 클래스 소개"
   ]
  },
  {
   "cell_type": "code",
   "execution_count": 6,
   "metadata": {},
   "outputs": [],
   "source": [
    "from decimal import Decimal"
   ]
  },
  {
   "cell_type": "code",
   "execution_count": 7,
   "metadata": {},
   "outputs": [
    {
     "name": "stdout",
     "output_type": "stream",
     "text": [
      "0\n"
     ]
    }
   ],
   "source": [
    "my_dec = Decimal()\n",
    "print(my_dec)"
   ]
  },
  {
   "cell_type": "code",
   "execution_count": 8,
   "metadata": {},
   "outputs": [
    {
     "name": "stdout",
     "output_type": "stream",
     "text": [
      "0.3\n"
     ]
    }
   ],
   "source": [
    "d = Decimal('0.1')\n",
    "print(d + d + d)"
   ]
  },
  {
   "cell_type": "code",
   "execution_count": 10,
   "metadata": {},
   "outputs": [
    {
     "name": "stdout",
     "output_type": "stream",
     "text": [
      "0.1000000000000000055511151231257827021181583404541015625\n"
     ]
    }
   ],
   "source": [
    "d = Decimal(0.1)\n",
    "print(d)"
   ]
  },
  {
   "cell_type": "code",
   "execution_count": 11,
   "metadata": {},
   "outputs": [
    {
     "name": "stdout",
     "output_type": "stream",
     "text": [
      "0.3\n"
     ]
    }
   ],
   "source": [
    "d = Decimal('0.1')\n",
    "print(d + d + d)"
   ]
  },
  {
   "cell_type": "code",
   "execution_count": 12,
   "metadata": {},
   "outputs": [
    {
     "name": "stdout",
     "output_type": "stream",
     "text": [
      "5.551115123125783e-17\n"
     ]
    }
   ],
   "source": [
    "print(0.1 + 0.1 + 0.1 - 0.3)"
   ]
  },
  {
   "cell_type": "code",
   "execution_count": 13,
   "metadata": {},
   "outputs": [
    {
     "name": "stdout",
     "output_type": "stream",
     "text": [
      "0.0\n"
     ]
    }
   ],
   "source": [
    "d1, d3 = Decimal('0.1'), Decimal('0.3')\n",
    "print(d1 + d1 + d1 - d3)"
   ]
  },
  {
   "cell_type": "code",
   "execution_count": 14,
   "metadata": {},
   "outputs": [
    {
     "data": {
      "text/plain": [
       "Decimal('0.40')"
      ]
     },
     "execution_count": 14,
     "metadata": {},
     "output_type": "execute_result"
    }
   ],
   "source": [
    "d1, d3 = Decimal('0.10'), Decimal('0.30')\n",
    "d1 + d3"
   ]
  },
  {
   "cell_type": "code",
   "execution_count": 15,
   "metadata": {},
   "outputs": [
    {
     "name": "stdout",
     "output_type": "stream",
     "text": [
      "1.00\n"
     ]
    }
   ],
   "source": [
    "d1, d2 = Decimal('0.50'), Decimal('0.50')\n",
    "print(d1 + d2)"
   ]
  },
  {
   "cell_type": "code",
   "execution_count": 17,
   "metadata": {},
   "outputs": [
    {
     "name": "stdout",
     "output_type": "stream",
     "text": [
      "0.000600\n"
     ]
    }
   ],
   "source": [
    "d1, d3 = Decimal('0.020'), Decimal('0.030')\n",
    "print(d1 * d3)"
   ]
  },
  {
   "cell_type": "code",
   "execution_count": 18,
   "metadata": {},
   "outputs": [
    {
     "name": "stdout",
     "output_type": "stream",
     "text": [
      "0.0006\n"
     ]
    }
   ],
   "source": [
    "print(round(d1 * d3, 4))"
   ]
  },
  {
   "cell_type": "code",
   "execution_count": 19,
   "metadata": {},
   "outputs": [
    {
     "name": "stdout",
     "output_type": "stream",
     "text": [
      "0.001\n"
     ]
    }
   ],
   "source": [
    "print(round(d1 * d3, 3))"
   ]
  },
  {
   "cell_type": "code",
   "execution_count": 20,
   "metadata": {},
   "outputs": [
    {
     "name": "stdout",
     "output_type": "stream",
     "text": [
      "535.00\n"
     ]
    }
   ],
   "source": [
    "d = Decimal(533)\n",
    "d += 2\n",
    "print(round(d, 2))"
   ]
  },
  {
   "cell_type": "markdown",
   "metadata": {},
   "source": [
    "# 10.4 Decimal 객체를 위한 특수 연산"
   ]
  },
  {
   "cell_type": "code",
   "execution_count": 21,
   "metadata": {},
   "outputs": [
    {
     "name": "stdout",
     "output_type": "stream",
     "text": [
      "Help on class Decimal in module decimal:\n",
      "\n",
      "class Decimal(builtins.object)\n",
      " |  Decimal(value='0', context=None)\n",
      " |  \n",
      " |  Construct a new Decimal object. 'value' can be an integer, string, tuple,\n",
      " |  or another Decimal object. If no value is given, return Decimal('0'). The\n",
      " |  context does not affect the conversion and is only passed to determine if\n",
      " |  the InvalidOperation trap is active.\n",
      " |  \n",
      " |  Methods defined here:\n",
      " |  \n",
      " |  __abs__(self, /)\n",
      " |      abs(self)\n",
      " |  \n",
      " |  __add__(self, value, /)\n",
      " |      Return self+value.\n",
      " |  \n",
      " |  __bool__(self, /)\n",
      " |      self != 0\n",
      " |  \n",
      " |  __ceil__(...)\n",
      " |  \n",
      " |  __complex__(...)\n",
      " |  \n",
      " |  __copy__(...)\n",
      " |  \n",
      " |  __deepcopy__(...)\n",
      " |  \n",
      " |  __divmod__(self, value, /)\n",
      " |      Return divmod(self, value).\n",
      " |  \n",
      " |  __eq__(self, value, /)\n",
      " |      Return self==value.\n",
      " |  \n",
      " |  __float__(self, /)\n",
      " |      float(self)\n",
      " |  \n",
      " |  __floor__(...)\n",
      " |  \n",
      " |  __floordiv__(self, value, /)\n",
      " |      Return self//value.\n",
      " |  \n",
      " |  __format__(...)\n",
      " |      Default object formatter.\n",
      " |  \n",
      " |  __ge__(self, value, /)\n",
      " |      Return self>=value.\n",
      " |  \n",
      " |  __getattribute__(self, name, /)\n",
      " |      Return getattr(self, name).\n",
      " |  \n",
      " |  __gt__(self, value, /)\n",
      " |      Return self>value.\n",
      " |  \n",
      " |  __hash__(self, /)\n",
      " |      Return hash(self).\n",
      " |  \n",
      " |  __int__(self, /)\n",
      " |      int(self)\n",
      " |  \n",
      " |  __le__(self, value, /)\n",
      " |      Return self<=value.\n",
      " |  \n",
      " |  __lt__(self, value, /)\n",
      " |      Return self<value.\n",
      " |  \n",
      " |  __mod__(self, value, /)\n",
      " |      Return self%value.\n",
      " |  \n",
      " |  __mul__(self, value, /)\n",
      " |      Return self*value.\n",
      " |  \n",
      " |  __ne__(self, value, /)\n",
      " |      Return self!=value.\n",
      " |  \n",
      " |  __neg__(self, /)\n",
      " |      -self\n",
      " |  \n",
      " |  __pos__(self, /)\n",
      " |      +self\n",
      " |  \n",
      " |  __pow__(self, value, mod=None, /)\n",
      " |      Return pow(self, value, mod).\n",
      " |  \n",
      " |  __radd__(self, value, /)\n",
      " |      Return value+self.\n",
      " |  \n",
      " |  __rdivmod__(self, value, /)\n",
      " |      Return divmod(value, self).\n",
      " |  \n",
      " |  __reduce__(...)\n",
      " |      Helper for pickle.\n",
      " |  \n",
      " |  __repr__(self, /)\n",
      " |      Return repr(self).\n",
      " |  \n",
      " |  __rfloordiv__(self, value, /)\n",
      " |      Return value//self.\n",
      " |  \n",
      " |  __rmod__(self, value, /)\n",
      " |      Return value%self.\n",
      " |  \n",
      " |  __rmul__(self, value, /)\n",
      " |      Return value*self.\n",
      " |  \n",
      " |  __round__(...)\n",
      " |  \n",
      " |  __rpow__(self, value, mod=None, /)\n",
      " |      Return pow(value, self, mod).\n",
      " |  \n",
      " |  __rsub__(self, value, /)\n",
      " |      Return value-self.\n",
      " |  \n",
      " |  __rtruediv__(self, value, /)\n",
      " |      Return value/self.\n",
      " |  \n",
      " |  __sizeof__(...)\n",
      " |      Size of object in memory, in bytes.\n",
      " |  \n",
      " |  __str__(self, /)\n",
      " |      Return str(self).\n",
      " |  \n",
      " |  __sub__(self, value, /)\n",
      " |      Return self-value.\n",
      " |  \n",
      " |  __truediv__(self, value, /)\n",
      " |      Return self/value.\n",
      " |  \n",
      " |  __trunc__(...)\n",
      " |  \n",
      " |  adjusted(self, /)\n",
      " |      Return the adjusted exponent of the number.  Defined as exp + digits - 1.\n",
      " |  \n",
      " |  as_integer_ratio(self, /)\n",
      " |      Decimal.as_integer_ratio() -> (int, int)\n",
      " |      \n",
      " |      Return a pair of integers, whose ratio is exactly equal to the original\n",
      " |      Decimal and with a positive denominator. The ratio is in lowest terms.\n",
      " |      Raise OverflowError on infinities and a ValueError on NaNs.\n",
      " |  \n",
      " |  as_tuple(self, /)\n",
      " |      Return a tuple representation of the number.\n",
      " |  \n",
      " |  canonical(self, /)\n",
      " |      Return the canonical encoding of the argument.  Currently, the encoding\n",
      " |      of a Decimal instance is always canonical, so this operation returns its\n",
      " |      argument unchanged.\n",
      " |  \n",
      " |  compare(self, /, other, context=None)\n",
      " |      Compare self to other.  Return a decimal value:\n",
      " |      \n",
      " |      a or b is a NaN ==> Decimal('NaN')\n",
      " |      a < b           ==> Decimal('-1')\n",
      " |      a == b          ==> Decimal('0')\n",
      " |      a > b           ==> Decimal('1')\n",
      " |  \n",
      " |  compare_signal(self, /, other, context=None)\n",
      " |      Identical to compare, except that all NaNs signal.\n",
      " |  \n",
      " |  compare_total(self, /, other, context=None)\n",
      " |      Compare two operands using their abstract representation rather than\n",
      " |      their numerical value.  Similar to the compare() method, but the result\n",
      " |      gives a total ordering on Decimal instances.  Two Decimal instances with\n",
      " |      the same numeric value but different representations compare unequal\n",
      " |      in this ordering:\n",
      " |      \n",
      " |          >>> Decimal('12.0').compare_total(Decimal('12'))\n",
      " |          Decimal('-1')\n",
      " |      \n",
      " |      Quiet and signaling NaNs are also included in the total ordering. The result\n",
      " |      of this function is Decimal('0') if both operands have the same representation,\n",
      " |      Decimal('-1') if the first operand is lower in the total order than the second,\n",
      " |      and Decimal('1') if the first operand is higher in the total order than the\n",
      " |      second operand. See the specification for details of the total order.\n",
      " |      \n",
      " |      This operation is unaffected by context and is quiet: no flags are changed\n",
      " |      and no rounding is performed. As an exception, the C version may raise\n",
      " |      InvalidOperation if the second operand cannot be converted exactly.\n",
      " |  \n",
      " |  compare_total_mag(self, /, other, context=None)\n",
      " |      Compare two operands using their abstract representation rather than their\n",
      " |      value as in compare_total(), but ignoring the sign of each operand.\n",
      " |      \n",
      " |      x.compare_total_mag(y) is equivalent to x.copy_abs().compare_total(y.copy_abs()).\n",
      " |      \n",
      " |      This operation is unaffected by context and is quiet: no flags are changed\n",
      " |      and no rounding is performed. As an exception, the C version may raise\n",
      " |      InvalidOperation if the second operand cannot be converted exactly.\n",
      " |  \n",
      " |  conjugate(self, /)\n",
      " |      Return self.\n",
      " |  \n",
      " |  copy_abs(self, /)\n",
      " |      Return the absolute value of the argument.  This operation is unaffected by\n",
      " |      context and is quiet: no flags are changed and no rounding is performed.\n",
      " |  \n",
      " |  copy_negate(self, /)\n",
      " |      Return the negation of the argument.  This operation is unaffected by context\n",
      " |      and is quiet: no flags are changed and no rounding is performed.\n",
      " |  \n",
      " |  copy_sign(self, /, other, context=None)\n",
      " |      Return a copy of the first operand with the sign set to be the same as the\n",
      " |      sign of the second operand. For example:\n",
      " |      \n",
      " |          >>> Decimal('2.3').copy_sign(Decimal('-1.5'))\n",
      " |          Decimal('-2.3')\n",
      " |      \n",
      " |      This operation is unaffected by context and is quiet: no flags are changed\n",
      " |      and no rounding is performed. As an exception, the C version may raise\n",
      " |      InvalidOperation if the second operand cannot be converted exactly.\n",
      " |  \n",
      " |  exp(self, /, context=None)\n",
      " |      Return the value of the (natural) exponential function e**x at the given\n",
      " |      number.  The function always uses the ROUND_HALF_EVEN mode and the result\n",
      " |      is correctly rounded.\n",
      " |  \n",
      " |  fma(self, /, other, third, context=None)\n",
      " |      Fused multiply-add.  Return self*other+third with no rounding of the\n",
      " |      intermediate product self*other.\n",
      " |      \n",
      " |          >>> Decimal(2).fma(3, 5)\n",
      " |          Decimal('11')\n",
      " |  \n",
      " |  is_canonical(self, /)\n",
      " |      Return True if the argument is canonical and False otherwise.  Currently,\n",
      " |      a Decimal instance is always canonical, so this operation always returns\n",
      " |      True.\n",
      " |  \n",
      " |  is_finite(self, /)\n",
      " |      Return True if the argument is a finite number, and False if the argument\n",
      " |      is infinite or a NaN.\n",
      " |  \n",
      " |  is_infinite(self, /)\n",
      " |      Return True if the argument is either positive or negative infinity and\n",
      " |      False otherwise.\n",
      " |  \n",
      " |  is_nan(self, /)\n",
      " |      Return True if the argument is a (quiet or signaling) NaN and False\n",
      " |      otherwise.\n",
      " |  \n",
      " |  is_normal(self, /, context=None)\n",
      " |      Return True if the argument is a normal finite non-zero number with an\n",
      " |      adjusted exponent greater than or equal to Emin. Return False if the\n",
      " |      argument is zero, subnormal, infinite or a NaN.\n",
      " |  \n",
      " |  is_qnan(self, /)\n",
      " |      Return True if the argument is a quiet NaN, and False otherwise.\n",
      " |  \n",
      " |  is_signed(self, /)\n",
      " |      Return True if the argument has a negative sign and False otherwise.\n",
      " |      Note that both zeros and NaNs can carry signs.\n",
      " |  \n",
      " |  is_snan(self, /)\n",
      " |      Return True if the argument is a signaling NaN and False otherwise.\n",
      " |  \n",
      " |  is_subnormal(self, /, context=None)\n",
      " |      Return True if the argument is subnormal, and False otherwise. A number is\n",
      " |      subnormal if it is non-zero, finite, and has an adjusted exponent less\n",
      " |      than Emin.\n",
      " |  \n",
      " |  is_zero(self, /)\n",
      " |      Return True if the argument is a (positive or negative) zero and False\n",
      " |      otherwise.\n",
      " |  \n",
      " |  ln(self, /, context=None)\n",
      " |      Return the natural (base e) logarithm of the operand. The function always\n",
      " |      uses the ROUND_HALF_EVEN mode and the result is correctly rounded.\n",
      " |  \n",
      " |  log10(self, /, context=None)\n",
      " |      Return the base ten logarithm of the operand. The function always uses the\n",
      " |      ROUND_HALF_EVEN mode and the result is correctly rounded.\n",
      " |  \n",
      " |  logb(self, /, context=None)\n",
      " |      For a non-zero number, return the adjusted exponent of the operand as a\n",
      " |      Decimal instance.  If the operand is a zero, then Decimal('-Infinity') is\n",
      " |      returned and the DivisionByZero condition is raised. If the operand is\n",
      " |      an infinity then Decimal('Infinity') is returned.\n",
      " |  \n",
      " |  logical_and(self, /, other, context=None)\n",
      " |      Return the digit-wise 'and' of the two (logical) operands.\n",
      " |  \n",
      " |  logical_invert(self, /, context=None)\n",
      " |      Return the digit-wise inversion of the (logical) operand.\n",
      " |  \n",
      " |  logical_or(self, /, other, context=None)\n",
      " |      Return the digit-wise 'or' of the two (logical) operands.\n",
      " |  \n",
      " |  logical_xor(self, /, other, context=None)\n",
      " |      Return the digit-wise 'exclusive or' of the two (logical) operands.\n",
      " |  \n",
      " |  max(self, /, other, context=None)\n",
      " |      Maximum of self and other.  If one operand is a quiet NaN and the other is\n",
      " |      numeric, the numeric operand is returned.\n",
      " |  \n",
      " |  max_mag(self, /, other, context=None)\n",
      " |      Similar to the max() method, but the comparison is done using the absolute\n",
      " |      values of the operands.\n",
      " |  \n",
      " |  min(self, /, other, context=None)\n",
      " |      Minimum of self and other. If one operand is a quiet NaN and the other is\n",
      " |      numeric, the numeric operand is returned.\n",
      " |  \n",
      " |  min_mag(self, /, other, context=None)\n",
      " |      Similar to the min() method, but the comparison is done using the absolute\n",
      " |      values of the operands.\n",
      " |  \n",
      " |  next_minus(self, /, context=None)\n",
      " |      Return the largest number representable in the given context (or in the\n",
      " |      current default context if no context is given) that is smaller than the\n",
      " |      given operand.\n",
      " |  \n",
      " |  next_plus(self, /, context=None)\n",
      " |      Return the smallest number representable in the given context (or in the\n",
      " |      current default context if no context is given) that is larger than the\n",
      " |      given operand.\n",
      " |  \n",
      " |  next_toward(self, /, other, context=None)\n",
      " |      If the two operands are unequal, return the number closest to the first\n",
      " |      operand in the direction of the second operand.  If both operands are\n",
      " |      numerically equal, return a copy of the first operand with the sign set\n",
      " |      to be the same as the sign of the second operand.\n",
      " |  \n",
      " |  normalize(self, /, context=None)\n",
      " |      Normalize the number by stripping the rightmost trailing zeros and\n",
      " |      converting any result equal to Decimal('0') to Decimal('0e0').  Used\n",
      " |      for producing canonical values for members of an equivalence class.\n",
      " |      For example, Decimal('32.100') and Decimal('0.321000e+2') both normalize\n",
      " |      to the equivalent value Decimal('32.1').\n",
      " |  \n",
      " |  number_class(self, /, context=None)\n",
      " |      Return a string describing the class of the operand.  The returned value\n",
      " |      is one of the following ten strings:\n",
      " |      \n",
      " |          * '-Infinity', indicating that the operand is negative infinity.\n",
      " |          * '-Normal', indicating that the operand is a negative normal number.\n",
      " |          * '-Subnormal', indicating that the operand is negative and subnormal.\n",
      " |          * '-Zero', indicating that the operand is a negative zero.\n",
      " |          * '+Zero', indicating that the operand is a positive zero.\n",
      " |          * '+Subnormal', indicating that the operand is positive and subnormal.\n",
      " |          * '+Normal', indicating that the operand is a positive normal number.\n",
      " |          * '+Infinity', indicating that the operand is positive infinity.\n",
      " |          * 'NaN', indicating that the operand is a quiet NaN (Not a Number).\n",
      " |          * 'sNaN', indicating that the operand is a signaling NaN.\n",
      " |  \n",
      " |  quantize(self, /, exp, rounding=None, context=None)\n",
      " |      Return a value equal to the first operand after rounding and having the\n",
      " |      exponent of the second operand.\n",
      " |      \n",
      " |          >>> Decimal('1.41421356').quantize(Decimal('1.000'))\n",
      " |          Decimal('1.414')\n",
      " |      \n",
      " |      Unlike other operations, if the length of the coefficient after the quantize\n",
      " |      operation would be greater than precision, then an InvalidOperation is signaled.\n",
      " |      This guarantees that, unless there is an error condition, the quantized exponent\n",
      " |      is always equal to that of the right-hand operand.\n",
      " |      \n",
      " |      Also unlike other operations, quantize never signals Underflow, even if the\n",
      " |      result is subnormal and inexact.\n",
      " |      \n",
      " |      If the exponent of the second operand is larger than that of the first, then\n",
      " |      rounding may be necessary. In this case, the rounding mode is determined by the\n",
      " |      rounding argument if given, else by the given context argument; if neither\n",
      " |      argument is given, the rounding mode of the current thread's context is used.\n",
      " |  \n",
      " |  radix(self, /)\n",
      " |      Return Decimal(10), the radix (base) in which the Decimal class does\n",
      " |      all its arithmetic. Included for compatibility with the specification.\n",
      " |  \n",
      " |  remainder_near(self, /, other, context=None)\n",
      " |      Return the remainder from dividing self by other.  This differs from\n",
      " |      self % other in that the sign of the remainder is chosen so as to minimize\n",
      " |      its absolute value. More precisely, the return value is self - n * other\n",
      " |      where n is the integer nearest to the exact value of self / other, and\n",
      " |      if two integers are equally near then the even one is chosen.\n",
      " |      \n",
      " |      If the result is zero then its sign will be the sign of self.\n",
      " |  \n",
      " |  rotate(self, /, other, context=None)\n",
      " |      Return the result of rotating the digits of the first operand by an amount\n",
      " |      specified by the second operand.  The second operand must be an integer in\n",
      " |      the range -precision through precision. The absolute value of the second\n",
      " |      operand gives the number of places to rotate. If the second operand is\n",
      " |      positive then rotation is to the left; otherwise rotation is to the right.\n",
      " |      The coefficient of the first operand is padded on the left with zeros to\n",
      " |      length precision if necessary. The sign and exponent of the first operand are\n",
      " |      unchanged.\n",
      " |  \n",
      " |  same_quantum(self, /, other, context=None)\n",
      " |      Test whether self and other have the same exponent or whether both are NaN.\n",
      " |      \n",
      " |      This operation is unaffected by context and is quiet: no flags are changed\n",
      " |      and no rounding is performed. As an exception, the C version may raise\n",
      " |      InvalidOperation if the second operand cannot be converted exactly.\n",
      " |  \n",
      " |  scaleb(self, /, other, context=None)\n",
      " |      Return the first operand with the exponent adjusted the second.  Equivalently,\n",
      " |      return the first operand multiplied by 10**other. The second operand must be\n",
      " |      an integer.\n",
      " |  \n",
      " |  shift(self, /, other, context=None)\n",
      " |      Return the result of shifting the digits of the first operand by an amount\n",
      " |      specified by the second operand.  The second operand must be an integer in\n",
      " |      the range -precision through precision. The absolute value of the second\n",
      " |      operand gives the number of places to shift. If the second operand is\n",
      " |      positive, then the shift is to the left; otherwise the shift is to the\n",
      " |      right. Digits shifted into the coefficient are zeros. The sign and exponent\n",
      " |      of the first operand are unchanged.\n",
      " |  \n",
      " |  sqrt(self, /, context=None)\n",
      " |      Return the square root of the argument to full precision. The result is\n",
      " |      correctly rounded using the ROUND_HALF_EVEN rounding mode.\n",
      " |  \n",
      " |  to_eng_string(self, /, context=None)\n",
      " |      Convert to an engineering-type string.  Engineering notation has an exponent\n",
      " |      which is a multiple of 3, so there are up to 3 digits left of the decimal\n",
      " |      place. For example, Decimal('123E+1') is converted to Decimal('1.23E+3').\n",
      " |      \n",
      " |      The value of context.capitals determines whether the exponent sign is lower\n",
      " |      or upper case. Otherwise, the context does not affect the operation.\n",
      " |  \n",
      " |  to_integral(self, /, rounding=None, context=None)\n",
      " |      Identical to the to_integral_value() method.  The to_integral() name has been\n",
      " |      kept for compatibility with older versions.\n",
      " |  \n",
      " |  to_integral_exact(self, /, rounding=None, context=None)\n",
      " |      Round to the nearest integer, signaling Inexact or Rounded as appropriate if\n",
      " |      rounding occurs.  The rounding mode is determined by the rounding parameter\n",
      " |      if given, else by the given context. If neither parameter is given, then the\n",
      " |      rounding mode of the current default context is used.\n",
      " |  \n",
      " |  to_integral_value(self, /, rounding=None, context=None)\n",
      " |      Round to the nearest integer without signaling Inexact or Rounded.  The\n",
      " |      rounding mode is determined by the rounding parameter if given, else by\n",
      " |      the given context. If neither parameter is given, then the rounding mode\n",
      " |      of the current default context is used.\n",
      " |  \n",
      " |  ----------------------------------------------------------------------\n",
      " |  Class methods defined here:\n",
      " |  \n",
      " |  from_float(f, /) from builtins.type\n",
      " |      Class method that converts a float to a decimal number, exactly.\n",
      " |      Since 0.1 is not exactly representable in binary floating point,\n",
      " |      Decimal.from_float(0.1) is not the same as Decimal('0.1').\n",
      " |      \n",
      " |          >>> Decimal.from_float(0.1)\n",
      " |          Decimal('0.1000000000000000055511151231257827021181583404541015625')\n",
      " |          >>> Decimal.from_float(float('nan'))\n",
      " |          Decimal('NaN')\n",
      " |          >>> Decimal.from_float(float('inf'))\n",
      " |          Decimal('Infinity')\n",
      " |          >>> Decimal.from_float(float('-inf'))\n",
      " |          Decimal('-Infinity')\n",
      " |  \n",
      " |  ----------------------------------------------------------------------\n",
      " |  Static methods defined here:\n",
      " |  \n",
      " |  __new__(*args, **kwargs) from builtins.type\n",
      " |      Create and return a new object.  See help(type) for accurate signature.\n",
      " |  \n",
      " |  ----------------------------------------------------------------------\n",
      " |  Data descriptors defined here:\n",
      " |  \n",
      " |  imag\n",
      " |  \n",
      " |  real\n",
      "\n"
     ]
    }
   ],
   "source": [
    "help(Decimal)"
   ]
  },
  {
   "cell_type": "code",
   "execution_count": 22,
   "metadata": {},
   "outputs": [
    {
     "name": "stdout",
     "output_type": "stream",
     "text": [
      "15.700\n"
     ]
    }
   ],
   "source": [
    "d = Decimal('15.700')\n",
    "print(d)"
   ]
  },
  {
   "cell_type": "code",
   "execution_count": 24,
   "metadata": {},
   "outputs": [
    {
     "name": "stdout",
     "output_type": "stream",
     "text": [
      "15.7\n"
     ]
    }
   ],
   "source": [
    "d2 = d.normalize()\n",
    "print(d2)"
   ]
  },
  {
   "cell_type": "code",
   "execution_count": 25,
   "metadata": {},
   "outputs": [
    {
     "name": "stdout",
     "output_type": "stream",
     "text": [
      "6.00\n"
     ]
    }
   ],
   "source": [
    "d = Decimal('6.00')\n",
    "print(d)"
   ]
  },
  {
   "cell_type": "code",
   "execution_count": 26,
   "metadata": {},
   "outputs": [
    {
     "name": "stdout",
     "output_type": "stream",
     "text": [
      "6\n"
     ]
    }
   ],
   "source": [
    "d2 = d.normalize()\n",
    "print(d2)"
   ]
  },
  {
   "cell_type": "code",
   "execution_count": 27,
   "metadata": {},
   "outputs": [
    {
     "data": {
      "text/plain": [
       "True"
      ]
     },
     "execution_count": 27,
     "metadata": {},
     "output_type": "execute_result"
    }
   ],
   "source": [
    "d == d2"
   ]
  },
  {
   "cell_type": "code",
   "execution_count": 28,
   "metadata": {},
   "outputs": [
    {
     "data": {
      "text/plain": [
       "True"
      ]
     },
     "execution_count": 28,
     "metadata": {},
     "output_type": "execute_result"
    }
   ],
   "source": [
    "d2 = d\n",
    "d = d.normalize()\n",
    "d2 == d"
   ]
  },
  {
   "cell_type": "code",
   "execution_count": 29,
   "metadata": {},
   "outputs": [
    {
     "data": {
      "text/plain": [
       "False"
      ]
     },
     "execution_count": 29,
     "metadata": {},
     "output_type": "execute_result"
    }
   ],
   "source": [
    "d2 is d"
   ]
  },
  {
   "cell_type": "code",
   "execution_count": 30,
   "metadata": {},
   "outputs": [
    {
     "data": {
      "text/plain": [
       "DecimalTuple(sign=0, digits=(1, 5, 0), exponent=-1)"
      ]
     },
     "execution_count": 30,
     "metadata": {},
     "output_type": "execute_result"
    }
   ],
   "source": [
    "d = Decimal('15.0')\n",
    "d.as_tuple()"
   ]
  },
  {
   "cell_type": "code",
   "execution_count": 31,
   "metadata": {},
   "outputs": [
    {
     "name": "stdout",
     "output_type": "stream",
     "text": [
      "3.14\n"
     ]
    }
   ],
   "source": [
    "d = Decimal((0, (3, 1, 4), -2))\n",
    "print(d)"
   ]
  },
  {
   "cell_type": "code",
   "execution_count": 32,
   "metadata": {},
   "outputs": [
    {
     "data": {
      "text/plain": [
       "Context(prec=28, rounding=ROUND_HALF_EVEN, Emin=-999999, Emax=999999, capitals=1, clamp=0, flags=[], traps=[InvalidOperation, DivisionByZero, Overflow])"
      ]
     },
     "execution_count": 32,
     "metadata": {},
     "output_type": "execute_result"
    }
   ],
   "source": [
    "import decimal\n",
    "decimal.getcontext()"
   ]
  },
  {
   "cell_type": "markdown",
   "metadata": {},
   "source": [
    "# 10.5 Decimal 클래스 애플리케이션"
   ]
  },
  {
   "cell_type": "code",
   "execution_count": 33,
   "metadata": {},
   "outputs": [],
   "source": [
    "money_amount = Decimal('1.99')"
   ]
  },
  {
   "cell_type": "code",
   "execution_count": 35,
   "metadata": {},
   "outputs": [
    {
     "name": "stdout",
     "output_type": "stream",
     "text": [
      "Enter amount in dollars and cents (#.##): 1\n",
      "Enter amount in dollars and cents (#.##): 3.00\n",
      "Enter amount in dollars and cents (#.##): 4.50\n",
      "Enter amount in dollars and cents (#.##): 33.003\n",
      "Enter amount in dollars and cents (#.##): 12.404\n",
      "Enter amount in dollars and cents (#.##): \n",
      "The sum of all these amount is: 53.90\n"
     ]
    }
   ],
   "source": [
    "from decimal import Decimal\n",
    "\n",
    "total = Decimal('0.00')\n",
    "while True:\n",
    "    s = input('Enter amount in dollars and cents (#.##): ')\n",
    "    if not s:\n",
    "        break\n",
    "    d = Decimal(s)\n",
    "    d = round(d, 2)\n",
    "    total += d\n",
    "    \n",
    "print('The sum of all these amount is:', total)"
   ]
  }
 ],
 "metadata": {
  "kernelspec": {
   "display_name": "Python 3",
   "language": "python",
   "name": "python3"
  },
  "language_info": {
   "codemirror_mode": {
    "name": "ipython",
    "version": 3
   },
   "file_extension": ".py",
   "mimetype": "text/x-python",
   "name": "python",
   "nbconvert_exporter": "python",
   "pygments_lexer": "ipython3",
   "version": "3.7.6"
  }
 },
 "nbformat": 4,
 "nbformat_minor": 4
}
