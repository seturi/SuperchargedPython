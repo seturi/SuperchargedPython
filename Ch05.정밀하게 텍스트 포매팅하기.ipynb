{
 "cells": [
  {
   "cell_type": "markdown",
   "metadata": {},
   "source": [
    "# 5.1 백분율 기호 연산자(%)를 사용한 포매팅"
   ]
  },
  {
   "cell_type": "code",
   "execution_count": 1,
   "metadata": {},
   "outputs": [
    {
     "name": "stdout",
     "output_type": "stream",
     "text": [
      "25  plus  75  equals  100 .\n"
     ]
    }
   ],
   "source": [
    "a, b ,c = 25, 75, 100\n",
    "print(a, ' plus ', b, ' equals ', c, '.')"
   ]
  },
  {
   "cell_type": "code",
   "execution_count": 2,
   "metadata": {},
   "outputs": [
    {
     "name": "stdout",
     "output_type": "stream",
     "text": [
      "25 plus 75 equals 100\n"
     ]
    }
   ],
   "source": [
    "print(a, ' plus ', b, ' equals ', c, sep='')"
   ]
  },
  {
   "cell_type": "code",
   "execution_count": 3,
   "metadata": {},
   "outputs": [
    {
     "name": "stdout",
     "output_type": "stream",
     "text": [
      "25 plus 75 equals 100.\n"
     ]
    }
   ],
   "source": [
    "print('%d plus %d equals %d.' % (a, b, c))"
   ]
  },
  {
   "cell_type": "code",
   "execution_count": 4,
   "metadata": {},
   "outputs": [
    {
     "data": {
      "text/plain": [
       "'Here is a number: 100'"
      ]
     },
     "execution_count": 4,
     "metadata": {},
     "output_type": "execute_result"
    }
   ],
   "source": [
    "\"Here is a number: %d\" % 100"
   ]
  },
  {
   "cell_type": "code",
   "execution_count": 5,
   "metadata": {},
   "outputs": [
    {
     "name": "stdout",
     "output_type": "stream",
     "text": [
      "The sum is 100\n"
     ]
    }
   ],
   "source": [
    "n = 25 + 75\n",
    "fmt_str = 'The sum is %d'\n",
    "print(fmt_str % n)"
   ]
  },
  {
   "cell_type": "code",
   "execution_count": 6,
   "metadata": {},
   "outputs": [
    {
     "name": "stdout",
     "output_type": "stream",
     "text": [
      "Answers are 10, 20, 30.\n"
     ]
    }
   ],
   "source": [
    "tup = 10, 20, 30\n",
    "print('Answers are %d, %d, %d.' % tup)"
   ]
  }
 ],
 "metadata": {
  "kernelspec": {
   "display_name": "Python 3",
   "language": "python",
   "name": "python3"
  },
  "language_info": {
   "codemirror_mode": {
    "name": "ipython",
    "version": 3
   },
   "file_extension": ".py",
   "mimetype": "text/x-python",
   "name": "python",
   "nbconvert_exporter": "python",
   "pygments_lexer": "ipython3",
   "version": "3.7.6"
  }
 },
 "nbformat": 4,
 "nbformat_minor": 4
}
