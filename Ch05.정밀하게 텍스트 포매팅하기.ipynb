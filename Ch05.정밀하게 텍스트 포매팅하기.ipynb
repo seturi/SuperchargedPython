{
 "cells": [
  {
   "cell_type": "markdown",
   "metadata": {},
   "source": [
    "# 5.1 백분율 기호 연산자(%)를 사용한 포매팅"
   ]
  },
  {
   "cell_type": "code",
   "execution_count": 1,
   "metadata": {},
   "outputs": [
    {
     "name": "stdout",
     "output_type": "stream",
     "text": [
      "25  plus  75  equals  100 .\n"
     ]
    }
   ],
   "source": [
    "a, b ,c = 25, 75, 100\n",
    "print(a, ' plus ', b, ' equals ', c, '.')"
   ]
  },
  {
   "cell_type": "code",
   "execution_count": 2,
   "metadata": {},
   "outputs": [
    {
     "name": "stdout",
     "output_type": "stream",
     "text": [
      "25 plus 75 equals 100\n"
     ]
    }
   ],
   "source": [
    "print(a, ' plus ', b, ' equals ', c, sep='')"
   ]
  },
  {
   "cell_type": "code",
   "execution_count": 3,
   "metadata": {},
   "outputs": [
    {
     "name": "stdout",
     "output_type": "stream",
     "text": [
      "25 plus 75 equals 100.\n"
     ]
    }
   ],
   "source": [
    "print('%d plus %d equals %d.' % (a, b, c))"
   ]
  },
  {
   "cell_type": "code",
   "execution_count": 4,
   "metadata": {},
   "outputs": [
    {
     "data": {
      "text/plain": [
       "'Here is a number: 100'"
      ]
     },
     "execution_count": 4,
     "metadata": {},
     "output_type": "execute_result"
    }
   ],
   "source": [
    "\"Here is a number: %d\" % 100"
   ]
  },
  {
   "cell_type": "code",
   "execution_count": 5,
   "metadata": {},
   "outputs": [
    {
     "name": "stdout",
     "output_type": "stream",
     "text": [
      "The sum is 100\n"
     ]
    }
   ],
   "source": [
    "n = 25 + 75\n",
    "fmt_str = 'The sum is %d'\n",
    "print(fmt_str % n)"
   ]
  },
  {
   "cell_type": "code",
   "execution_count": 6,
   "metadata": {},
   "outputs": [
    {
     "name": "stdout",
     "output_type": "stream",
     "text": [
      "Answers are 10, 20, 30.\n"
     ]
    }
   ],
   "source": [
    "tup = 10, 20, 30\n",
    "print('Answers are %d, %d, %d.' % tup)"
   ]
  },
  {
   "cell_type": "markdown",
   "metadata": {},
   "source": [
    "# 5.2 백분율 기호(%) 포맷 지시자"
   ]
  },
  {
   "cell_type": "code",
   "execution_count": 4,
   "metadata": {},
   "outputs": [
    {
     "name": "stdout",
     "output_type": "stream",
     "text": [
      "The result is f9.\n"
     ]
    }
   ],
   "source": [
    "h1 = int('e9', 16)\n",
    "h2 = int('10', 16)\n",
    "print('The result is %x.' % (h1 + h2))"
   ]
  },
  {
   "cell_type": "code",
   "execution_count": 5,
   "metadata": {},
   "outputs": [
    {
     "name": "stdout",
     "output_type": "stream",
     "text": [
      "The result is 0xf9.\n"
     ]
    }
   ],
   "source": [
    "print('The result is 0x%x.' % (h1 + h2))"
   ]
  },
  {
   "cell_type": "code",
   "execution_count": 6,
   "metadata": {},
   "outputs": [
    {
     "name": "stdout",
     "output_type": "stream",
     "text": [
      "We is Moe, Curly, Larry.\n"
     ]
    }
   ],
   "source": [
    "s = 'We is %s, %s, %s.' % ('Moe', 'Curly', 'Larry')\n",
    "print(s)"
   ]
  },
  {
   "cell_type": "code",
   "execution_count": 7,
   "metadata": {},
   "outputs": [
    {
     "data": {
      "text/plain": [
       "'This is a number: 255   .'"
      ]
     },
     "execution_count": 7,
     "metadata": {},
     "output_type": "execute_result"
    }
   ],
   "source": [
    "'This is a number: %-6d.' % 255"
   ]
  },
  {
   "cell_type": "code",
   "execution_count": 8,
   "metadata": {},
   "outputs": [
    {
     "name": "stdout",
     "output_type": "stream",
     "text": [
      "My name is       John.\n"
     ]
    }
   ],
   "source": [
    "print('My name is %10s.' % 'John')"
   ]
  },
  {
   "cell_type": "code",
   "execution_count": 9,
   "metadata": {},
   "outputs": [
    {
     "name": "stdout",
     "output_type": "stream",
     "text": [
      "Amount is         25.\n",
      "Amount is 00025.\n",
      "Amount is      00025.\n"
     ]
    }
   ],
   "source": [
    "print('Amount is %10d.' % 25)\n",
    "print('Amount is %.5d.' % 25)\n",
    "print('Amount is %10.5d.' % 25)"
   ]
  },
  {
   "cell_type": "code",
   "execution_count": 10,
   "metadata": {},
   "outputs": [
    {
     "name": "stdout",
     "output_type": "stream",
     "text": [
      "result:     3.14000\n",
      "result:   333.14000\n"
     ]
    }
   ],
   "source": [
    "print('result:%12.5f' % 3.14)\n",
    "print('result:%12.5f' % 333.14)"
   ]
  },
  {
   "cell_type": "code",
   "execution_count": 11,
   "metadata": {},
   "outputs": [
    {
     "name": "stdout",
     "output_type": "stream",
     "text": [
      "3.1416\n"
     ]
    }
   ],
   "source": [
    "print('%.4f' % 3.141592)"
   ]
  },
  {
   "cell_type": "code",
   "execution_count": 12,
   "metadata": {},
   "outputs": [
    {
     "data": {
      "text/plain": [
       "'The number is 10.'"
      ]
     },
     "execution_count": 12,
     "metadata": {},
     "output_type": "execute_result"
    }
   ],
   "source": [
    "'The number is %s.' % 10"
   ]
  },
  {
   "cell_type": "code",
   "execution_count": 13,
   "metadata": {},
   "outputs": [
    {
     "data": {
      "text/plain": [
       "'The number is 10.'"
      ]
     },
     "execution_count": 13,
     "metadata": {},
     "output_type": "execute_result"
    }
   ],
   "source": [
    "'The number is %r.' % 10"
   ]
  },
  {
   "cell_type": "code",
   "execution_count": 14,
   "metadata": {},
   "outputs": [
    {
     "data": {
      "text/plain": [
       "\"My name is 'Sam'.\""
      ]
     },
     "execution_count": 14,
     "metadata": {},
     "output_type": "execute_result"
    }
   ],
   "source": [
    "'My name is %r.' % 'Sam'"
   ]
  },
  {
   "cell_type": "code",
   "execution_count": 15,
   "metadata": {},
   "outputs": [
    {
     "data": {
      "text/plain": [
       "'My name is Sam.'"
      ]
     },
     "execution_count": 15,
     "metadata": {},
     "output_type": "execute_result"
    }
   ],
   "source": [
    "'My name is %s.' % 'Sam'"
   ]
  },
  {
   "cell_type": "markdown",
   "metadata": {},
   "source": [
    "# 5.3 백분율 기호(%) 변수 - 너비 출력 필드"
   ]
  },
  {
   "cell_type": "code",
   "execution_count": 16,
   "metadata": {},
   "outputs": [
    {
     "data": {
      "text/plain": [
       "'Here is a number:   6'"
      ]
     },
     "execution_count": 16,
     "metadata": {},
     "output_type": "execute_result"
    }
   ],
   "source": [
    "'Here is a number: %*d' % (3, 6)"
   ]
  },
  {
   "cell_type": "code",
   "execution_count": 17,
   "metadata": {},
   "outputs": [
    {
     "data": {
      "text/plain": [
       "'Item 1:      Bob, Item 2:  Suzanne'"
      ]
     },
     "execution_count": 17,
     "metadata": {},
     "output_type": "execute_result"
    }
   ],
   "source": [
    "'Item 1: %*s, Item 2: %*s' % (8, 'Bob', 8, 'Suzanne')"
   ]
  },
  {
   "cell_type": "code",
   "execution_count": 18,
   "metadata": {},
   "outputs": [
    {
     "data": {
      "text/plain": [
       "'Item 1:      Bob, Item 2:  Suzanne'"
      ]
     },
     "execution_count": 18,
     "metadata": {},
     "output_type": "execute_result"
    }
   ],
   "source": [
    "n = 8\n",
    "'Item 1: %*s, Item 2: %*s' % (n, 'Bob', n, 'Suzanne')"
   ]
  },
  {
   "cell_type": "code",
   "execution_count": 19,
   "metadata": {},
   "outputs": [
    {
     "data": {
      "text/plain": [
       "\"Item 1:     'Bob', Item 2: 'Suzanne'\""
      ]
     },
     "execution_count": 19,
     "metadata": {},
     "output_type": "execute_result"
    }
   ],
   "source": [
    "n = 9\n",
    "'Item 1: %*r, Item 2: %*r' % (n, 'Bob', n, 'Suzanne')"
   ]
  },
  {
   "cell_type": "code",
   "execution_count": 20,
   "metadata": {},
   "outputs": [
    {
     "data": {
      "text/plain": [
       "'   3.142'"
      ]
     },
     "execution_count": 20,
     "metadata": {},
     "output_type": "execute_result"
    }
   ],
   "source": [
    "'%*.*f' % (8, 3, 3.141592)"
   ]
  },
  {
   "cell_type": "markdown",
   "metadata": {},
   "source": [
    "# 5.4 전역 'format'  함수"
   ]
  },
  {
   "cell_type": "code",
   "execution_count": 1,
   "metadata": {},
   "outputs": [
    {
     "data": {
      "text/plain": [
       "'1,000,000,000,000'"
      ]
     },
     "execution_count": 1,
     "metadata": {},
     "output_type": "execute_result"
    }
   ],
   "source": [
    "big_n = 10 ** 12\n",
    "format(big_n, ',')"
   ]
  },
  {
   "cell_type": "code",
   "execution_count": 2,
   "metadata": {},
   "outputs": [
    {
     "name": "stdout",
     "output_type": "stream",
     "text": [
      "150,000,000\n"
     ]
    }
   ],
   "source": [
    "n = 150000000\n",
    "print(format(n, ','))"
   ]
  },
  {
   "cell_type": "code",
   "execution_count": 3,
   "metadata": {},
   "outputs": [
    {
     "data": {
      "text/plain": [
       "'Bob       '"
      ]
     },
     "execution_count": 3,
     "metadata": {},
     "output_type": "execute_result"
    }
   ],
   "source": [
    "format('Bob', '10')"
   ]
  },
  {
   "cell_type": "code",
   "execution_count": 4,
   "metadata": {},
   "outputs": [
    {
     "data": {
      "text/plain": [
       "'Suzie  '"
      ]
     },
     "execution_count": 4,
     "metadata": {},
     "output_type": "execute_result"
    }
   ],
   "source": [
    "format('Suzie', '7')"
   ]
  },
  {
   "cell_type": "code",
   "execution_count": 6,
   "metadata": {},
   "outputs": [
    {
     "data": {
      "text/plain": [
       "'     150'"
      ]
     },
     "execution_count": 6,
     "metadata": {},
     "output_type": "execute_result"
    }
   ],
   "source": [
    "format(150, '8')"
   ]
  },
  {
   "cell_type": "code",
   "execution_count": 7,
   "metadata": {},
   "outputs": [
    {
     "data": {
      "text/plain": [
       "'   99'"
      ]
     },
     "execution_count": 7,
     "metadata": {},
     "output_type": "execute_result"
    }
   ],
   "source": [
    "format(99, '5')"
   ]
  },
  {
   "cell_type": "code",
   "execution_count": 8,
   "metadata": {},
   "outputs": [
    {
     "data": {
      "text/plain": [
       "'Bob   '"
      ]
     },
     "execution_count": 8,
     "metadata": {},
     "output_type": "execute_result"
    }
   ],
   "source": [
    "format('Bobby K', '6.3')"
   ]
  },
  {
   "cell_type": "code",
   "execution_count": 9,
   "metadata": {},
   "outputs": [
    {
     "data": {
      "text/plain": [
       "'  3.14'"
      ]
     },
     "execution_count": 9,
     "metadata": {},
     "output_type": "execute_result"
    }
   ],
   "source": [
    "format(3.141592, '6.3')"
   ]
  },
  {
   "cell_type": "code",
   "execution_count": 10,
   "metadata": {},
   "outputs": [
    {
     "data": {
      "text/plain": [
       "'    3.142'"
      ]
     },
     "execution_count": 10,
     "metadata": {},
     "output_type": "execute_result"
    }
   ],
   "source": [
    "format(3.141592, ' 9.3f')"
   ]
  },
  {
   "cell_type": "code",
   "execution_count": 11,
   "metadata": {},
   "outputs": [
    {
     "data": {
      "text/plain": [
       "'  100.700'"
      ]
     },
     "execution_count": 11,
     "metadata": {},
     "output_type": "execute_result"
    }
   ],
   "source": [
    "format(100.7, '9.3f')"
   ]
  },
  {
   "cell_type": "markdown",
   "metadata": {},
   "source": [
    "# 5.5 format 메서드 소개"
   ]
  },
  {
   "cell_type": "code",
   "execution_count": 12,
   "metadata": {},
   "outputs": [
    {
     "name": "stdout",
     "output_type": "stream",
     "text": [
      "25 plus 75 equals 100.\n"
     ]
    }
   ],
   "source": [
    "print('{} plus {} equals {}.'.format(25, 75, 100))"
   ]
  },
  {
   "cell_type": "code",
   "execution_count": 13,
   "metadata": {},
   "outputs": [
    {
     "name": "stdout",
     "output_type": "stream",
     "text": [
      "Pytagoras said, I want 2 slices of 3.141592.\n"
     ]
    }
   ],
   "source": [
    "fss = '{} said, I want {} slices of {}.'\n",
    "\n",
    "name = 'Pytagoras'\n",
    "pi = 3.141592\n",
    "print(fss.format(name, 2, pi))"
   ]
  },
  {
   "cell_type": "code",
   "execution_count": 14,
   "metadata": {},
   "outputs": [
    {
     "name": "stdout",
     "output_type": "stream",
     "text": [
      "Set = {1, 2}\n"
     ]
    }
   ],
   "source": [
    "print('Set = {{{}, {}}}'.format(1, 2))"
   ]
  },
  {
   "cell_type": "code",
   "execution_count": 15,
   "metadata": {},
   "outputs": [
    {
     "name": "stdout",
     "output_type": "stream",
     "text": [
      "Set = { 15, 35, 25 }\n"
     ]
    }
   ],
   "source": [
    "fss = 'Set = {{ {}, {}, {} }}'\n",
    "print(fss.format(15, 35, 25))"
   ]
  },
  {
   "cell_type": "markdown",
   "metadata": {},
   "source": [
    "# 5.6 위치로 순서 정하기(이름 혹은 색인)"
   ]
  },
  {
   "cell_type": "code",
   "execution_count": 16,
   "metadata": {},
   "outputs": [
    {
     "name": "stdout",
     "output_type": "stream",
     "text": [
      "10; 20; 30!\n"
     ]
    }
   ],
   "source": [
    "print('{}; {}; {}!'.format(10, 20, 30))"
   ]
  },
  {
   "cell_type": "code",
   "execution_count": 17,
   "metadata": {},
   "outputs": [
    {
     "name": "stdout",
     "output_type": "stream",
     "text": [
      "The items are 30, 20, 10.\n"
     ]
    }
   ],
   "source": [
    "print('The items are {2}, {1}, {0}.'.format(10, 20, 30))"
   ]
  },
  {
   "cell_type": "code",
   "execution_count": 18,
   "metadata": {},
   "outputs": [
    {
     "name": "stdout",
     "output_type": "stream",
     "text": [
      "The items are 40, 20, 10\n"
     ]
    }
   ],
   "source": [
    "fss = 'The items are {3}, {1}, {0}'\n",
    "print(fss.format(10, 20, 30, 40))"
   ]
  },
  {
   "cell_type": "code",
   "execution_count": 19,
   "metadata": {},
   "outputs": [
    {
     "name": "stdout",
     "output_type": "stream",
     "text": [
      "a equals 10, b equals 50, c equals 100\n"
     ]
    }
   ],
   "source": [
    "fss = 'a equals {a}, b equals {b}, c equals {c}'\n",
    "print(fss.format(a=10, c=100, b=50))"
   ]
  },
  {
   "cell_type": "code",
   "execution_count": 20,
   "metadata": {},
   "outputs": [
    {
     "name": "stdout",
     "output_type": "stream",
     "text": [
      "100, 100, 200, 200\n"
     ]
    }
   ],
   "source": [
    "print('{0}, {0}, {1}, {1}'.format(100, 200))"
   ]
  },
  {
   "cell_type": "code",
   "execution_count": 21,
   "metadata": {},
   "outputs": [
    {
     "data": {
      "text/plain": [
       "'200, 300'"
      ]
     },
     "execution_count": 21,
     "metadata": {},
     "output_type": "execute_result"
    }
   ],
   "source": [
    "a_list = [100, 200, 300]\n",
    "'{0[1]:}, {0[2]:}'.format(a_list)"
   ]
  },
  {
   "cell_type": "code",
   "execution_count": 22,
   "metadata": {},
   "outputs": [
    {
     "data": {
      "text/plain": [
       "'200, 300'"
      ]
     },
     "execution_count": 22,
     "metadata": {},
     "output_type": "execute_result"
    }
   ],
   "source": [
    "'{a[1]:}, {a[2]:}'.format(a=a_list)"
   ]
  },
  {
   "cell_type": "code",
   "execution_count": 23,
   "metadata": {},
   "outputs": [
    {
     "name": "stdout",
     "output_type": "stream",
     "text": [
      "한국어를 원하면 KRW를 입력하세요:KRW\n",
      "Fred가 Joe에서 Sam을 만나는게 언제지?\n"
     ]
    }
   ],
   "source": [
    "current_lang = input('한국어를 원하면 KRW를 입력하세요:')\n",
    "\n",
    "if current_lang == 'KRW':\n",
    "    fss = '{0}가 {2}에서 {1}을 만나는게 언제지?'\n",
    "else:\n",
    "    fss = \"When will {0} meet {1} at {2}'s?\"\n",
    "print(fss.format('Fred', 'Sam', 'Joe'))"
   ]
  },
  {
   "cell_type": "markdown",
   "metadata": {},
   "source": [
    "# 5.7 'repr' vs 문자열 변환"
   ]
  },
  {
   "cell_type": "code",
   "execution_count": 24,
   "metadata": {},
   "outputs": [
    {
     "name": "stdout",
     "output_type": "stream",
     "text": [
      "10\n",
      "10\n",
      "10\n"
     ]
    }
   ],
   "source": [
    "print(10)\n",
    "print(str(10))\n",
    "print(repr(10))"
   ]
  },
  {
   "cell_type": "code",
   "execution_count": 25,
   "metadata": {},
   "outputs": [
    {
     "name": "stdout",
     "output_type": "stream",
     "text": [
      "Here is a \n",
      " new line!\n"
     ]
    }
   ],
   "source": [
    "test_str = 'Here is a \\n new line!'\n",
    "print(test_str)"
   ]
  },
  {
   "cell_type": "code",
   "execution_count": 26,
   "metadata": {},
   "outputs": [
    {
     "name": "stdout",
     "output_type": "stream",
     "text": [
      "'Here is a \\n new line!'\n"
     ]
    }
   ],
   "source": [
    "print(repr(test_str))"
   ]
  },
  {
   "cell_type": "code",
   "execution_count": 27,
   "metadata": {},
   "outputs": [
    {
     "name": "stdout",
     "output_type": "stream",
     "text": [
      "Here is a \n",
      " new line!\n"
     ]
    }
   ],
   "source": [
    "print('{}'.format(test_str))"
   ]
  },
  {
   "cell_type": "code",
   "execution_count": 28,
   "metadata": {},
   "outputs": [
    {
     "name": "stdout",
     "output_type": "stream",
     "text": [
      "'Here is a \\n new line!'\n"
     ]
    }
   ],
   "source": [
    "print('{!r}'.format(test_str))"
   ]
  },
  {
   "cell_type": "code",
   "execution_count": 29,
   "metadata": {},
   "outputs": [
    {
     "name": "stdout",
     "output_type": "stream",
     "text": [
      "'ChaCha' loves 'Joanie'\n"
     ]
    }
   ],
   "source": [
    "print('{1!r} loves {0!r}'.format('Joanie', 'ChaCha'))"
   ]
  },
  {
   "cell_type": "markdown",
   "metadata": {},
   "source": [
    "# 5.8 'format' 함수와 메서드의 '사양' 필드"
   ]
  },
  {
   "cell_type": "code",
   "execution_count": 1,
   "metadata": {},
   "outputs": [],
   "source": [
    "s = format(32.3, '<+08.3f')"
   ]
  },
  {
   "cell_type": "markdown",
   "metadata": {},
   "source": [
    "## 5.8.1 출력-필드 너비"
   ]
  },
  {
   "cell_type": "code",
   "execution_count": 2,
   "metadata": {},
   "outputs": [
    {
     "name": "stdout",
     "output_type": "stream",
     "text": [
      "**       777**999**\n"
     ]
    }
   ],
   "source": [
    "n1, n2 = 777, 999\n",
    "print('**{:10}**{:2}**'.format(n1, n2))"
   ]
  },
  {
   "cell_type": "code",
   "execution_count": 3,
   "metadata": {},
   "outputs": [
    {
     "name": "stdout",
     "output_type": "stream",
     "text": [
      "'ChaCha'   loves 'Joanie'  !!\n"
     ]
    }
   ],
   "source": [
    "fss = '{1!r:10} loves {0!r:10}!!'\n",
    "print(fss.format('Joanie', 'ChaCha'))"
   ]
  },
  {
   "cell_type": "markdown",
   "metadata": {},
   "source": [
    "## 5.8.2 텍스트 조정: '채우기'와 '자리 맞춤' 문자"
   ]
  },
  {
   "cell_type": "code",
   "execution_count": 4,
   "metadata": {},
   "outputs": [
    {
     "name": "stdout",
     "output_type": "stream",
     "text": [
      "----Hey Bill G, pick me!\n"
     ]
    }
   ],
   "source": [
    "print('{:->24}'.format('Hey Bill G, pick me!'))"
   ]
  },
  {
   "cell_type": "code",
   "execution_count": 5,
   "metadata": {},
   "outputs": [
    {
     "name": "stdout",
     "output_type": "stream",
     "text": [
      "    Tom\n",
      "@@@Lady\n",
      "***Bill\n"
     ]
    }
   ],
   "source": [
    "print('{:>7}'.format('Tom'))\n",
    "print('{:@>7}'.format('Lady'))\n",
    "print('{:*>7}'.format('Bill'))"
   ]
  },
  {
   "cell_type": "code",
   "execution_count": 6,
   "metadata": {},
   "outputs": [
    {
     "name": "stdout",
     "output_type": "stream",
     "text": [
      "Tom    \n",
      "Lady@@@\n",
      "Bill***\n"
     ]
    }
   ],
   "source": [
    "print('{:<7}'.format('Tom'))\n",
    "print('{:@<7}'.format('Lady'))\n",
    "print('{:*<7}'.format('Bill'))"
   ]
  },
  {
   "cell_type": "code",
   "execution_count": 8,
   "metadata": {},
   "outputs": [
    {
     "name": "stdout",
     "output_type": "stream",
     "text": [
      "   Tom    \n",
      "@@@Lady@@@\n",
      "***Bill***\n"
     ]
    }
   ],
   "source": [
    "print('{:^10}'.format('Tom'))\n",
    "print('{:@^10}'.format('Lady'))\n",
    "print('{:*^10}'.format('Bill'))"
   ]
  },
  {
   "cell_type": "code",
   "execution_count": 10,
   "metadata": {},
   "outputs": [
    {
     "name": "stdout",
     "output_type": "stream",
     "text": [
      "-   1250\n",
      "-0001250\n"
     ]
    }
   ],
   "source": [
    "print('{:=8}'.format(-1250))\n",
    "print('{:0=8}'.format(-1250))"
   ]
  },
  {
   "cell_type": "markdown",
   "metadata": {},
   "source": [
    "## 5.8.3 '기호' 문자"
   ]
  },
  {
   "cell_type": "code",
   "execution_count": 12,
   "metadata": {},
   "outputs": [
    {
     "name": "stdout",
     "output_type": "stream",
     "text": [
      "results> 25, +25, 25\n"
     ]
    }
   ],
   "source": [
    "print('results>{: }, {:+}, {:-}'.format(25, 25, 25))"
   ]
  },
  {
   "cell_type": "code",
   "execution_count": 13,
   "metadata": {},
   "outputs": [
    {
     "name": "stdout",
     "output_type": "stream",
     "text": [
      "results>-25, -25, -25\n"
     ]
    }
   ],
   "source": [
    "print('results>{: }, {:+}, {:-}'.format(-25, -25, -25))"
   ]
  },
  {
   "cell_type": "markdown",
   "metadata": {},
   "source": [
    "## 5.8.4 0으로 시작하는 문자(0)"
   ]
  },
  {
   "cell_type": "code",
   "execution_count": 16,
   "metadata": {},
   "outputs": [
    {
     "name": "stdout",
     "output_type": "stream",
     "text": [
      "0000125 0000025156.\n"
     ]
    }
   ],
   "source": [
    "i, j = 125, 25156\n",
    "print('{:07} {:010}.'.format(i, j)) "
   ]
  },
  {
   "cell_type": "code",
   "execution_count": 17,
   "metadata": {},
   "outputs": [
    {
     "name": "stdout",
     "output_type": "stream",
     "text": [
      "00000375\n"
     ]
    }
   ],
   "source": [
    "print('{:08}'.format(375))"
   ]
  },
  {
   "cell_type": "code",
   "execution_count": 18,
   "metadata": {},
   "outputs": [],
   "source": [
    "fss = '{:0>7} {:0>10}'"
   ]
  },
  {
   "cell_type": "code",
   "execution_count": 19,
   "metadata": {},
   "outputs": [
    {
     "name": "stdout",
     "output_type": "stream",
     "text": [
      "0000000+25 +000000025\n"
     ]
    }
   ],
   "source": [
    "print('{:0>+10} {:+010}'.format(25, 25))"
   ]
  },
  {
   "cell_type": "markdown",
   "metadata": {},
   "source": [
    "## 5.8.5 천 단위 위치 구분자"
   ]
  },
  {
   "cell_type": "code",
   "execution_count": 22,
   "metadata": {},
   "outputs": [
    {
     "name": "stdout",
     "output_type": "stream",
     "text": [
      "The USA owes 21,000,000,000,000 dollars.\n",
      "The sun is 93,000,000 miles away.\n"
     ]
    }
   ],
   "source": [
    "fss1 = 'The USA owes {:,} dollars.'\n",
    "print(fss1.format(21000000000000))\n",
    "fss2 = 'The sun is {:,} miles away.'\n",
    "print(fss2.format(93000000))"
   ]
  },
  {
   "cell_type": "code",
   "execution_count": 23,
   "metadata": {},
   "outputs": [
    {
     "name": "stdout",
     "output_type": "stream",
     "text": [
      "The amount on the check was $***4,500,000\n"
     ]
    }
   ],
   "source": [
    "n = 4500000\n",
    "print('The amount on the check was ${:*>12,}'.format(n))"
   ]
  },
  {
   "cell_type": "code",
   "execution_count": 24,
   "metadata": {},
   "outputs": [
    {
     "name": "stdout",
     "output_type": "stream",
     "text": [
      "The amount is 000,013,000\n"
     ]
    }
   ],
   "source": [
    "print('The amount is {:011,}'.format(13000))"
   ]
  },
  {
   "cell_type": "code",
   "execution_count": 25,
   "metadata": {},
   "outputs": [
    {
     "name": "stdout",
     "output_type": "stream",
     "text": [
      "The amount is 0,000,013,000\n"
     ]
    }
   ],
   "source": [
    "n = 13000\n",
    "print('The amount is {:012,}'.format(n))"
   ]
  },
  {
   "cell_type": "code",
   "execution_count": 26,
   "metadata": {},
   "outputs": [
    {
     "name": "stdout",
     "output_type": "stream",
     "text": [
      "The amount is 0000013,000\n"
     ]
    }
   ],
   "source": [
    "print('The amount is {:0>11,}'.format(n))"
   ]
  },
  {
   "cell_type": "markdown",
   "metadata": {},
   "source": [
    "## 5.8.6 정밀도 제어"
   ]
  },
  {
   "cell_type": "code",
   "execution_count": 27,
   "metadata": {},
   "outputs": [
    {
     "name": "stdout",
     "output_type": "stream",
     "text": [
      "3.1 + 1.6 = 4.8\n"
     ]
    }
   ],
   "source": [
    "pi = 3.14159265\n",
    "phi = 1.618\n",
    "\n",
    "fss = '{:.2} + {:.2} = {:.2}'\n",
    "print(fss.format(pi, phi, pi + phi))"
   ]
  },
  {
   "cell_type": "code",
   "execution_count": 28,
   "metadata": {},
   "outputs": [
    {
     "name": "stdout",
     "output_type": "stream",
     "text": [
      "3.14 + 1.62 = 4.76\n"
     ]
    }
   ],
   "source": [
    "pi = 3.14159265\n",
    "phi = 1.618\n",
    "\n",
    "fss = '{:.3} + {:.3} = {:.3}'\n",
    "print(fss.format(pi, phi, pi + phi))"
   ]
  },
  {
   "cell_type": "code",
   "execution_count": 29,
   "metadata": {},
   "outputs": [
    {
     "name": "stdout",
     "output_type": "stream",
     "text": [
      "     22.100\n",
      "   1000.007\n"
     ]
    }
   ],
   "source": [
    "fss = ' {:10.3f}\\n {:10.3f}'\n",
    "print(fss.format(22.1, 1000.007))"
   ]
  },
  {
   "cell_type": "code",
   "execution_count": 30,
   "metadata": {},
   "outputs": [
    {
     "name": "stdout",
     "output_type": "stream",
     "text": [
      " 22,333.100\n",
      "  1,000.007\n"
     ]
    }
   ],
   "source": [
    "fss = ' {:10,.3f}\\n {:10,.3f}'\n",
    "print(fss.format(22333.1, 1000.007))"
   ]
  },
  {
   "cell_type": "code",
   "execution_count": 32,
   "metadata": {},
   "outputs": [
    {
     "name": "stdout",
     "output_type": "stream",
     "text": [
      "      22.70\n",
      "       3.14\n",
      "     555.50\n",
      "      29.00\n",
      "    1010.01\n"
     ]
    }
   ],
   "source": [
    "fss = ' {:10.2f}'\n",
    "for x in [22.7, 3.1415, 555.5, 29, 1010.013]:\n",
    "    print(fss.format(x))"
   ]
  },
  {
   "cell_type": "markdown",
   "metadata": {},
   "source": [
    "## 5.8.7 문자열에서 사용한 '정밀도(잘라내기)'"
   ]
  },
  {
   "cell_type": "code",
   "execution_count": 33,
   "metadata": {},
   "outputs": [
    {
     "name": "stdout",
     "output_type": "stream",
     "text": [
      "Super\n",
      "Excel\n",
      "Sam\n"
     ]
    }
   ],
   "source": [
    "print('{:.5}'.format('Superannuated.'))\n",
    "print('{:.5}'.format('Excellent!'))\n",
    "print('{:.5}'.format('Sam'))"
   ]
  },
  {
   "cell_type": "code",
   "execution_count": 35,
   "metadata": {},
   "outputs": [
    {
     "name": "stdout",
     "output_type": "stream",
     "text": [
      "Tom***\n",
      "Mike**\n",
      "Rodney\n",
      "Hannib\n",
      "Mortim\n"
     ]
    }
   ],
   "source": [
    "fss = '{:*<6.6}'\n",
    "print(fss.format('Tom'))\n",
    "print(fss.format('Mike'))\n",
    "print(fss.format('Rodney'))\n",
    "print(fss.format('Hannibal'))\n",
    "print(fss.format('Mortimer'))"
   ]
  },
  {
   "cell_type": "code",
   "execution_count": 36,
   "metadata": {},
   "outputs": [
    {
     "name": "stdout",
     "output_type": "stream",
     "text": [
      "Tom***\n",
      "Mike**\n",
      "Rodney\n",
      "Hannib\n",
      "Mortim\n"
     ]
    }
   ],
   "source": [
    "print(format('Tom', '*<6.6'))\n",
    "print(format('Mike', '*<6.6'))\n",
    "print(format('Rodney', '*<6.6'))\n",
    "print(format('Hannibal', '*<6.6'))\n",
    "print(format('Mortimer', '*<6.6'))"
   ]
  },
  {
   "cell_type": "markdown",
   "metadata": {},
   "source": [
    "## 5.8.9 이진수 출력하기"
   ]
  },
  {
   "cell_type": "code",
   "execution_count": 37,
   "metadata": {},
   "outputs": [
    {
     "name": "stdout",
     "output_type": "stream",
     "text": [
      "101 110 10000\n"
     ]
    }
   ],
   "source": [
    "print('{:b} {:b} {:b}'.format(5, 6, 16))"
   ]
  },
  {
   "cell_type": "code",
   "execution_count": 38,
   "metadata": {},
   "outputs": [
    {
     "name": "stdout",
     "output_type": "stream",
     "text": [
      "0b111\n"
     ]
    }
   ],
   "source": [
    "print('{:#b}'.format(7))"
   ]
  },
  {
   "cell_type": "markdown",
   "metadata": {},
   "source": [
    "## 5.8.10 8진수와 16진수 출력하기"
   ]
  },
  {
   "cell_type": "code",
   "execution_count": 41,
   "metadata": {},
   "outputs": [
    {
     "name": "stdout",
     "output_type": "stream",
     "text": [
      "77, 3f, 3F\n",
      "77, 3f, 3F\n"
     ]
    }
   ],
   "source": [
    "print('{:o}, {:x}, {:X}'.format(63, 63, 63))\n",
    "print('{0:o}, {0:x}, {0:X}'.format(63))"
   ]
  },
  {
   "cell_type": "code",
   "execution_count": 42,
   "metadata": {},
   "outputs": [
    {
     "name": "stdout",
     "output_type": "stream",
     "text": [
      "0o77, 0x3f, 0X3F\n"
     ]
    }
   ],
   "source": [
    "print('{0:#o}, {0:#x}, {0:#X}'.format(63))"
   ]
  },
  {
   "cell_type": "markdown",
   "metadata": {},
   "source": [
    "## 5.8.11 백분율 출력하기"
   ]
  },
  {
   "cell_type": "code",
   "execution_count": 43,
   "metadata": {},
   "outputs": [
    {
     "name": "stdout",
     "output_type": "stream",
     "text": [
      "You own 51.700000% of the shares.\n"
     ]
    }
   ],
   "source": [
    "print('You own {:%} of the shares.'.format(.517))"
   ]
  },
  {
   "cell_type": "code",
   "execution_count": 44,
   "metadata": {},
   "outputs": [
    {
     "name": "stdout",
     "output_type": "stream",
     "text": [
      "23.10% of 50.00% of 40...\n"
     ]
    }
   ],
   "source": [
    "print('{:.2%} of {:.2%} of 40...'.format(0.231, 0.5))"
   ]
  },
  {
   "cell_type": "markdown",
   "metadata": {},
   "source": [
    "## 5.8.12 이진수 예시"
   ]
  },
  {
   "cell_type": "code",
   "execution_count": 45,
   "metadata": {},
   "outputs": [
    {
     "name": "stdout",
     "output_type": "stream",
     "text": [
      "Enter values in binary only!\n",
      "Enter b1:101\n",
      "Enter b2:1010\n",
      "Total is: 0b1111\n",
      "5 + 10 = 15\n"
     ]
    }
   ],
   "source": [
    "def calc_binary():\n",
    "    print('Enter values in binary only!')\n",
    "    b1 = int(input('Enter b1:'), 2)\n",
    "    b2 = int(input('Enter b2:'), 2)\n",
    "    print('Total is: {:#b}'.format(b1 + b2))\n",
    "    print('{} + {} = {}'.format(b1, b2, b1 + b2))\n",
    "    \n",
    "calc_binary()"
   ]
  }
 ],
 "metadata": {
  "kernelspec": {
   "display_name": "Python 3",
   "language": "python",
   "name": "python3"
  },
  "language_info": {
   "codemirror_mode": {
    "name": "ipython",
    "version": 3
   },
   "file_extension": ".py",
   "mimetype": "text/x-python",
   "name": "python",
   "nbconvert_exporter": "python",
   "pygments_lexer": "ipython3",
   "version": "3.7.6"
  }
 },
 "nbformat": 4,
 "nbformat_minor": 4
}
