{
 "cells": [
  {
   "cell_type": "markdown",
   "metadata": {},
   "source": [
    "# 6.1 정규표현식의 소개"
   ]
  },
  {
   "cell_type": "markdown",
   "metadata": {},
   "source": [
    "```\n",
    "cat    # cat\n",
    "ca+t   # cat, caat, caaat, ...\n",
    "ca\\+t  # ca+t\n",
    "ca*t   # ct, cat, caat, ...\n",
    "```"
   ]
  },
  {
   "cell_type": "markdown",
   "metadata": {},
   "source": [
    "# 6.2 실제 예시: 전화번호"
   ]
  },
  {
   "cell_type": "markdown",
   "metadata": {},
   "source": [
    "```\n",
    "# 000-000-0000\n",
    "\n",
    "\\d\\d\\d-\\d\\d\\d-\\d\\d\\d\\d\n",
    "[0-9]\n",
    "```"
   ]
  },
  {
   "cell_type": "code",
   "execution_count": 3,
   "metadata": {},
   "outputs": [
    {
     "name": "stdout",
     "output_type": "stream",
     "text": [
      "Enter tel. number: 010-123-4567\n",
      "Number accepted.\n"
     ]
    }
   ],
   "source": [
    "import re\n",
    "pattern = r'\\d\\d\\d-\\d\\d\\d-\\d\\d\\d\\d'\n",
    "\n",
    "s = input('Enter tel. number: ')\n",
    "if re.match(pattern, s):\n",
    "    print('Number accepted.')\n",
    "else:\n",
    "    print('Incorrect format')"
   ]
  },
  {
   "cell_type": "markdown",
   "metadata": {},
   "source": [
    "# 6.3 일치 패턴 정제하기"
   ]
  },
  {
   "cell_type": "code",
   "execution_count": 1,
   "metadata": {},
   "outputs": [],
   "source": [
    "pattern = r'\\d\\d\\d-\\d\\d\\d-\\d\\d\\d\\d$'"
   ]
  },
  {
   "cell_type": "code",
   "execution_count": 2,
   "metadata": {},
   "outputs": [],
   "source": [
    "pattern = r'\\d\\d\\d[ -]\\d\\d\\d[ -]\\d\\d\\d\\d$'"
   ]
  },
  {
   "cell_type": "code",
   "execution_count": 3,
   "metadata": {},
   "outputs": [
    {
     "name": "stdout",
     "output_type": "stream",
     "text": [
      "Enter tel. number010 123 1234\n",
      "Number accepted.\n"
     ]
    }
   ],
   "source": [
    "import re\n",
    "pattern = r'\\d\\d\\d[ -]\\d\\d\\d[ -]\\d\\d\\d\\d$'\n",
    "\n",
    "s = input('Enter tel. number')\n",
    "if re.match(pattern, s):\n",
    "    print('Number accepted.')\n",
    "else:\n",
    "    print('Incorrect format.')"
   ]
  },
  {
   "cell_type": "code",
   "execution_count": 5,
   "metadata": {},
   "outputs": [
    {
     "name": "stdout",
     "output_type": "stream",
     "text": [
      "Enter tel. number010 123 1234\n",
      "Number accepted.\n"
     ]
    }
   ],
   "source": [
    "import re\n",
    "pattern = r'\\d\\d\\d[ -]\\d\\d\\d[ -]\\d\\d\\d\\d'\n",
    "\n",
    "s = input('Enter tel. number')\n",
    "if re.fullmatch(pattern, s):\n",
    "    print('Number accepted.')\n",
    "else:\n",
    "    print('Incorrect format.')"
   ]
  },
  {
   "cell_type": "code",
   "execution_count": 6,
   "metadata": {},
   "outputs": [
    {
     "name": "stdout",
     "output_type": "stream",
     "text": [
      "Enter SSN: 123-45-678\n",
      "Number accepted.\n"
     ]
    }
   ],
   "source": [
    "import re\n",
    "pattern = r'\\d\\d\\d-\\d\\d-\\d\\d\\d$'\n",
    "\n",
    "s = input('Enter SSN: ')\n",
    "if re.match(pattern, s):\n",
    "    print('Number accepted.')\n",
    "else:\n",
    "    print('Incorrect format')"
   ]
  },
  {
   "cell_type": "markdown",
   "metadata": {},
   "source": [
    "# 6.4 정규표현식 동작 방식: 컴파일 vs 실행"
   ]
  },
  {
   "cell_type": "code",
   "execution_count": 1,
   "metadata": {},
   "outputs": [
    {
     "name": "stdout",
     "output_type": "stream",
     "text": [
      "caab is a match.\n",
      "caaxxb is not a match!\n"
     ]
    }
   ],
   "source": [
    "import re\n",
    "\n",
    "reg1 = re.compile(r'ca*b$')   # 패턴을 컴파일한다.\n",
    "\n",
    "def test_item(s):\n",
    "    if re.match(reg1, s):\n",
    "        print(s, 'is a match.')\n",
    "    else:\n",
    "        print(s, 'is not a match!')\n",
    "        \n",
    "test_item('caab')\n",
    "test_item('caaxxb')"
   ]
  },
  {
   "cell_type": "markdown",
   "metadata": {},
   "source": [
    "```\n",
    "| 선택 연산자 - 기호 양쪽의 표현식 중 하나와 일치하는지 확인, 모든 구문보다 우선순위가 낮다\n",
    "\n",
    "ax|yz    =  (ax)|(yz)\n",
    "a(x|y)z  =  a[xy]z\n",
    "```"
   ]
  },
  {
   "cell_type": "markdown",
   "metadata": {},
   "source": [
    "# 6.5 대 소문자 무시하기, 그리고 다른 함수 플래그"
   ]
  },
  {
   "cell_type": "code",
   "execution_count": 5,
   "metadata": {},
   "outputs": [
    {
     "name": "stdout",
     "output_type": "stream",
     "text": [
      "Success.\n"
     ]
    }
   ],
   "source": [
    "if re.match('m*ack', 'Mack the Knife', re.IGNORECASE):  # re,I\n",
    "    print('Success.')"
   ]
  },
  {
   "cell_type": "code",
   "execution_count": 6,
   "metadata": {},
   "outputs": [
    {
     "name": "stdout",
     "output_type": "stream",
     "text": [
      "MAX_REPEAT 0 MAXREPEAT\n",
      "  LITERAL 109\n",
      "LITERAL 97\n",
      "LITERAL 99\n",
      "LITERAL 107\n",
      "\n",
      " 0. INFO 4 0b0 3 MAXREPEAT (to 5)\n",
      " 5: REPEAT_ONE 6 0 MAXREPEAT (to 12)\n",
      " 9.   LITERAL_UNI_IGNORE 0x6d ('m')\n",
      "11.   SUCCESS\n",
      "12: LITERAL_UNI_IGNORE 0x61 ('a')\n",
      "14. LITERAL_UNI_IGNORE 0x63 ('c')\n",
      "16. LITERAL_UNI_IGNORE 0x6b ('k')\n",
      "18. SUCCESS\n",
      "Success.\n"
     ]
    }
   ],
   "source": [
    "if re.match('m*ack', 'Mack the Knife', re.I | re.DEBUG):  # re,IGNORECASE 로도 쓸 수 있다.\n",
    "    print('Success.')"
   ]
  },
  {
   "cell_type": "markdown",
   "metadata": {},
   "source": [
    "# 6.6 정규표현식: 기본 문법 요약"
   ]
  },
  {
   "cell_type": "markdown",
   "metadata": {},
   "source": [
    "## 6.6.2 문자 집합"
   ]
  },
  {
   "cell_type": "code",
   "execution_count": 8,
   "metadata": {},
   "outputs": [
    {
     "name": "stdout",
     "output_type": "stream",
     "text": [
      "Success!\n"
     ]
    }
   ],
   "source": [
    "import re\n",
    "if re.match(r'[+*^/-]', '^'):\n",
    "    print('Success!')"
   ]
  },
  {
   "cell_type": "code",
   "execution_count": 9,
   "metadata": {},
   "outputs": [],
   "source": [
    "import re\n",
    "if re.match(r'[^+*^/-]', '^'):\n",
    "    print('Success!')"
   ]
  },
  {
   "cell_type": "markdown",
   "metadata": {},
   "source": [
    "## 6.6.3 패턴 수량자"
   ]
  },
  {
   "cell_type": "markdown",
   "metadata": {},
   "source": [
    "```\n",
    "r'\\d\\d\\d-\\d\\d\\d-\\d\\d\\d\\d'\n",
    "r'\\d{3}-\\d{3}-\\d{4}'\n",
    "```"
   ]
  },
  {
   "cell_type": "markdown",
   "metadata": {},
   "source": [
    "```\n",
    "pat1 = r'cab+'\n",
    "\n",
    "cab\n",
    "cabb\n",
    "cabbb\n",
    "...\n",
    "\n",
    "pat2 = r'c(ab)+'\n",
    "\n",
    "cab\n",
    "cabab\n",
    "cababab\n",
    "...\n",
    "\n",
    "```"
   ]
  },
  {
   "cell_type": "markdown",
   "metadata": {},
   "source": [
    "## 6.6.4 역추적, 탐욕적 수량자와 게으른 수량자"
   ]
  },
  {
   "cell_type": "code",
   "execution_count": 10,
   "metadata": {},
   "outputs": [
    {
     "name": "stdout",
     "output_type": "stream",
     "text": [
      "Success!\n"
     ]
    }
   ],
   "source": [
    "import re\n",
    "pat = r'c.*t'\n",
    "if re.match(pat, 'cat'):\n",
    "    print('Success!')"
   ]
  },
  {
   "cell_type": "markdown",
   "metadata": {},
   "source": [
    "# 6.7 정규표현식 실습 예시"
   ]
  },
  {
   "cell_type": "code",
   "execution_count": 11,
   "metadata": {},
   "outputs": [],
   "source": [
    "# 조건에 맞는 비밀번호 입력 검사 프로그램\n",
    "import re\n",
    "\n",
    "pat1 = r'(\\w|[@#$%^&*!]){8,}$'\n",
    "pat2 = r'.*\\d'\n",
    "pat3 = r'.*[a-zA-Z]'\n",
    "pat4 = r'.*[@#$%^$*]'\n",
    "\n",
    "def verify_password(s):\n",
    "    b = (re.match(pat1, s), re.match(pat2, s), re.match(pat3, s), re.match(pat4, s))\n",
    "    return bool(b)"
   ]
  },
  {
   "cell_type": "markdown",
   "metadata": {},
   "source": [
    "# 6.8 Match 객체 사용하기"
   ]
  },
  {
   "cell_type": "code",
   "execution_count": 1,
   "metadata": {},
   "outputs": [
    {
     "name": "stdout",
     "output_type": "stream",
     "text": [
      "abbccc\n",
      "a\n",
      "bb\n",
      "ccc\n"
     ]
    }
   ],
   "source": [
    "import re\n",
    "\n",
    "pat = r'(a+)(b+)(c+)'\n",
    "m = re.match(pat, 'abbcccee')\n",
    "print(m.group(0))\n",
    "print(m.group(1))\n",
    "print(m.group(2))\n",
    "print(m.group(3))"
   ]
  },
  {
   "cell_type": "code",
   "execution_count": 2,
   "metadata": {},
   "outputs": [
    {
     "name": "stdout",
     "output_type": "stream",
     "text": [
      "0. abbccc\n",
      "1. a\n",
      "2. bb\n",
      "3. ccc\n"
     ]
    }
   ],
   "source": [
    "pat = r'(a+)(b+)(c+)'\n",
    "m = re.match(pat, 'abbcccee')\n",
    "for i in range(m.lastindex + 1):\n",
    "    print(i, '. ', m.group(i), sep='')"
   ]
  },
  {
   "cell_type": "markdown",
   "metadata": {},
   "source": [
    "# 6.9 패턴에 맞는 문자열"
   ]
  },
  {
   "cell_type": "code",
   "execution_count": 4,
   "metadata": {},
   "outputs": [
    {
     "name": "stdout",
     "output_type": "stream",
     "text": [
      "\"23\" found at (9, 11)\n"
     ]
    }
   ],
   "source": [
    "import re\n",
    "\n",
    "m = re.search(r'\\d{2,}', '1 set of 23 owls, 999 doves.')\n",
    "print('\"', m.group(), '\" found at ', m.span(), sep='')"
   ]
  },
  {
   "cell_type": "markdown",
   "metadata": {},
   "source": [
    "# 6.10 반복하여 검색하기"
   ]
  },
  {
   "cell_type": "code",
   "execution_count": 5,
   "metadata": {},
   "outputs": [
    {
     "name": "stdout",
     "output_type": "stream",
     "text": [
      "['1', '23', '999']\n"
     ]
    }
   ],
   "source": [
    "import re\n",
    "\n",
    "s = '1 set of 23 owls, 999 doves.'\n",
    "print(re.findall(r'\\d+', s))"
   ]
  },
  {
   "cell_type": "code",
   "execution_count": 6,
   "metadata": {},
   "outputs": [
    {
     "name": "stdout",
     "output_type": "stream",
     "text": [
      "['1,000.5', '3', '2,000']\n"
     ]
    }
   ],
   "source": [
    "s = 'What is 1,000.5 times 3 times 2,000?'\n",
    "print(re.findall(r'\\d[0-9,.]*', s))"
   ]
  },
  {
   "cell_type": "code",
   "execution_count": 8,
   "metadata": {},
   "outputs": [
    {
     "name": "stdout",
     "output_type": "stream",
     "text": [
      "['sophisticated', 'multisyllabic']\n"
     ]
    }
   ],
   "source": [
    "s = 'I do not use sophisticated, multisyllabic words!'\n",
    "print(re.findall(r'\\w{6,}', s))"
   ]
  },
  {
   "cell_type": "code",
   "execution_count": 9,
   "metadata": {},
   "outputs": [
    {
     "name": "stdout",
     "output_type": "stream",
     "text": [
      "['12', '15', '+', '3', '100', '-', '*']\n"
     ]
    }
   ],
   "source": [
    "s = '12 15+3 100-*'\n",
    "print(re.findall(r'[+*/-]|\\w+', s))"
   ]
  },
  {
   "cell_type": "markdown",
   "metadata": {},
   "source": [
    "# 6.11 findall 메서드와 그룹화 문제"
   ]
  },
  {
   "cell_type": "code",
   "execution_count": 13,
   "metadata": {},
   "outputs": [
    {
     "name": "stdout",
     "output_type": "stream",
     "text": [
      "[(',000', ''), ('', '.5')]\n"
     ]
    }
   ],
   "source": [
    "pat = r'\\d{1,3}(,\\d{3})*(\\.\\d*)?'\n",
    "print(re.findall(pat, '12,000 monkeys and 55.5 cats.'))"
   ]
  },
  {
   "cell_type": "code",
   "execution_count": 15,
   "metadata": {},
   "outputs": [
    {
     "name": "stdout",
     "output_type": "stream",
     "text": [
      "12,000\n",
      "55.5\n"
     ]
    }
   ],
   "source": [
    "pat = r'(\\d{1,3}(,\\d{3})*(\\.\\d*)?)'\n",
    "lst = re.findall(pat, '12,000 monkeys and 55.5 cats.')\n",
    "for item in lst:\n",
    "    print(item[0])"
   ]
  },
  {
   "cell_type": "markdown",
   "metadata": {},
   "source": [
    "# 6.12 반복 패턴 검색하기"
   ]
  },
  {
   "cell_type": "code",
   "execution_count": 16,
   "metadata": {},
   "outputs": [
    {
     "name": "stdout",
     "output_type": "stream",
     "text": [
      "the the ... found at (20, 27)\n"
     ]
    }
   ],
   "source": [
    "import re\n",
    "\n",
    "s = 'The cow jumped over the the moon'\n",
    "m = re.search(r'(\\w+) \\1', s)\n",
    "print(m.group(), '... found at', m.span())"
   ]
  },
  {
   "cell_type": "code",
   "execution_count": 17,
   "metadata": {},
   "outputs": [
    {
     "name": "stdout",
     "output_type": "stream",
     "text": [
      "of of ... found at (18, 23)\n"
     ]
    }
   ],
   "source": [
    "s = 'The United States of of America.'\n",
    "m = re.search(r'(\\w+) \\1', s)\n",
    "print(m.group(), '... found at', m.span())"
   ]
  },
  {
   "cell_type": "code",
   "execution_count": 18,
   "metadata": {},
   "outputs": [
    {
     "name": "stdout",
     "output_type": "stream",
     "text": [
      "The the ... found at (0, 7)\n"
     ]
    }
   ],
   "source": [
    "s = 'The the cow jumped over the the moon'\n",
    "m = re.search(r'(\\w+) \\1', s, flags=re.I)\n",
    "print(m.group(), '... found at', m.span())"
   ]
  },
  {
   "cell_type": "markdown",
   "metadata": {},
   "source": [
    "# 6.13 텍스트 교체하기"
   ]
  },
  {
   "cell_type": "code",
   "execution_count": 19,
   "metadata": {},
   "outputs": [
    {
     "name": "stdout",
     "output_type": "stream",
     "text": [
      "Get me a new cat to befriend my cat.\n"
     ]
    }
   ],
   "source": [
    "import re\n",
    "s = 'Get me a new dog to befriend my dog.'\n",
    "s2 = re.sub('dog', 'cat', s)\n",
    "print(s2)"
   ]
  },
  {
   "cell_type": "code",
   "execution_count": 22,
   "metadata": {},
   "outputs": [
    {
     "name": "stdout",
     "output_type": "stream",
     "text": [
      "The cow jumped over the moon\n"
     ]
    }
   ],
   "source": [
    "s = 'The the cow jumped over over the moon'\n",
    "s2 = re.sub(r'(\\w+) \\1', r'\\1', s, flags=re.I)\n",
    "print(s2)"
   ]
  }
 ],
 "metadata": {
  "kernelspec": {
   "display_name": "Python 3",
   "language": "python",
   "name": "python3"
  },
  "language_info": {
   "codemirror_mode": {
    "name": "ipython",
    "version": 3
   },
   "file_extension": ".py",
   "mimetype": "text/x-python",
   "name": "python",
   "nbconvert_exporter": "python",
   "pygments_lexer": "ipython3",
   "version": "3.7.6"
  }
 },
 "nbformat": 4,
 "nbformat_minor": 4
}
