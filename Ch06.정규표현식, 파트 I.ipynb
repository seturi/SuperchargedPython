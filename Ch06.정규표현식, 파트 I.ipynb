{
 "cells": [
  {
   "cell_type": "markdown",
   "metadata": {},
   "source": [
    "# 6.1 정규표현식의 소개"
   ]
  },
  {
   "cell_type": "markdown",
   "metadata": {},
   "source": [
    "```\n",
    "cat    # cat\n",
    "ca+t   # cat, caat, caaat, ...\n",
    "ca\\+t  # ca+t\n",
    "ca*t   # ct, cat, caat, ...\n",
    "```"
   ]
  },
  {
   "cell_type": "markdown",
   "metadata": {},
   "source": [
    "# 6.2 실제 예시: 전화번호"
   ]
  },
  {
   "cell_type": "markdown",
   "metadata": {},
   "source": [
    "```\n",
    "# 000-000-0000\n",
    "\n",
    "\\d\\d\\d-\\d\\d\\d-\\d\\d\\d\\d\n",
    "[0-9]\n",
    "```"
   ]
  },
  {
   "cell_type": "code",
   "execution_count": 3,
   "metadata": {},
   "outputs": [
    {
     "name": "stdout",
     "output_type": "stream",
     "text": [
      "Enter tel. number: 010-123-4567\n",
      "Number accepted.\n"
     ]
    }
   ],
   "source": [
    "import re\n",
    "pattern = r'\\d\\d\\d-\\d\\d\\d-\\d\\d\\d\\d'\n",
    "\n",
    "s = input('Enter tel. number: ')\n",
    "if re.match(pattern, s):\n",
    "    print('Number accepted.')\n",
    "else:\n",
    "    print('Incorrect format')"
   ]
  }
 ],
 "metadata": {
  "kernelspec": {
   "display_name": "Python 3",
   "language": "python",
   "name": "python3"
  },
  "language_info": {
   "codemirror_mode": {
    "name": "ipython",
    "version": 3
   },
   "file_extension": ".py",
   "mimetype": "text/x-python",
   "name": "python",
   "nbconvert_exporter": "python",
   "pygments_lexer": "ipython3",
   "version": "3.7.6"
  }
 },
 "nbformat": 4,
 "nbformat_minor": 4
}
