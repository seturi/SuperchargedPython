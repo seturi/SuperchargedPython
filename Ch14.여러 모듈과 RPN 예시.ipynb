{
 "cells": [
  {
   "cell_type": "markdown",
   "metadata": {},
   "source": [
    "# 14.1 파이썬 모듈의 개요"
   ]
  },
  {
   "cell_type": "code",
   "execution_count": 1,
   "metadata": {},
   "outputs": [
    {
     "name": "stdout",
     "output_type": "stream",
     "text": [
      "__main__\n"
     ]
    }
   ],
   "source": [
    "print(__name__)"
   ]
  },
  {
   "cell_type": "markdown",
   "metadata": {},
   "source": [
    "# 14.2 간단한 2개의 모듈 예시"
   ]
  },
  {
   "cell_type": "code",
   "execution_count": 2,
   "metadata": {},
   "outputs": [
    {
     "name": "stdout",
     "output_type": "stream",
     "text": [
      "Print this thing.\n"
     ]
    }
   ],
   "source": [
    "import printstuff              # printstuff.py 탑재\n",
    "\n",
    "printstuff.print_this('thing')  # 탑재된 함수 호출"
   ]
  },
  {
   "cell_type": "code",
   "execution_count": 3,
   "metadata": {},
   "outputs": [
    {
     "name": "stdout",
     "output_type": "stream",
     "text": [
      "100 and 200\n"
     ]
    }
   ],
   "source": [
    "import printstuff2\n",
    "\n",
    "print('%s and %s' % (printstuff2.x, printstuff2.y))"
   ]
  },
  {
   "cell_type": "code",
   "execution_count": 4,
   "metadata": {},
   "outputs": [
    {
     "name": "stdout",
     "output_type": "stream",
     "text": [
      "Value of z is 0\n"
     ]
    }
   ],
   "source": [
    "from foo_vars import z, print_z_val\n",
    "import foo_vars\n",
    "\n",
    "z = 100\n",
    "print_z_val()"
   ]
  },
  {
   "cell_type": "code",
   "execution_count": 5,
   "metadata": {},
   "outputs": [
    {
     "name": "stdout",
     "output_type": "stream",
     "text": [
      "Value of z is 100\n"
     ]
    }
   ],
   "source": [
    "from foo_vars import z, print_z_val\n",
    "import foo_vars\n",
    "\n",
    "foo_vars.z = 100\n",
    "print_z_val()"
   ]
  },
  {
   "cell_type": "code",
   "execution_count": 6,
   "metadata": {},
   "outputs": [
    {
     "name": "stdout",
     "output_type": "stream",
     "text": [
      "Enter radius:5\n",
      "Area of circle is 78.5398\n",
      "Enter side:5\n",
      "Area of square is 25.0\n"
     ]
    }
   ],
   "source": [
    "import poly      # poly.py 파일 탑재\n",
    "\n",
    "def main():\n",
    "    r = float(input('Enter radius:'))\n",
    "    print('Area of circle is', poly.get_circle_area(r))\n",
    "    x = float(input('Enter side:'))\n",
    "    print('Area of square is', poly.get_square_area(x))\n",
    "\n",
    "main()"
   ]
  },
  {
   "cell_type": "markdown",
   "metadata": {},
   "source": [
    "# 14.3 import 문의 변형"
   ]
  },
  {
   "cell_type": "code",
   "execution_count": 7,
   "metadata": {},
   "outputs": [
    {
     "name": "stdout",
     "output_type": "stream",
     "text": [
      "Enter radius:5\n",
      "Area of circle is 78.5398\n",
      "Enter side:5\n",
      "Area of square is 25.0\n"
     ]
    }
   ],
   "source": [
    "from poly import get_circle_area, get_square_area\n",
    "\n",
    "def main():\n",
    "    r = float(input('Enter radius:'))\n",
    "    print('Area of circle is', get_circle_area(r))\n",
    "    x = float(input('Enter side:'))\n",
    "    print('Area of square is', get_square_area(x))\n",
    "\n",
    "main()"
   ]
  },
  {
   "cell_type": "markdown",
   "metadata": {},
   "source": [
    "# 14.4 __all__ 기호 사용하기"
   ]
  },
  {
   "cell_type": "code",
   "execution_count": 8,
   "metadata": {},
   "outputs": [
    {
     "name": "stdout",
     "output_type": "stream",
     "text": [
      "The value of x is 1000.\n",
      "And z is 5.\n",
      "The value of y is 500.\n",
      "And z is 5.\n"
     ]
    }
   ],
   "source": [
    "from module2 import *\n",
    "\n",
    "pr_nice('x', x)\n",
    "pr_nice('y', y)"
   ]
  },
  {
   "cell_type": "code",
   "execution_count": 10,
   "metadata": {},
   "outputs": [
    {
     "name": "stdout",
     "output_type": "stream",
     "text": [
      "z is 5, for heaven's sake!\n"
     ]
    }
   ],
   "source": [
    "from module2 import *\n",
    "from module2 import z\n",
    "\n",
    "print(\"z is %i, for heaven's sake!\" % z)"
   ]
  },
  {
   "cell_type": "markdown",
   "metadata": {},
   "source": [
    "# 14.5 전역과 지역 모듈 변수"
   ]
  },
  {
   "cell_type": "code",
   "execution_count": 1,
   "metadata": {},
   "outputs": [
    {
     "name": "stdout",
     "output_type": "stream",
     "text": [
      "10\n",
      "100\n"
     ]
    }
   ],
   "source": [
    "# from mod_a import *  # 실패한다\n",
    "from mod_a import _a, __b\n",
    "\n",
    "print(_a)\n",
    "print(__b)"
   ]
  },
  {
   "cell_type": "markdown",
   "metadata": {},
   "source": [
    "# 14.6 메인 모듈과 __main__"
   ]
  },
  {
   "cell_type": "code",
   "execution_count": 4,
   "metadata": {},
   "outputs": [
    {
     "name": "stdout",
     "output_type": "stream",
     "text": [
      "My name is __main__.\n",
      "\n",
      "<built-in function dir>\n"
     ]
    }
   ],
   "source": [
    "import mod_a\n",
    "\n",
    "x = 1\n",
    "y = 2\n",
    "print('My name is %s.\\n' % __name__)\n",
    "print(dir)"
   ]
  },
  {
   "cell_type": "code",
   "execution_count": 7,
   "metadata": {},
   "outputs": [
    {
     "name": "stdout",
     "output_type": "stream",
     "text": [
      "My name is mod_a1.\n",
      "\n",
      "My name is __main__.\n",
      "\n",
      "<built-in function dir>\n"
     ]
    }
   ],
   "source": [
    "import mod_a1\n",
    "\n",
    "x = 1\n",
    "y = 2\n",
    "print('My name is %s.\\n' % __name__)\n",
    "print(dir)"
   ]
  },
  {
   "cell_type": "code",
   "execution_count": 6,
   "metadata": {},
   "outputs": [
    {
     "name": "stdout",
     "output_type": "stream",
     "text": [
      "Hi, there, Python!\n"
     ]
    }
   ],
   "source": [
    "def call_me_first():\n",
    "    print('Hi, there, Python!')\n",
    "    \n",
    "if __name__ == '__main__':\n",
    "    call_me_first()"
   ]
  },
  {
   "cell_type": "markdown",
   "metadata": {},
   "source": [
    "# 14.7 상호 탑재 문제 해결하기"
   ]
  },
  {
   "cell_type": "code",
   "execution_count": 8,
   "metadata": {},
   "outputs": [
    {
     "name": "stdout",
     "output_type": "stream",
     "text": [
      "4\n",
      "3\n",
      "2\n",
      "1\n",
      "0\n"
     ]
    }
   ],
   "source": [
    "import mod_a2\n",
    "mod_a2.funcA(5)"
   ]
  },
  {
   "cell_type": "markdown",
   "metadata": {},
   "source": [
    "# 14.8 RPN 예시: 2개의 모듈로 나누기"
   ]
  },
  {
   "cell_type": "code",
   "execution_count": 1,
   "metadata": {},
   "outputs": [
    {
     "name": "stdout",
     "output_type": "stream",
     "text": [
      "Enter RPN source: rpn_junk.txt\n",
      "16\n"
     ]
    }
   ],
   "source": [
    "import re\n",
    "import operator\n",
    "from rpn_io import *\n",
    "\n",
    "# 심벌 테이블: 변수 값이 저장된다.\n",
    "sym_tab = { }\n",
    "\n",
    "stack = []    # 값을 보관하기 위한 스택\n",
    "\n",
    "# 스캐너: 심볼 테이블에 저장될 변수 이름을 인식하기 위한 항목 추가\n",
    "# 그리고 심볼 테이블에 넣은 값을 대입한다.\n",
    "\n",
    "scanner = re.Scanner([\n",
    "    (r\"[ \\t\\n]\", lambda s, t: None),\n",
    "    (r\"-?(\\d*)?\\.\\d+\", lambda s, t:\n",
    "        stack.append(float(t))),\n",
    "    (r\"-?\\d+\", lambda s, t: stack.append(int(t))),\n",
    "    (r\"[a-zA-Z_][a-zA-Z_0-9]*\", lambda s, t:\n",
    "        stack.append(t)),\n",
    "    (r\"[+]\", lambda s, t: bin_op(operator.add)),\n",
    "    (r\"[-]\", lambda s, t: bin_op(operator.sub)),\n",
    "    (r\"[*]\", lambda s, t: bin_op(operator.mul)),\n",
    "    (r\"[/]\", lambda s, t: bin_op(operator.truediv)),\n",
    "    (r\"[\\^]\", lambda s, t: bin_op(operator.pow)),\n",
    "    (r\"[=]\", lambda s, t: assign_op()),\n",
    "    ])\n",
    "\n",
    "def assign_op():\n",
    "    '''대입 연산 함수: 이름과 값을 스택에서 꺼내서,\n",
    "    심볼 테이블 엔트리를 만든다.\n",
    "    '''\n",
    "    op2, op1 = stack.pop(), stack.pop()\n",
    "    if type(op2) == str:    # 소스는 다른 변수일 수도 있다!\n",
    "        op2 = sym_tab[op2]\n",
    "    sym_tab[op1] = op2\n",
    "\n",
    "def bin_op(action):\n",
    "    '''바이너리 연산 평가 함수: 피연산자가 변수 이름이면,\n",
    "    평가하기 전에 심볼 테이블에서 찾아서\n",
    "    해당 값으로 대체한다.\n",
    "    '''\n",
    "    op2, op1 = stack.pop(), stack.pop()\n",
    "    if type(op1) == str:\n",
    "        op1 = sym_tab[op1]\n",
    "    if type(op2) == str:\n",
    "        op2 = sym_tab[op2]\n",
    "    stack.append(action(op1, op2))\n",
    "\n",
    "def main():\n",
    "    a_list = open_rpn_file()\n",
    "    if not a_list:\n",
    "        print('Bye!')\n",
    "        return\n",
    "\n",
    "    for a_line in a_list:\n",
    "        a_line = a_line.strip()\n",
    "        if a_line: \n",
    "            tokens, unknown = scanner.scan(a_line)\n",
    "            if unknown:\n",
    "                print('Unrecognized input:', unknown)\n",
    "    print(str(stack[-1]))\n",
    "\n",
    "main()"
   ]
  },
  {
   "cell_type": "markdown",
   "metadata": {},
   "source": [
    "# 14.9 RPN 예시: I/O 지침 추가하기"
   ]
  },
  {
   "cell_type": "code",
   "execution_count": 2,
   "metadata": {},
   "outputs": [
    {
     "name": "stdout",
     "output_type": "stream",
     "text": [
      "Enter RPN source: rpn_hyp.txt\n",
      "Enter side 1:  30\n",
      "Enter side 2:  40\n",
      "Hypotenuse equals  50.0 "
     ]
    }
   ],
   "source": [
    "import re\n",
    "import operator\n",
    "from rpn_io import *\n",
    "\n",
    "# 심벌 테이블: 변수 값이 저장된다.\n",
    "sym_tab = { }\n",
    "\n",
    "stack = []    # 값을 보관하기 위한 스택\n",
    "\n",
    "# 스캐너: 심볼 테이블에 저장될 변수 이름을 인식하기 위한 항목 추가\n",
    "# 그리고 심볼 테이블에 넣은 값을 대입한다.\n",
    "\n",
    "scanner = re.Scanner([\n",
    "    (r\"[ \\t\\n]\", lambda s, t: None),\n",
    "    (r\"-?(\\d*)?\\.\\d+\", lambda s, t:\n",
    "        stack.append(float(t))),\n",
    "    (r\"-?\\d+\", lambda s, t: stack.append(int(t))),\n",
    "    (r\"[a-zA-Z_][a-zA-Z_0-9]*\", lambda s, t:\n",
    "        stack.append(t)),\n",
    "    (r\"[+]\", lambda s, t: bin_op(operator.add)),\n",
    "    (r\"[-]\", lambda s, t: bin_op(operator.sub)),\n",
    "    (r\"[*]\", lambda s, t: bin_op(operator.mul)),\n",
    "    (r\"[/]\", lambda s, t: bin_op(operator.truediv)),\n",
    "    (r\"[\\^]\", lambda s, t: bin_op(operator.pow)),\n",
    "    (r\"[=]\", lambda s, t: assign_op()),\n",
    "    ])\n",
    "\n",
    "def assign_op():\n",
    "    '''대입 연산 함수: 이름과 값을 스택에서 꺼내서,\n",
    "    심볼 테이블 엔트리를 만든다.\n",
    "    '''\n",
    "    op2, op1 = stack.pop(), stack.pop()\n",
    "    if type(op2) == str:    # 소스는 다른 변수일 수도 있다!\n",
    "        op2 = sym_tab[op2]\n",
    "    sym_tab[op1] = op2\n",
    "\n",
    "def bin_op(action):\n",
    "    '''바이너리 연산 평가 함수: 피연산자가 변수 이름이면,\n",
    "    평가하기 전에 심볼 테이블에서 찾아서\n",
    "    해당 값으로 대체한다.\n",
    "    '''\n",
    "    op2, op1 = stack.pop(), stack.pop()\n",
    "    if type(op1) == str:\n",
    "        op1 = sym_tab[op1]\n",
    "    if type(op2) == str:\n",
    "        op2 = sym_tab[op2]\n",
    "    stack.append(action(op1, op2))\n",
    "    \n",
    "def main():\n",
    "    a_list = open_rpn_file()\n",
    "    if not a_list:\n",
    "        print('Bye!')\n",
    "        return\n",
    "\n",
    "    for a_line in a_list:\n",
    "        a_line = a_line.strip()\n",
    "        if a_line.startswith('PRINTS'):\n",
    "            do_prints(a_line[7:])\n",
    "        elif a_line.startswith('PRINTLN'):\n",
    "            do_println(a_line[8:])\n",
    "        elif a_line.startswith('PRINTVAR'):\n",
    "            do_printvar(a_line[9:], sym_tab)\n",
    "        elif a_line.startswith('INPUT'):\n",
    "            do_input(a_line[6:], sym_tab)\n",
    "        elif a_line:\n",
    "            tokens, unknown = scanner.scan(a_line)\n",
    "            if unknown:\n",
    "                print('Unrecognized input:', unknown)\n",
    "\n",
    "main()"
   ]
  },
  {
   "cell_type": "markdown",
   "metadata": {},
   "source": [
    "# 14.10 RPN 예시 추가 변경"
   ]
  },
  {
   "cell_type": "markdown",
   "metadata": {},
   "source": [
    "## 14.10.1 줄-번호 확인 기능 추가하기"
   ]
  },
  {
   "cell_type": "code",
   "execution_count": 4,
   "metadata": {},
   "outputs": [],
   "source": [
    "import re\n",
    "import operator\n",
    "from rpn_io import *\n",
    "\n",
    "sym_tab = { } # 심벌 테이블: 변수 값이 저장된다.\n",
    "\n",
    "stack = []    # 값을 보관하기 위한 스택\n",
    "\n",
    "pc = -1       # 프로그램 카운터\n",
    "\n",
    "\n",
    "# . . . . .\n",
    "\n",
    "\n",
    "def main():\n",
    "    global pc\n",
    "    a_list = open_rpn_file()\n",
    "    if not a_list:\n",
    "        print('Bye!')\n",
    "        return\n",
    "    pc = -1\n",
    "    while True:\n",
    "        pc += 1\n",
    "        if pc >= len(a_list):\n",
    "            break\n",
    "        a_line = a_list[pc]\n",
    "        try:\n",
    "            a_line = a_line.strip()\n",
    "            if a_line.startswith('PRINTS'):\n",
    "                do_prints(a_line[7:])\n",
    "            elif a_line.startswith('PRINTLN'):\n",
    "                do_println(a_line[8:])\n",
    "            elif a_line.startswith('PRINTVAR'):\n",
    "                do_printvar(a_line[9:], sym_tab)\n",
    "            elif a_line.startswith('INPUT'):\n",
    "                do_input(a_line[6:], sym_tab)\n",
    "            elif a_line:\n",
    "                tokens, unknown = scanner.scan(a_line)\n",
    "                if unknown:\n",
    "                    print('Unrecognized input:', unknown)\n",
    "                    break\n",
    "        except KeyError as e:\n",
    "            print('Unrecognized symbol', e.args[0],\n",
    "                 'found in line', pc)\n",
    "            print(a_list[pc])\n",
    "            break"
   ]
  },
  {
   "cell_type": "markdown",
   "metadata": {},
   "source": [
    "## 14.10.2 0이 아니면 이동하는 기능 추가하기"
   ]
  },
  {
   "cell_type": "code",
   "execution_count": 5,
   "metadata": {},
   "outputs": [],
   "source": [
    "scanner = re.Scanner([\n",
    "    (r\"[ \\t\\n]\", lambda s, t: None),\n",
    "    (r\"-?(\\d*)?\\.\\d+\", lambda s, t:\n",
    "        stack.append(float(t))),\n",
    "    (r\"-?\\d+\", lambda s, t: stack.append(int(t))),\n",
    "    (r\"[a-zA-Z_][a-zA-Z_0-9]*\", lambda s, t:\n",
    "        stack.append(t)),\n",
    "    (r\"[+]\", lambda s, t: bin_op(operator.add)),\n",
    "    (r\"[-]\", lambda s, t: bin_op(operator.sub)),\n",
    "    (r\"[*]\", lambda s, t: bin_op(operator.mul)),\n",
    "    (r\"[/]\", lambda s, t: bin_op(operator.truediv)),\n",
    "    (r\"[\\^]\", lambda s, t: bin_op(operator.pow)),\n",
    "    (r\"[=]\", lambda s, t: assign_op()),\n",
    "    (r\"[?]\", lambda s, t: jnz_op())\n",
    "    ])"
   ]
  },
  {
   "cell_type": "code",
   "execution_count": 6,
   "metadata": {},
   "outputs": [],
   "source": [
    "def jnz_op():\n",
    "    global pc\n",
    "    op2, op1 = stack.pop(), stack.pop()\n",
    "    if type(op1) == str:\n",
    "        op1 = sym_tab[op1]\n",
    "    if type(op2) == str:\n",
    "        op2 = sym_tab[op2]\n",
    "    if op1:\n",
    "        pc = int(op2) - 1 "
   ]
  },
  {
   "cell_type": "code",
   "execution_count": 7,
   "metadata": {},
   "outputs": [
    {
     "name": "stdout",
     "output_type": "stream",
     "text": [
      "Enter RPN source: mystery.txt\n",
      "Enter number of fibos to print:  10\n",
      "1 2 3 5 8 13 21 34 55 89 "
     ]
    }
   ],
   "source": [
    "import re\n",
    "import operator\n",
    "from rpn_io import *\n",
    "\n",
    "sym_tab = { } # 심벌 테이블: 변수 값이 저장된다.\n",
    "\n",
    "stack = []    # 값을 보관하기 위한 스택\n",
    "\n",
    "pc = -1       # 프로그램 카운터\n",
    "\n",
    "\n",
    "# 스캐너: 심볼 테이블에 저장될 변수 이름을 인식하기 위한 항목 추가\n",
    "# 그리고 심볼 테이블에 넣은 값을 대입한다.\n",
    "\n",
    "scanner = re.Scanner([\n",
    "    (r\"[ \\t\\n]\", lambda s, t: None),\n",
    "    (r\"-?(\\d*)?\\.\\d+\", lambda s, t:\n",
    "        stack.append(float(t))),\n",
    "    (r\"-?\\d+\", lambda s, t: stack.append(int(t))),\n",
    "    (r\"[a-zA-Z_][a-zA-Z_0-9]*\", lambda s, t:\n",
    "        stack.append(t)),\n",
    "    (r\"[+]\", lambda s, t: bin_op(operator.add)),\n",
    "    (r\"[-]\", lambda s, t: bin_op(operator.sub)),\n",
    "    (r\"[*]\", lambda s, t: bin_op(operator.mul)),\n",
    "    (r\"[/]\", lambda s, t: bin_op(operator.truediv)),\n",
    "    (r\"[\\^]\", lambda s, t: bin_op(operator.pow)),\n",
    "    (r\"[=]\", lambda s, t: assign_op()),\n",
    "    (r\"[?]\", lambda s, t: jnz_op())\n",
    "    ])\n",
    "\n",
    "def assign_op():\n",
    "    '''대입 연산 함수: 이름과 값을 스택에서 꺼내서,\n",
    "    심볼 테이블 엔트리를 만든다.\n",
    "    '''\n",
    "    op2, op1 = stack.pop(), stack.pop()\n",
    "    if type(op2) == str:    # 소스는 다른 변수일 수도 있다!\n",
    "        op2 = sym_tab[op2]\n",
    "    sym_tab[op1] = op2\n",
    "\n",
    "def bin_op(action):\n",
    "    '''바이너리 연산 평가 함수: 피연산자가 변수 이름이면,\n",
    "    평가하기 전에 심볼 테이블에서 찾아서\n",
    "    해당 값으로 대체한다.\n",
    "    '''\n",
    "    op2, op1 = stack.pop(), stack.pop()\n",
    "    if type(op1) == str:\n",
    "        op1 = sym_tab[op1]\n",
    "    if type(op2) == str:\n",
    "        op2 = sym_tab[op2]\n",
    "    stack.append(action(op1, op2))\n",
    "    \n",
    "def jnz_op():\n",
    "    global pc\n",
    "    op2, op1 = stack.pop(), stack.pop()\n",
    "    if type(op1) == str:\n",
    "        op1 = sym_tab[op1]\n",
    "    if type(op2) == str:\n",
    "        op2 = sym_tab[op2]\n",
    "    if op1:\n",
    "        pc = int(op2) - 1 \n",
    "\n",
    "\n",
    "def main():\n",
    "    global pc\n",
    "    a_list = open_rpn_file()\n",
    "    if not a_list:\n",
    "        print('Bye!')\n",
    "        return\n",
    "    pc = -1\n",
    "    while True:\n",
    "        pc += 1\n",
    "        if pc >= len(a_list):\n",
    "            break\n",
    "        a_line = a_list[pc]\n",
    "        try:\n",
    "            a_line = a_line.strip()\n",
    "            if a_line.startswith('PRINTS'):\n",
    "                do_prints(a_line[7:])\n",
    "            elif a_line.startswith('PRINTLN'):\n",
    "                do_println(a_line[8:])\n",
    "            elif a_line.startswith('PRINTVAR'):\n",
    "                do_printvar(a_line[9:], sym_tab)\n",
    "            elif a_line.startswith('INPUT'):\n",
    "                do_input(a_line[6:], sym_tab)\n",
    "            elif a_line:\n",
    "                tokens, unknown = scanner.scan(a_line)\n",
    "                if unknown:\n",
    "                    print('Unrecognized input:', unknown)\n",
    "                    break\n",
    "        except KeyError as e:\n",
    "            print('Unrecognized symbol', e.args[0],\n",
    "                 'found in line', pc)\n",
    "            print(a_list[pc])\n",
    "            break\n",
    "            \n",
    "main()"
   ]
  },
  {
   "cell_type": "markdown",
   "metadata": {},
   "source": [
    "## 14.10.3 초과(>)와 난수 획득(!)"
   ]
  },
  {
   "cell_type": "code",
   "execution_count": 9,
   "metadata": {},
   "outputs": [],
   "source": [
    "from random import randint\n",
    "\n",
    "scanner = re.Scanner([\n",
    "    (r\"[ \\t\\n]\", lambda s, t: None),\n",
    "    (r\"-?(\\d*)?\\.\\d+\", lambda s, t:\n",
    "        stack.append(float(t))),\n",
    "    (r\"-?\\d+\", lambda s, t: stack.append(int(t))),\n",
    "    (r\"[a-zA-Z_][a-zA-Z_0-9]*\", lambda s, t:\n",
    "        stack.append(t)),\n",
    "    (r\"[+]\", lambda s, t: bin_op(operator.add)),\n",
    "    (r\"[-]\", lambda s, t: bin_op(operator.sub)),\n",
    "    (r\"[*]\", lambda s, t: bin_op(operator.mul)),\n",
    "    (r\"[/]\", lambda s, t: bin_op(operator.truediv)),\n",
    "    (r\"[>]\", lambda s, t: bin_op(operator.gt)),    # 초과 연산자\n",
    "    (r\"[!]\", lambda s, t: bin_op(randint)),        # 난수 기능\n",
    "    (r\"[\\^]\", lambda s, t: bin_op(operator.pow)),\n",
    "    (r\"[=]\", lambda s, t: assign_op()),\n",
    "    (r\"[?]\", lambda s, t: jnz_op())\n",
    "    ])"
   ]
  },
  {
   "cell_type": "code",
   "execution_count": 10,
   "metadata": {},
   "outputs": [
    {
     "name": "stdout",
     "output_type": "stream",
     "text": [
      "Enter RPN source: rpn_game.txt\n",
      "Enter your guess:  25\n",
      "Too high! Try agin.  Enter your guess:  15\n",
      "Too high! Try agin.  Enter your guess:  6\n",
      "Too high! Try agin.  Enter your guess:  2\n",
      "Too low! Try again.  Enter your guess:  4\n",
      "Congrats! You got it!  Play again? (1 = yes, 0 = no):  0\n"
     ]
    }
   ],
   "source": [
    "import re\n",
    "import operator\n",
    "from random import randint\n",
    "from rpn_io import *\n",
    "\n",
    "sym_tab = { } # 심벌 테이블: 변수 값이 저장된다.\n",
    "\n",
    "stack = []    # 값을 보관하기 위한 스택\n",
    "\n",
    "pc = -1       # 프로그램 카운터\n",
    "\n",
    "\n",
    "# 스캐너: 심볼 테이블에 저장될 변수 이름을 인식하기 위한 항목 추가\n",
    "# 그리고 심볼 테이블에 넣은 값을 대입한다.\n",
    "\n",
    "from random import randint\n",
    "\n",
    "scanner = re.Scanner([\n",
    "    (r\"[ \\t\\n]\", lambda s, t: None),\n",
    "    (r\"-?(\\d*)?\\.\\d+\", lambda s, t:\n",
    "        stack.append(float(t))),\n",
    "    (r\"-?\\d+\", lambda s, t: stack.append(int(t))),\n",
    "    (r\"[a-zA-Z_][a-zA-Z_0-9]*\", lambda s, t:\n",
    "        stack.append(t)),\n",
    "    (r\"[+]\", lambda s, t: bin_op(operator.add)),\n",
    "    (r\"[-]\", lambda s, t: bin_op(operator.sub)),\n",
    "    (r\"[*]\", lambda s, t: bin_op(operator.mul)),\n",
    "    (r\"[/]\", lambda s, t: bin_op(operator.truediv)),\n",
    "    (r\"[>]\", lambda s, t: bin_op(operator.gt)),\n",
    "    (r\"[!]\", lambda s, t: bin_op(randint)),\n",
    "    (r\"[\\^]\", lambda s, t: bin_op(operator.pow)),\n",
    "    (r\"[=]\", lambda s, t: assign_op()),\n",
    "    (r\"[?]\", lambda s, t: jnz_op())\n",
    "    ])\n",
    "\n",
    "def assign_op():\n",
    "    '''대입 연산 함수: 이름과 값을 스택에서 꺼내서,\n",
    "    심볼 테이블 엔트리를 만든다.\n",
    "    '''\n",
    "    op2, op1 = stack.pop(), stack.pop()\n",
    "    if type(op2) == str:    # 소스는 다른 변수일 수도 있다!\n",
    "        op2 = sym_tab[op2]\n",
    "    sym_tab[op1] = op2\n",
    "\n",
    "def bin_op(action):\n",
    "    '''바이너리 연산 평가 함수: 피연산자가 변수 이름이면,\n",
    "    평가하기 전에 심볼 테이블에서 찾아서\n",
    "    해당 값으로 대체한다.\n",
    "    '''\n",
    "    op2, op1 = stack.pop(), stack.pop()\n",
    "    if type(op1) == str:\n",
    "        op1 = sym_tab[op1]\n",
    "    if type(op2) == str:\n",
    "        op2 = sym_tab[op2]\n",
    "    stack.append(action(op1, op2))\n",
    "    \n",
    "def jnz_op():\n",
    "    global pc\n",
    "    op2, op1 = stack.pop(), stack.pop()\n",
    "    if type(op1) == str:\n",
    "        op1 = sym_tab[op1]\n",
    "    if type(op2) == str:\n",
    "        op2 = sym_tab[op2]\n",
    "    if op1:\n",
    "        pc = int(op2) - 1 \n",
    "\n",
    "\n",
    "def main():\n",
    "    global pc\n",
    "    a_list = open_rpn_file()\n",
    "    if not a_list:\n",
    "        print('Bye!')\n",
    "        return\n",
    "    pc = -1\n",
    "    while True:\n",
    "        pc += 1\n",
    "        if pc >= len(a_list):\n",
    "            break\n",
    "        a_line = a_list[pc]\n",
    "        try:\n",
    "            a_line = a_line.strip()\n",
    "            if a_line.startswith('PRINTS'):\n",
    "                do_prints(a_line[7:])\n",
    "            elif a_line.startswith('PRINTLN'):\n",
    "                do_println(a_line[8:])\n",
    "            elif a_line.startswith('PRINTVAR'):\n",
    "                do_printvar(a_line[9:], sym_tab)\n",
    "            elif a_line.startswith('INPUT'):\n",
    "                do_input(a_line[6:], sym_tab)\n",
    "            elif a_line:\n",
    "                tokens, unknown = scanner.scan(a_line)\n",
    "                if unknown:\n",
    "                    print('Unrecognized input:', unknown)\n",
    "                    break\n",
    "        except KeyError as e:\n",
    "            print('Unrecognized symbol', e.args[0],\n",
    "                 'found in line', pc)\n",
    "            print(a_list[pc])\n",
    "            break\n",
    "            \n",
    "main()"
   ]
  },
  {
   "cell_type": "markdown",
   "metadata": {},
   "source": [
    "# 14.11 RPN: 모든 코드 모으기"
   ]
  },
  {
   "cell_type": "code",
   "execution_count": 11,
   "metadata": {},
   "outputs": [
    {
     "name": "stdout",
     "output_type": "stream",
     "text": [
      "Enter RPN source: rpn_io.txt\n",
      "File not found. Re-enter.\n",
      "Enter RPN source: mystery.txt\n",
      "Enter number of fibos to print:  10\n",
      "1 2 3 5 8 13 21 34 55 89 "
     ]
    }
   ],
   "source": [
    "import re\n",
    "import operator\n",
    "from random import randint\n",
    "from rpn_io import *\n",
    "\n",
    "sym_tab = { } # 변수를 위한 심벌 테이블\n",
    "stack = []    # 값을 보관할 스택\n",
    "pc = -1       # 프로그램 카운터\n",
    "\n",
    "\n",
    "# 스캐너: 심볼 테이블에 저장될 변수 이름을 인식하기 위한 항목 추가\n",
    "# 그리고 심볼 테이블에 넣은 값을 대입한다.\n",
    "\n",
    "from random import randint\n",
    "\n",
    "scanner = re.Scanner([\n",
    "    (r\"[ \\t\\n]\", lambda s, t: None),\n",
    "    (r\"-?(\\d*)?\\.\\d+\", lambda s, t:\n",
    "        stack.append(float(t))),\n",
    "    (r\"-?\\d+\", lambda s, t: stack.append(int(t))),\n",
    "    (r\"[a-zA-Z_][a-zA-Z_0-9]*\", lambda s, t:\n",
    "        stack.append(t)),\n",
    "    (r\"[+]\", lambda s, t: bin_op(operator.add)),\n",
    "    (r\"[-]\", lambda s, t: bin_op(operator.sub)),\n",
    "    (r\"[*]\", lambda s, t: bin_op(operator.mul)),\n",
    "    (r\"[/]\", lambda s, t: bin_op(operator.truediv)),\n",
    "    (r\"[>]\", lambda s, t: bin_op(operator.gt)),\n",
    "    (r\"[!]\", lambda s, t: bin_op(randint)),\n",
    "    (r\"[\\^]\", lambda s, t: bin_op(operator.pow)),\n",
    "    (r\"[=]\", lambda s, t: assign_op()),\n",
    "    (r\"[?]\", lambda s, t: jnz_op())\n",
    "    ])\n",
    "\n",
    "def jnz_op():\n",
    "    ''' 0이 아니면 이동하는 연산.\n",
    "    피연산자를 검증한 후, 첫 번째 op를 테스트한다.\n",
    "    0이 아니면 프로그램 카운터를 op2 - 1로 설정한다.\n",
    "    '''\n",
    "    global pc\n",
    "    op2, op1 = stack.pop(), stack.pop()\n",
    "    if type(op1) == str:\n",
    "        op1 = sym_tab[op1]\n",
    "    if type(op2) == str:\n",
    "        op2 = sym_tab[op2]\n",
    "    if op1:\n",
    "        pc = int(op2) - 1   # op를 int 포맷으로 변환\n",
    "\n",
    "def assign_op():\n",
    "    '''대입 연산 함수: 이름과 값을 스택에서 꺼내서,\n",
    "    심볼 테이블 엔트리를 만든다.\n",
    "    '''\n",
    "    op2, op1 = stack.pop(), stack.pop()\n",
    "    if type(op2) == str:    # 소스는 다른 변수일 수도 있다!\n",
    "        op2 = sym_tab[op2]\n",
    "    sym_tab[op1] = op2\n",
    "\n",
    "def bin_op(action):\n",
    "    '''바이너리 연산 평가 함수: 피연산자가 변수 이름이면,\n",
    "    평가하기 전에 심볼 테이블에서 찾아서\n",
    "    해당 값으로 대체한다.\n",
    "    '''\n",
    "    op2, op1 = stack.pop(), stack.pop()\n",
    "    if type(op1) == str:\n",
    "        op1 = sym_tab[op1]\n",
    "    if type(op2) == str:\n",
    "        op2 = sym_tab[op2]\n",
    "    stack.append(action(op1, op2))\n",
    "\n",
    "\n",
    "def main():\n",
    "    '''메인 함수\n",
    "    프로그램을 주도하는 함수다. 파일을 열고 a_list 안에\n",
    "    연산자를 넣어서 a_list의 문자열을 하나씩 처리한다.\n",
    "    '''\n",
    "    global pc\n",
    "    dir('__main__')\n",
    "    a_list = open_rpn_file()\n",
    "    if not a_list:\n",
    "        print('Bye!')\n",
    "        return\n",
    "    pc = -1\n",
    "    while True:\n",
    "        pc += 1\n",
    "        if pc >= len(a_list):\n",
    "            break\n",
    "        a_line = a_list[pc]\n",
    "        try:\n",
    "            a_line = a_line.strip()\n",
    "            if a_line.startswith('PRINTS'):\n",
    "                do_prints(a_line[7:])\n",
    "            elif a_line.startswith('PRINTLN'):\n",
    "                do_println(a_line[8:])\n",
    "            elif a_line.startswith('PRINTVAR'):\n",
    "                do_printvar(a_line[9:], sym_tab)\n",
    "            elif a_line.startswith('INPUT'):\n",
    "                do_input(a_line[6:], sym_tab)\n",
    "            elif a_line:\n",
    "                tokens, unknown = scanner.scan(a_line)\n",
    "                if unknown:\n",
    "                    print('Unrecognized input:', unknown)\n",
    "                    break\n",
    "        except KeyError as e:\n",
    "            print('Unrecognized symbol', e.args[0],\n",
    "                 'found in line', pc)\n",
    "            print(a_list[pc])\n",
    "            break\n",
    "            \n",
    "main()"
   ]
  }
 ],
 "metadata": {
  "kernelspec": {
   "display_name": "Python 3",
   "language": "python",
   "name": "python3"
  },
  "language_info": {
   "codemirror_mode": {
    "name": "ipython",
    "version": 3
   },
   "file_extension": ".py",
   "mimetype": "text/x-python",
   "name": "python",
   "nbconvert_exporter": "python",
   "pygments_lexer": "ipython3",
   "version": "3.7.6"
  }
 },
 "nbformat": 4,
 "nbformat_minor": 4
}
