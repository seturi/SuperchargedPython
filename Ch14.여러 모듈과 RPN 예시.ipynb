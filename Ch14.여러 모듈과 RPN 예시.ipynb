{
 "cells": [
  {
   "cell_type": "markdown",
   "metadata": {},
   "source": [
    "# 14.1 파이썬 모듈의 개요"
   ]
  },
  {
   "cell_type": "code",
   "execution_count": 1,
   "metadata": {},
   "outputs": [
    {
     "name": "stdout",
     "output_type": "stream",
     "text": [
      "__main__\n"
     ]
    }
   ],
   "source": [
    "print(__name__)"
   ]
  },
  {
   "cell_type": "markdown",
   "metadata": {},
   "source": [
    "# 14.2 간단한 2개의 모듈 예시"
   ]
  },
  {
   "cell_type": "code",
   "execution_count": 2,
   "metadata": {},
   "outputs": [
    {
     "name": "stdout",
     "output_type": "stream",
     "text": [
      "Print this thing.\n"
     ]
    }
   ],
   "source": [
    "import printstuff              # printstuff.py 탑재\n",
    "\n",
    "printstuff.print_this('thing')  # 탑재된 함수 호출"
   ]
  },
  {
   "cell_type": "code",
   "execution_count": 3,
   "metadata": {},
   "outputs": [
    {
     "name": "stdout",
     "output_type": "stream",
     "text": [
      "100 and 200\n"
     ]
    }
   ],
   "source": [
    "import printstuff2\n",
    "\n",
    "print('%s and %s' % (printstuff2.x, printstuff2.y))"
   ]
  },
  {
   "cell_type": "code",
   "execution_count": 4,
   "metadata": {},
   "outputs": [
    {
     "name": "stdout",
     "output_type": "stream",
     "text": [
      "Value of z is 0\n"
     ]
    }
   ],
   "source": [
    "from foo_vars import z, print_z_val\n",
    "import foo_vars\n",
    "\n",
    "z = 100\n",
    "print_z_val()"
   ]
  },
  {
   "cell_type": "code",
   "execution_count": 5,
   "metadata": {},
   "outputs": [
    {
     "name": "stdout",
     "output_type": "stream",
     "text": [
      "Value of z is 100\n"
     ]
    }
   ],
   "source": [
    "from foo_vars import z, print_z_val\n",
    "import foo_vars\n",
    "\n",
    "foo_vars.z = 100\n",
    "print_z_val()"
   ]
  },
  {
   "cell_type": "code",
   "execution_count": 6,
   "metadata": {},
   "outputs": [
    {
     "name": "stdout",
     "output_type": "stream",
     "text": [
      "Enter radius:5\n",
      "Area of circle is 78.5398\n",
      "Enter side:5\n",
      "Area of square is 25.0\n"
     ]
    }
   ],
   "source": [
    "import poly      # poly.py 파일 탑재\n",
    "\n",
    "def main():\n",
    "    r = float(input('Enter radius:'))\n",
    "    print('Area of circle is', poly.get_circle_area(r))\n",
    "    x = float(input('Enter side:'))\n",
    "    print('Area of square is', poly.get_square_area(x))\n",
    "\n",
    "main()"
   ]
  },
  {
   "cell_type": "markdown",
   "metadata": {},
   "source": [
    "# 14.3 import 문의 변형"
   ]
  },
  {
   "cell_type": "code",
   "execution_count": 7,
   "metadata": {},
   "outputs": [
    {
     "name": "stdout",
     "output_type": "stream",
     "text": [
      "Enter radius:5\n",
      "Area of circle is 78.5398\n",
      "Enter side:5\n",
      "Area of square is 25.0\n"
     ]
    }
   ],
   "source": [
    "from poly import get_circle_area, get_square_area\n",
    "\n",
    "def main():\n",
    "    r = float(input('Enter radius:'))\n",
    "    print('Area of circle is', get_circle_area(r))\n",
    "    x = float(input('Enter side:'))\n",
    "    print('Area of square is', get_square_area(x))\n",
    "\n",
    "main()"
   ]
  },
  {
   "cell_type": "markdown",
   "metadata": {},
   "source": [
    "# 14.4 __all__ 기호 사용하기"
   ]
  },
  {
   "cell_type": "code",
   "execution_count": 8,
   "metadata": {},
   "outputs": [
    {
     "name": "stdout",
     "output_type": "stream",
     "text": [
      "The value of x is 1000.\n",
      "And z is 5.\n",
      "The value of y is 500.\n",
      "And z is 5.\n"
     ]
    }
   ],
   "source": [
    "from module2 import *\n",
    "\n",
    "pr_nice('x', x)\n",
    "pr_nice('y', y)"
   ]
  },
  {
   "cell_type": "code",
   "execution_count": 10,
   "metadata": {},
   "outputs": [
    {
     "name": "stdout",
     "output_type": "stream",
     "text": [
      "z is 5, for heaven's sake!\n"
     ]
    }
   ],
   "source": [
    "from module2 import *\n",
    "from module2 import z\n",
    "\n",
    "print(\"z is %i, for heaven's sake!\" % z)"
   ]
  },
  {
   "cell_type": "markdown",
   "metadata": {},
   "source": [
    "# 14.5 전역과 지역 모듈 변수"
   ]
  },
  {
   "cell_type": "code",
   "execution_count": 1,
   "metadata": {},
   "outputs": [
    {
     "name": "stdout",
     "output_type": "stream",
     "text": [
      "10\n",
      "100\n"
     ]
    }
   ],
   "source": [
    "# from mod_a import *  # 실패한다\n",
    "from mod_a import _a, __b\n",
    "\n",
    "print(_a)\n",
    "print(__b)"
   ]
  },
  {
   "cell_type": "markdown",
   "metadata": {},
   "source": [
    "# 14.6 메인 모듈과 __main__"
   ]
  },
  {
   "cell_type": "code",
   "execution_count": 4,
   "metadata": {},
   "outputs": [
    {
     "name": "stdout",
     "output_type": "stream",
     "text": [
      "My name is __main__.\n",
      "\n",
      "<built-in function dir>\n"
     ]
    }
   ],
   "source": [
    "import mod_a\n",
    "\n",
    "x = 1\n",
    "y = 2\n",
    "print('My name is %s.\\n' % __name__)\n",
    "print(dir)"
   ]
  },
  {
   "cell_type": "code",
   "execution_count": 7,
   "metadata": {},
   "outputs": [
    {
     "name": "stdout",
     "output_type": "stream",
     "text": [
      "My name is mod_a1.\n",
      "\n",
      "My name is __main__.\n",
      "\n",
      "<built-in function dir>\n"
     ]
    }
   ],
   "source": [
    "import mod_a1\n",
    "\n",
    "x = 1\n",
    "y = 2\n",
    "print('My name is %s.\\n' % __name__)\n",
    "print(dir)"
   ]
  },
  {
   "cell_type": "code",
   "execution_count": 6,
   "metadata": {},
   "outputs": [
    {
     "name": "stdout",
     "output_type": "stream",
     "text": [
      "Hi, there, Python!\n"
     ]
    }
   ],
   "source": [
    "def call_me_first():\n",
    "    print('Hi, there, Python!')\n",
    "    \n",
    "if __name__ == '__main__':\n",
    "    call_me_first()"
   ]
  },
  {
   "cell_type": "markdown",
   "metadata": {},
   "source": [
    "# 14.7 상호 탑재 문제 해결하기"
   ]
  },
  {
   "cell_type": "code",
   "execution_count": 8,
   "metadata": {},
   "outputs": [
    {
     "name": "stdout",
     "output_type": "stream",
     "text": [
      "4\n",
      "3\n",
      "2\n",
      "1\n",
      "0\n"
     ]
    }
   ],
   "source": [
    "import mod_a2\n",
    "mod_a2.funcA(5)"
   ]
  }
 ],
 "metadata": {
  "kernelspec": {
   "display_name": "Python 3",
   "language": "python",
   "name": "python3"
  },
  "language_info": {
   "codemirror_mode": {
    "name": "ipython",
    "version": 3
   },
   "file_extension": ".py",
   "mimetype": "text/x-python",
   "name": "python",
   "nbconvert_exporter": "python",
   "pygments_lexer": "ipython3",
   "version": "3.7.6"
  }
 },
 "nbformat": 4,
 "nbformat_minor": 4
}
