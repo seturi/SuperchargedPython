{
 "cells": [
  {
   "cell_type": "markdown",
   "metadata": {},
   "source": [
    "# 11.3 무작위 행동 테스트하기"
   ]
  },
  {
   "cell_type": "code",
   "execution_count": 1,
   "metadata": {},
   "outputs": [],
   "source": [
    "import random\n",
    "def do_trials(n):\n",
    "    hits = [0] * 10\n",
    "    for i in range(n):\n",
    "        a = random.randint(0, 9)\n",
    "        hits[a] += 1\n",
    "    for i in range(10):\n",
    "        fss = '{}: {}\\t {:.3}'\n",
    "        print(fss.format(i, hits[i], hits[i]/(n/10)))"
   ]
  },
  {
   "cell_type": "code",
   "execution_count": 2,
   "metadata": {},
   "outputs": [
    {
     "name": "stdout",
     "output_type": "stream",
     "text": [
      "0: 14\t 1.4\n",
      "1: 10\t 1.0\n",
      "2: 12\t 1.2\n",
      "3: 15\t 1.5\n",
      "4: 9\t 0.9\n",
      "5: 8\t 0.8\n",
      "6: 10\t 1.0\n",
      "7: 3\t 0.3\n",
      "8: 7\t 0.7\n",
      "9: 12\t 1.2\n"
     ]
    }
   ],
   "source": [
    "do_trials(100)"
   ]
  },
  {
   "cell_type": "code",
   "execution_count": 3,
   "metadata": {},
   "outputs": [
    {
     "name": "stdout",
     "output_type": "stream",
     "text": [
      "0: 89\t 0.89\n",
      "1: 114\t 1.14\n",
      "2: 102\t 1.02\n",
      "3: 98\t 0.98\n",
      "4: 105\t 1.05\n",
      "5: 104\t 1.04\n",
      "6: 102\t 1.02\n",
      "7: 91\t 0.91\n",
      "8: 89\t 0.89\n",
      "9: 106\t 1.06\n"
     ]
    }
   ],
   "source": [
    "do_trials(1000)  "
   ]
  },
  {
   "cell_type": "code",
   "execution_count": 4,
   "metadata": {},
   "outputs": [
    {
     "name": "stdout",
     "output_type": "stream",
     "text": [
      "0: 7589\t 0.986\n",
      "1: 7780\t 1.01\n",
      "2: 7647\t 0.993\n",
      "3: 7720\t 1.0\n",
      "4: 7809\t 1.01\n",
      "5: 7723\t 1.0\n",
      "6: 7689\t 0.999\n",
      "7: 7700\t 1.0\n",
      "8: 7628\t 0.991\n",
      "9: 7715\t 1.0\n"
     ]
    }
   ],
   "source": [
    "do_trials(77000)"
   ]
  },
  {
   "cell_type": "markdown",
   "metadata": {},
   "source": [
    "# 11.4 무작위-정수 게임"
   ]
  },
  {
   "cell_type": "code",
   "execution_count": 7,
   "metadata": {},
   "outputs": [
    {
     "name": "stdout",
     "output_type": "stream",
     "text": [
      "Enter guess:26\n",
      "Too high. Enter guess:20\n",
      "Too high. Enter guess:19\n",
      "Too high. Enter guess:9\n",
      "Too high. Enter guess:5\n",
      "Too high. Enter guess:3\n",
      "Too high. Enter guess:1\n",
      "Too low. Enter guess:2\n",
      "Success! You win.\n"
     ]
    }
   ],
   "source": [
    "import random\n",
    "n = random.randint(1, 50)\n",
    "while True:\n",
    "    guess = int(input('Enter guess: '))\n",
    "    if guess == n:\n",
    "        print('Success! You win.')\n",
    "        break\n",
    "    elif guess < n:\n",
    "        print('Too low.', end=' ')\n",
    "    else:\n",
    "        print('Too high.', end=' ')"
   ]
  },
  {
   "cell_type": "code",
   "execution_count": 9,
   "metadata": {},
   "outputs": [
    {
     "name": "stdout",
     "output_type": "stream",
     "text": [
      "Enter guess (0 to exit): 25\n",
      "Too low. Enter guess (0 to exit): 35\n",
      "Too high. Enter guess (0 to exit): 28\n",
      "Success! You win.\n",
      "Want to play again?(Y or N): Y\n",
      "Enter guess (0 to exit): 0\n",
      "Exiting game.\n",
      "Want to play again?(Y or N): N\n"
     ]
    }
   ],
   "source": [
    "import random\n",
    "def play_the_game():\n",
    "    n = random.randint(1, 50)\n",
    "    while True:\n",
    "        guess = int(input('Enter guess (0 to exit): '))\n",
    "        if guess == 0:\n",
    "            print('Exiting game.')\n",
    "            break\n",
    "        elif guess == n:\n",
    "            print('Success! You win.')\n",
    "            break\n",
    "        elif guess < n:\n",
    "            print('Too low.', end=' ')\n",
    "        else:\n",
    "            print('Too high.', end=' ')\n",
    "            \n",
    "while True:\n",
    "    play_the_game()\n",
    "    ans = input('Want to play again?(Y or N): ')\n",
    "    if not ans or ans[0] in 'Nn':\n",
    "        break"
   ]
  },
  {
   "cell_type": "markdown",
   "metadata": {},
   "source": [
    "# 11.5 카드 덱 객체 만들기"
   ]
  },
  {
   "cell_type": "code",
   "execution_count": 11,
   "metadata": {},
   "outputs": [
    {
     "name": "stdout",
     "output_type": "stream",
     "text": [
      "['James', 'George', 'John', 'Henry', 'Henry']\n"
     ]
    }
   ],
   "source": [
    "kings_list = ['John', 'James', 'Henry', 'Henry', 'George']\n",
    "random.shuffle(kings_list)\n",
    "print(kings_list)"
   ]
  },
  {
   "cell_type": "code",
   "execution_count": 20,
   "metadata": {},
   "outputs": [],
   "source": [
    "import random\n",
    "class Deck():\n",
    "    \n",
    "    def __init__(self, size):\n",
    "        self.card_list = [i for i in range(size)]\n",
    "        random.shuffle(self.card_list)\n",
    "        self.current_card = 0\n",
    "        self.size = size\n",
    "        \n",
    "    def deal(self):\n",
    "        if self.size - self.current_card < 1:\n",
    "            random.shuffle(self.card_list)\n",
    "            self.current_card = 0\n",
    "            print('Reshuffling...!!!')\n",
    "        self.current_card += 1\n",
    "        return self.card_list[self.current_card - 1]"
   ]
  },
  {
   "cell_type": "code",
   "execution_count": 21,
   "metadata": {},
   "outputs": [
    {
     "name": "stdout",
     "output_type": "stream",
     "text": [
      "A of hearts\n",
      "\n",
      "Q of clubs\n",
      "\n",
      "K of spades\n",
      "\n",
      "4 of spades\n",
      "\n",
      "7 of diamonds\n",
      "\n",
      "J of spades\n",
      "\n",
      "6 of spades\n",
      "\n",
      "4 of hearts\n",
      "\n",
      "8 of spades\n",
      "\n",
      "3 of diamonds\n",
      "\n",
      "8 of diamonds\n",
      "\n",
      "Q of diamonds\n",
      "\n",
      "5 of spades\n",
      "\n",
      "4 of clubs\n",
      "\n",
      "10 of hearts\n",
      "\n",
      "6 of clubs\n",
      "\n",
      "10 of spades\n",
      "\n",
      "2 of diamonds\n",
      "\n",
      "4 of diamonds\n",
      "\n",
      "K of clubs\n",
      "\n",
      "5 of diamonds\n",
      "\n",
      "Q of hearts\n",
      "\n",
      "K of diamonds\n",
      "\n",
      "3 of hearts\n",
      "\n",
      "6 of diamonds\n",
      "\n",
      "9 of hearts\n",
      "\n",
      "9 of clubs\n",
      "\n",
      "10 of diamonds\n",
      "\n",
      "5 of hearts\n",
      "\n",
      "2 of clubs\n",
      "\n",
      "9 of spades\n",
      "\n",
      "9 of diamonds\n",
      "\n",
      "2 of hearts\n",
      "\n",
      "J of diamonds\n",
      "\n",
      "A of spades\n",
      "\n",
      "Q of spades\n",
      "\n",
      "K of hearts\n",
      "\n",
      "3 of spades\n",
      "\n",
      "A of clubs\n",
      "\n",
      "10 of clubs\n",
      "\n",
      "7 of hearts\n",
      "\n",
      "8 of hearts\n",
      "\n",
      "2 of spades\n",
      "\n",
      "3 of clubs\n",
      "\n",
      "7 of spades\n",
      "\n",
      "A of diamonds\n",
      "\n",
      "J of clubs\n",
      "\n",
      "8 of clubs\n",
      "\n",
      "J of hearts\n",
      "\n",
      "7 of clubs\n",
      "\n",
      "6 of hearts\n",
      "\n",
      "5 of clubs\n",
      "\n",
      "Reshuffling...!!!\n",
      "K of spades\n",
      "\n",
      "3 of clubs\n",
      "\n",
      "2 of diamonds\n",
      "\n",
      "3 of spades\n",
      "\n",
      "8 of diamonds\n",
      "\n",
      "9 of diamonds\n",
      "\n",
      "5 of diamonds\n",
      "\n",
      "10 of spades\n",
      "\n"
     ]
    }
   ],
   "source": [
    "ranks = ['2', '3', '4', '5', '6', '7', '8', '9', '10', 'J', 'Q', 'K', 'A']\n",
    "suits = ['clubs', 'diamonds', 'hearts', 'spades']\n",
    "my_deck = Deck(52)\n",
    "\n",
    "# 12 포커 핸드 (twelve poker hands) 게임\n",
    "# 사용자는 덱을 섞기 전과 후의 카드를 비교할 수 있다.\n",
    "\n",
    "for i in range(12):\n",
    "    for i in range(5):\n",
    "        d = my_deck.deal()\n",
    "        r = d % 13\n",
    "        s = d // 13\n",
    "        print(ranks[r], 'of', suits[s])\n",
    "        print()"
   ]
  },
  {
   "cell_type": "code",
   "execution_count": 22,
   "metadata": {},
   "outputs": [],
   "source": [
    "import random\n",
    "\n",
    "class Deck():\n",
    "    def __init__(self, size):\n",
    "        self.card_list = [i for i in range(size)]\n",
    "        self.cards_in_play_list = []\n",
    "        self.discards_list = []\n",
    "        random.shuffle(self.card_list)\n",
    "        \n",
    "    def deal(self):\n",
    "        if len(self.card_list) < 1:\n",
    "            random.shuffle(self.discards_list)\n",
    "            self.card_list = self.discards_list\n",
    "            self.discards_list = []\n",
    "            print('Reshuffling...!!!')\n",
    "        new_card = self.card_list.pop()\n",
    "        self.cards_in_play_list.append(new_card)\n",
    "        return new_card\n",
    "    \n",
    "    def new_hand(self):\n",
    "        self.discards_list += self.cards_in_play_list\n",
    "        self.cards_in_play_list.clear()"
   ]
  },
  {
   "cell_type": "markdown",
   "metadata": {},
   "source": [
    "# 11.6 덱에 픽토그램 추가하기"
   ]
  },
  {
   "cell_type": "code",
   "execution_count": 23,
   "metadata": {},
   "outputs": [
    {
     "name": "stdout",
     "output_type": "stream",
     "text": [
      "9♠ A♠ 5♦ 2♠ 3♥ "
     ]
    }
   ],
   "source": [
    "import random\n",
    "\n",
    "class Deck():\n",
    "    def __init__(self, n_decks=1):\n",
    "        self.card_list = [num + suit\n",
    "                         for suit in '\\u2665\\u2666\\u2663\\u2660'\n",
    "                         for num in 'A23456789TJQK'\n",
    "                        for deck in range(n_decks)]\n",
    "        self.cards_in_play_list = []\n",
    "        self.discards_list = []\n",
    "        random.shuffle(self.card_list)\n",
    "        \n",
    "    def deal(self):\n",
    "        if len(self.card_list) < 1:\n",
    "            random.shuffle(self.discards_list)\n",
    "            self.card_list = self.discards_list\n",
    "            self.discards_list = []\n",
    "            print('Reshuffling...!!!')\n",
    "        new_card = self.card_list.pop()\n",
    "        self.cards_in_play_list.append(new_card)\n",
    "        return new_card\n",
    "    \n",
    "    def new_hand(self):\n",
    "        self.discards_list += self.cards_in_play_list\n",
    "        self.cards_in_play_list.clear()\n",
    "        \n",
    "dk = Deck(6)        # 6개-덱 카드 케이스 사용\n",
    "for i in range(5):\n",
    "    print(dk.deal(), end=' ')"
   ]
  }
 ],
 "metadata": {
  "kernelspec": {
   "display_name": "Python 3",
   "language": "python",
   "name": "python3"
  },
  "language_info": {
   "codemirror_mode": {
    "name": "ipython",
    "version": 3
   },
   "file_extension": ".py",
   "mimetype": "text/x-python",
   "name": "python",
   "nbconvert_exporter": "python",
   "pygments_lexer": "ipython3",
   "version": "3.7.6"
  }
 },
 "nbformat": 4,
 "nbformat_minor": 4
}
