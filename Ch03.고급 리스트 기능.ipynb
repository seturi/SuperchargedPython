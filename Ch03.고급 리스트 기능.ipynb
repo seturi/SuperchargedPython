{
 "cells": [
  {
   "cell_type": "markdown",
   "metadata": {},
   "source": [
    "# 3.1 파이썬 리스트 생성 및 활용"
   ]
  },
  {
   "cell_type": "code",
   "execution_count": 1,
   "metadata": {},
   "outputs": [],
   "source": [
    "my_int_list = [5, -20, 5, -69]\n",
    "beat_list = ['John', 'Paul', 'George', 'Ringo']\n",
    "mixed_list = [10, 'John', 5, 'Paul']"
   ]
  },
  {
   "cell_type": "code",
   "execution_count": 4,
   "metadata": {},
   "outputs": [
    {
     "data": {
      "text/plain": [
       "[2, 2.5, 3, 17]"
      ]
     },
     "execution_count": 4,
     "metadata": {},
     "output_type": "execute_result"
    }
   ],
   "source": [
    "num_list = [3, 2, 17, 2.5]\n",
    "num_list.sort()\n",
    "num_list"
   ]
  },
  {
   "cell_type": "code",
   "execution_count": 7,
   "metadata": {},
   "outputs": [
    {
     "name": "stdout",
     "output_type": "stream",
     "text": [
      "[1, 2, 3]\n",
      "[2, 3]\n"
     ]
    }
   ],
   "source": [
    "my_list = []\n",
    "my_list.append(1)\n",
    "my_list.append(2)\n",
    "my_list.append(3)\n",
    "print(my_list)\n",
    "my_list.remove(1)\n",
    "print(my_list)"
   ]
  },
  {
   "cell_type": "code",
   "execution_count": 9,
   "metadata": {},
   "outputs": [
    {
     "data": {
      "text/plain": [
       "[1.0, 9.8, 1.0]"
      ]
     },
     "execution_count": 9,
     "metadata": {},
     "output_type": "execute_result"
    }
   ],
   "source": [
    "the_scores = [1.0, 1.0, 9.8, 1.0]\n",
    "the_scores.remove(1.0)\n",
    "the_scores"
   ]
  },
  {
   "cell_type": "markdown",
   "metadata": {},
   "source": [
    "# 3.2 리스트 복사 vs 리스트 변수 복사"
   ]
  },
  {
   "cell_type": "code",
   "execution_count": 11,
   "metadata": {},
   "outputs": [
    {
     "name": "stdout",
     "output_type": "stream",
     "text": [
      "[2, 5, 10, 100, 200, 1]\n"
     ]
    }
   ],
   "source": [
    "a_list = [2, 5, 10]\n",
    "b_list = a_list  # 참조\n",
    "\n",
    "b_list.append(100)\n",
    "b_list.append(200)\n",
    "b_list.append(1)\n",
    "print(a_list)"
   ]
  },
  {
   "cell_type": "code",
   "execution_count": 12,
   "metadata": {},
   "outputs": [],
   "source": [
    "my_list = [1, 10, 5]\n",
    "yr_list = my_list[:] # 항목 간 복사"
   ]
  },
  {
   "cell_type": "markdown",
   "metadata": {},
   "source": [
    "# 3.3 인덱스"
   ]
  },
  {
   "cell_type": "code",
   "execution_count": 13,
   "metadata": {},
   "outputs": [
    {
     "data": {
      "text/plain": [
       "100"
      ]
     },
     "execution_count": 13,
     "metadata": {},
     "output_type": "execute_result"
    }
   ],
   "source": [
    "my_list = [100, 500, 1000]\n",
    "my_list[0]"
   ]
  },
  {
   "cell_type": "code",
   "execution_count": 14,
   "metadata": {},
   "outputs": [],
   "source": [
    "my_list[1] = 55"
   ]
  },
  {
   "cell_type": "markdown",
   "metadata": {},
   "source": [
    "## 3.3.1 양수 인덱스"
   ]
  },
  {
   "cell_type": "code",
   "execution_count": 17,
   "metadata": {},
   "outputs": [
    {
     "name": "stdout",
     "output_type": "stream",
     "text": [
      "100\n",
      "200\n",
      "300\n"
     ]
    }
   ],
   "source": [
    "a_list = [100, 200, 300, 400, 500, 600]\n",
    "print(a_list[0], a_list[1], a_list[2], sep = '\\n')"
   ]
  },
  {
   "cell_type": "markdown",
   "metadata": {},
   "source": [
    "## 3.3.2 음수 인덱스"
   ]
  },
  {
   "cell_type": "code",
   "execution_count": 18,
   "metadata": {},
   "outputs": [
    {
     "name": "stdout",
     "output_type": "stream",
     "text": [
      "600\n",
      "400\n"
     ]
    }
   ],
   "source": [
    "print(a_list[-1], a_list[-3], sep = '\\n')"
   ]
  },
  {
   "cell_type": "markdown",
   "metadata": {},
   "source": [
    "## 3.3.3 enumerate 함수로 인덱스 숫자 생성"
   ]
  },
  {
   "cell_type": "code",
   "execution_count": 19,
   "metadata": {},
   "outputs": [
    {
     "name": "stdout",
     "output_type": "stream",
     "text": [
      "Tom\n",
      "Dick\n",
      "Jane\n"
     ]
    }
   ],
   "source": [
    "a_list = ['Tom', 'Dick', 'Jane']\n",
    "\n",
    "for s in a_list:\n",
    "    print(s)"
   ]
  },
  {
   "cell_type": "code",
   "execution_count": 20,
   "metadata": {},
   "outputs": [
    {
     "name": "stdout",
     "output_type": "stream",
     "text": [
      "Tom\n",
      "Dick\n",
      "Jane\n"
     ]
    }
   ],
   "source": [
    "for i in range(len(a_list)):\n",
    "    print(a_list[i])"
   ]
  },
  {
   "cell_type": "code",
   "execution_count": 21,
   "metadata": {},
   "outputs": [
    {
     "data": {
      "text/plain": [
       "[(1, 'Tom'), (2, 'Dick'), (3, 'Jane')]"
      ]
     },
     "execution_count": 21,
     "metadata": {},
     "output_type": "execute_result"
    }
   ],
   "source": [
    "list(enumerate(a_list, 1))"
   ]
  },
  {
   "cell_type": "code",
   "execution_count": 23,
   "metadata": {},
   "outputs": [
    {
     "name": "stdout",
     "output_type": "stream",
     "text": [
      "1. Tom\n",
      "2. Dick\n",
      "3. Jane\n"
     ]
    }
   ],
   "source": [
    "for item_num, name_str in enumerate(a_list, 1):\n",
    "    print(item_num, '. ', name_str, sep='')"
   ]
  },
  {
   "cell_type": "markdown",
   "metadata": {},
   "source": [
    "# 3.4 조각으로부터 데이터 가져오기"
   ]
  },
  {
   "cell_type": "code",
   "execution_count": 24,
   "metadata": {},
   "outputs": [
    {
     "name": "stdout",
     "output_type": "stream",
     "text": [
      "[2, 5]\n",
      "[20, 30]\n",
      "[5, 10, 20]\n",
      "[30]\n"
     ]
    }
   ],
   "source": [
    "a_list = [1, 2, 5, 10, 20, 30]\n",
    "b_list = a_list[1:3]\n",
    "c_list = a_list[4:]\n",
    "d_list = a_list[-4:-1]\n",
    "e_list = a_list[-1:]\n",
    "print(b_list, c_list, d_list, e_list, sep='\\n')"
   ]
  },
  {
   "cell_type": "code",
   "execution_count": 26,
   "metadata": {},
   "outputs": [
    {
     "name": "stdout",
     "output_type": "stream",
     "text": [
      "[300, 500]\n"
     ]
    }
   ],
   "source": [
    "a_list = [100, 200, 300, 400, 500, 600]\n",
    "b_list = a_list[2:5:2]\n",
    "print(b_list)"
   ]
  },
  {
   "cell_type": "code",
   "execution_count": 27,
   "metadata": {},
   "outputs": [
    {
     "name": "stdout",
     "output_type": "stream",
     "text": [
      "[600, 500, 400, 300, 200, 100]\n"
     ]
    }
   ],
   "source": [
    "rev_list = a_list[::-1]\n",
    "print(rev_list)"
   ]
  },
  {
   "cell_type": "markdown",
   "metadata": {},
   "source": [
    "# 3.5 조각 안에 값 대입하기"
   ]
  },
  {
   "cell_type": "code",
   "execution_count": 29,
   "metadata": {},
   "outputs": [
    {
     "name": "stdout",
     "output_type": "stream",
     "text": [
      "[10, 707, 777, 50, 60]\n"
     ]
    }
   ],
   "source": [
    "my_list = [10, 20, 30, 40, 50, 60]\n",
    "my_list[1:4] = [707, 777]\n",
    "print(my_list)"
   ]
  },
  {
   "cell_type": "code",
   "execution_count": 1,
   "metadata": {},
   "outputs": [
    {
     "name": "stdout",
     "output_type": "stream",
     "text": [
      "[-50, -40, 1, 2, 3, 4]\n"
     ]
    }
   ],
   "source": [
    "my_list = [1, 2, 3, 4]\n",
    "my_list[0:0] = [-50, -40]\n",
    "print(my_list)"
   ]
  },
  {
   "cell_type": "markdown",
   "metadata": {},
   "source": [
    "# 3.6 리스트 연산자"
   ]
  },
  {
   "cell_type": "code",
   "execution_count": 2,
   "metadata": {},
   "outputs": [],
   "source": [
    "a_list = [1, 3, 5, 0, 2]\n",
    "b_list = a_list    # 별칭 생성\n",
    "c_list = a_list[:] # 항목 간 복사"
   ]
  },
  {
   "cell_type": "code",
   "execution_count": 3,
   "metadata": {},
   "outputs": [],
   "source": [
    "big_array = [0] * 1000"
   ]
  },
  {
   "cell_type": "code",
   "execution_count": 4,
   "metadata": {},
   "outputs": [
    {
     "name": "stdout",
     "output_type": "stream",
     "text": [
      "False\n",
      "False\n"
     ]
    }
   ],
   "source": [
    "a = [1, 2, 3]\n",
    "print(None in a)\n",
    "print([] in a)"
   ]
  },
  {
   "cell_type": "code",
   "execution_count": 5,
   "metadata": {},
   "outputs": [
    {
     "name": "stdout",
     "output_type": "stream",
     "text": [
      "True\n",
      "True\n"
     ]
    }
   ],
   "source": [
    "b = [1, 2, 3, [], None]\n",
    "print(None in b)\n",
    "print([] in b)"
   ]
  },
  {
   "cell_type": "markdown",
   "metadata": {},
   "source": [
    "# 3.7 얕은 복사 vs 깊은 복사"
   ]
  },
  {
   "cell_type": "code",
   "execution_count": 7,
   "metadata": {},
   "outputs": [
    {
     "name": "stdout",
     "output_type": "stream",
     "text": [
      "[1, 2, [0, 0]]\n",
      "[0, 0, [0, 0]]\n"
     ]
    }
   ],
   "source": [
    "a_list = [1, 2, [5, 10]]\n",
    "b_list = a_list[:]  # 항목 간 복사로 깊은 복사를 시도했으나, 내부 리스트는 그 참조가 복사됨\n",
    "\n",
    "b_list[0] = 0\n",
    "b_list[1] = 0\n",
    "b_list[2][0] = 0\n",
    "b_list[2][1] = 0\n",
    "\n",
    "print(a_list)\n",
    "print(b_list)"
   ]
  },
  {
   "cell_type": "code",
   "execution_count": 1,
   "metadata": {},
   "outputs": [],
   "source": [
    "import copy\n",
    "\n",
    "a_list = [1, 2, [5, 10]]\n",
    "b_list = copy.deepcopy(a_list)  # 깊은 복사로 복제본 만들기"
   ]
  },
  {
   "cell_type": "markdown",
   "metadata": {},
   "source": [
    "# 3.8 리스트 함수"
   ]
  },
  {
   "cell_type": "code",
   "execution_count": 2,
   "metadata": {},
   "outputs": [],
   "source": [
    "a_list = [1, 2, 3, 4, 5]\n",
    "for i in range(len(a_list)):\n",
    "    a_list[i] *= 2"
   ]
  },
  {
   "cell_type": "code",
   "execution_count": 3,
   "metadata": {},
   "outputs": [
    {
     "name": "stdout",
     "output_type": "stream",
     "text": [
      "Length of the list is 4\n",
      "Max and min are 120 -5\n"
     ]
    }
   ],
   "source": [
    "a_list = [100, -3, -5, 120]\n",
    "print('Length of the list is', len(a_list))\n",
    "print('Max and min are', max(a_list), min(a_list))"
   ]
  },
  {
   "cell_type": "code",
   "execution_count": 4,
   "metadata": {},
   "outputs": [
    {
     "name": "stdout",
     "output_type": "stream",
     "text": [
      "[15, 30, 45, 55]\n"
     ]
    }
   ],
   "source": [
    "a_tup = (30, 55, 15, 45)\n",
    "print(sorted(a_tup))"
   ]
  },
  {
   "cell_type": "code",
   "execution_count": 7,
   "metadata": {},
   "outputs": [
    {
     "name": "stdout",
     "output_type": "stream",
     "text": [
      "0 5 3 1 \n",
      "(0, 5, 3, 1)\n"
     ]
    }
   ],
   "source": [
    "a_tup = (1, 3, 5, 0)\n",
    "for i in reversed(a_tup):\n",
    "    print(i, end=' ')\n",
    "print()\n",
    "print(tuple(reversed(a_tup)))"
   ]
  },
  {
   "cell_type": "code",
   "execution_count": 8,
   "metadata": {},
   "outputs": [
    {
     "name": "stdout",
     "output_type": "stream",
     "text": [
      "The average is  26.56857142857143\n"
     ]
    }
   ],
   "source": [
    "num_list = [2.45, 1, -10, 55.5, 100.03, 40, -3]\n",
    "print('The average is ', sum(num_list) / len(num_list))"
   ]
  },
  {
   "cell_type": "markdown",
   "metadata": {},
   "source": [
    " # 3.9 리스트 메서드: 리스트 수정하기"
   ]
  },
  {
   "cell_type": "code",
   "execution_count": 10,
   "metadata": {},
   "outputs": [
    {
     "name": "stdout",
     "output_type": "stream",
     "text": [
      "[1, 2, 3, 4, 4, 4, 5, 6]\n"
     ]
    }
   ],
   "source": [
    "a_list = [1, 2, 3]\n",
    "a_list.append(4)\n",
    "a_list.extend([4]) # 윗 줄과 똑같이 동작\n",
    "a_list.extend([4, 5, 6])\n",
    "print(a_list)"
   ]
  },
  {
   "cell_type": "code",
   "execution_count": 11,
   "metadata": {},
   "outputs": [
    {
     "name": "stdout",
     "output_type": "stream",
     "text": [
      "[10, 20, 30, 40]\n",
      "[10, 20, 30, 40, 33]\n",
      "[44, 10, 20, 30, 40, 33]\n"
     ]
    }
   ],
   "source": [
    "a_list = [10, 20, 40]\n",
    "a_list.insert(2, 30)\n",
    "print(a_list)\n",
    "a_list.insert(100, 33)\n",
    "print(a_list)\n",
    "a_list.insert(-100, 44)\n",
    "print(a_list)"
   ]
  },
  {
   "cell_type": "code",
   "execution_count": 13,
   "metadata": {},
   "outputs": [
    {
     "name": "stdout",
     "output_type": "stream",
     "text": [
      "[15, 15, 25]\n"
     ]
    }
   ],
   "source": [
    "my_list = [15, 25, 15, 25]\n",
    "my_list.remove(25)\n",
    "print(my_list)"
   ]
  },
  {
   "cell_type": "code",
   "execution_count": 14,
   "metadata": {},
   "outputs": [
    {
     "name": "stdout",
     "output_type": "stream",
     "text": [
      "8.675\n"
     ]
    }
   ],
   "source": [
    "def eval_scores(a_list):\n",
    "    a_list.remove(max(a_list))\n",
    "    a_list.remove(min(a_list))\n",
    "    return sum(a_list) / len(a_list)\n",
    "\n",
    "the_scores = [8.5, 6.0, 8.5, 8.7, 9.9, 9.0]\n",
    "print(eval_scores(the_scores))"
   ]
  },
  {
   "cell_type": "markdown",
   "metadata": {},
   "source": [
    "# 3.10 리스트 메서드: 내용 정보 가져오기"
   ]
  },
  {
   "cell_type": "code",
   "execution_count": 15,
   "metadata": {},
   "outputs": [
    {
     "name": "stdout",
     "output_type": "stream",
     "text": [
      "3\n",
      "1\n",
      "0\n",
      "1\n"
     ]
    }
   ],
   "source": [
    "yr_list = [1 ,2, 1, 1, [3, 4]]\n",
    "print(yr_list.count(1))\n",
    "print(yr_list.count(2))\n",
    "print(yr_list.count(3))\n",
    "print(yr_list.count([3, 4]))"
   ]
  },
  {
   "cell_type": "code",
   "execution_count": 17,
   "metadata": {},
   "outputs": [
    {
     "name": "stdout",
     "output_type": "stream",
     "text": [
      "3\n"
     ]
    }
   ],
   "source": [
    "beat_list = ['John', 'Paul', 'George', 'Ringo']\n",
    "print(beat_list.index('Ringo'))"
   ]
  },
  {
   "cell_type": "markdown",
   "metadata": {},
   "source": [
    "# 3.11 리스트 메서드: 재편성하기"
   ]
  },
  {
   "cell_type": "code",
   "execution_count": 18,
   "metadata": {},
   "outputs": [
    {
     "name": "stdout",
     "output_type": "stream",
     "text": [
      "Enter next name: ss\n",
      "Enter next name: \n",
      "Here is the sorted list:\n",
      "ss "
     ]
    }
   ],
   "source": [
    "def main():\n",
    "    my_list = []\n",
    "    while True:\n",
    "        s = input('Enter next name: ')\n",
    "        if len(s) == 0:\n",
    "            break\n",
    "        my_list.append(s)\n",
    "    my_list.sort()\n",
    "    print('Here is the sorted list:')\n",
    "    for a_word in my_list:\n",
    "        print(a_word, end=' ')\n",
    "\n",
    "main()"
   ]
  },
  {
   "cell_type": "code",
   "execution_count": 19,
   "metadata": {},
   "outputs": [
    {
     "name": "stdout",
     "output_type": "stream",
     "text": [
      "['George', 'Ringo', 'brian', 'john', 'paul']\n",
      "['brian', 'George', 'john', 'paul', 'Ringo']\n"
     ]
    }
   ],
   "source": [
    "def ignore_case(s):\n",
    "    return s.casefold()\n",
    "\n",
    "a_list = ['john', 'paul', 'George', 'brian', 'Ringo']\n",
    "b_list = a_list[:]\n",
    "a_list.sort()\n",
    "b_list.sort(key=ignore_case)\n",
    "print(a_list)\n",
    "print(b_list)"
   ]
  },
  {
   "cell_type": "code",
   "execution_count": 23,
   "metadata": {},
   "outputs": [
    {
     "name": "stdout",
     "output_type": "stream",
     "text": [
      "Ringo George Paul John Brian "
     ]
    }
   ],
   "source": [
    "my_list = ['Brian', 'John', 'Paul', 'George', 'Ringo']\n",
    "my_list.reverse()\n",
    "for a_word in my_list:\n",
    "    print(a_word, end=' ')"
   ]
  },
  {
   "cell_type": "markdown",
   "metadata": {},
   "source": [
    "# 3.12 스택 역할을 하는 리스트: RPN 애플리케이션"
   ]
  },
  {
   "cell_type": "code",
   "execution_count": 1,
   "metadata": {},
   "outputs": [
    {
     "name": "stdout",
     "output_type": "stream",
     "text": [
      "Enter RPN string: 10 5 * 7 3 + /\n",
      "5.0\n"
     ]
    }
   ],
   "source": [
    "# 후위 계산 프로그램\n",
    "\n",
    "the_stack = []\n",
    "\n",
    "def push(v):\n",
    "    the_stack.append(v)\n",
    "    \n",
    "def pop():\n",
    "    return the_stack.pop()\n",
    "\n",
    "def main():\n",
    "    s = input('Enter RPN string: ')\n",
    "    a_list = s.split()\n",
    "    for item in a_list:\n",
    "        if item in '+-*/':\n",
    "            op2 = pop()\n",
    "            op1 = pop()\n",
    "            if item == '+':\n",
    "                push(op1 + op2)\n",
    "            elif item == '-':\n",
    "                push(op1 - op2)\n",
    "            elif item == '*':\n",
    "                push(op1 * op2)\n",
    "            else:\n",
    "                push(op1 / op2)\n",
    "        else:\n",
    "            push(float(item))\n",
    "    print(pop())\n",
    "\n",
    "main()"
   ]
  },
  {
   "cell_type": "markdown",
   "metadata": {},
   "source": [
    "# 3.13 reduce 함수"
   ]
  },
  {
   "cell_type": "code",
   "execution_count": 2,
   "metadata": {},
   "outputs": [],
   "source": [
    "import functools"
   ]
  },
  {
   "cell_type": "code",
   "execution_count": 3,
   "metadata": {},
   "outputs": [
    {
     "name": "stdout",
     "output_type": "stream",
     "text": [
      "15\n",
      "120\n"
     ]
    }
   ],
   "source": [
    "def add_func(a, b):\n",
    "    return a + b\n",
    "\n",
    "def mul_func(a, b):\n",
    "    return a * b\n",
    "\n",
    "n = 5\n",
    "a_list = list(range(1, n + 1))\n",
    "\n",
    "triangle_num = functools.reduce(add_func, a_list)\n",
    "fac_num = functools.reduce(mul_func, a_list)\n",
    "print(triangle_num)\n",
    "print(fac_num)"
   ]
  },
  {
   "cell_type": "markdown",
   "metadata": {},
   "source": [
    "# 3.14 람다 함수"
   ]
  },
  {
   "cell_type": "code",
   "execution_count": 4,
   "metadata": {},
   "outputs": [
    {
     "name": "stdout",
     "output_type": "stream",
     "text": [
      "10 25\n"
     ]
    }
   ],
   "source": [
    "my_f = lambda x, y: x + y\n",
    "\n",
    "sum1 = my_f(3, 7)\n",
    "sum2 = my_f(10, 15)\n",
    "print(sum1, sum2)"
   ]
  },
  {
   "cell_type": "code",
   "execution_count": 7,
   "metadata": {},
   "outputs": [
    {
     "name": "stdout",
     "output_type": "stream",
     "text": [
      "15 120\n"
     ]
    }
   ],
   "source": [
    "t5 = functools.reduce(lambda x, y: x + y, [1, 2, 3, 4, 5])\n",
    "f5 = functools.reduce(lambda x, y: x * y, [1, 2, 3, 4, 5])\n",
    "print(t5, f5)"
   ]
  },
  {
   "cell_type": "markdown",
   "metadata": {},
   "source": [
    "# 3.15 리스트 함축"
   ]
  },
  {
   "cell_type": "code",
   "execution_count": 8,
   "metadata": {},
   "outputs": [],
   "source": [
    "b_list = []\n",
    "for i in a_list:\n",
    "    b_list.append(i * i)"
   ]
  },
  {
   "cell_type": "code",
   "execution_count": 9,
   "metadata": {},
   "outputs": [],
   "source": [
    "b_list = [i * i for i in a_list]"
   ]
  },
  {
   "cell_type": "code",
   "execution_count": 10,
   "metadata": {},
   "outputs": [],
   "source": [
    "mult_list = []\n",
    "for i in range(3):\n",
    "    for j in range(3):\n",
    "        mult_list.append(i * j)"
   ]
  },
  {
   "cell_type": "code",
   "execution_count": 11,
   "metadata": {},
   "outputs": [],
   "source": [
    "mult_lst = [i * j for i in range(3) for j in range(3)]"
   ]
  },
  {
   "cell_type": "code",
   "execution_count": 12,
   "metadata": {},
   "outputs": [],
   "source": [
    "my_list = [10, -10, -1, 12, -500, 13, 15, -3]\n",
    "\n",
    "new_list = []\n",
    "for i in my_list:\n",
    "    if i > 0:\n",
    "        new_list.append(i)"
   ]
  },
  {
   "cell_type": "code",
   "execution_count": 13,
   "metadata": {},
   "outputs": [],
   "source": [
    "new_list = [i for i in my_list if i > 0]"
   ]
  },
  {
   "cell_type": "code",
   "execution_count": 14,
   "metadata": {},
   "outputs": [],
   "source": [
    "neg_list = [i for i in my_list if i < 0]"
   ]
  },
  {
   "cell_type": "markdown",
   "metadata": {},
   "source": [
    "# 3.16 딕셔너리와 세트의 함축"
   ]
  },
  {
   "cell_type": "code",
   "execution_count": 15,
   "metadata": {},
   "outputs": [],
   "source": [
    "a_list = [5, 5, 5, -20, 2, -1, 2]\n",
    "my_set = set()\n",
    "for i in a_list:\n",
    "    if i > 0:\n",
    "        my_set.add(i)"
   ]
  },
  {
   "cell_type": "code",
   "execution_count": 16,
   "metadata": {},
   "outputs": [],
   "source": [
    "my_set = {i for i in a_list if i > 0}"
   ]
  },
  {
   "cell_type": "code",
   "execution_count": 17,
   "metadata": {},
   "outputs": [],
   "source": [
    "my_set = {i * i for i in a_list if i > 0}"
   ]
  },
  {
   "cell_type": "code",
   "execution_count": 20,
   "metadata": {},
   "outputs": [
    {
     "data": {
      "text/plain": [
       "3.14"
      ]
     },
     "execution_count": 20,
     "metadata": {},
     "output_type": "execute_result"
    }
   ],
   "source": [
    "vals_list = [ ('pi', 3.14), ('phi', 1.618)]\n",
    "my_dict = {i[0]: i[1] for i in vals_list}\n",
    "my_dict['pi']"
   ]
  },
  {
   "cell_type": "code",
   "execution_count": 21,
   "metadata": {},
   "outputs": [
    {
     "name": "stdout",
     "output_type": "stream",
     "text": [
      "{'Bob': 4.0, 'Carol': 4.0, 'Ted': 3.75, 'Alice': 3.9}\n"
     ]
    }
   ],
   "source": [
    "keys = ['Bob', 'Carol', 'Ted', 'Alice']\n",
    "vals = [4.0, 4.0, 3.75, 3.9]\n",
    "grade_dict = {keys[i]: vals[i] for i in range(len(keys))}\n",
    "print(grade_dict)"
   ]
  },
  {
   "cell_type": "code",
   "execution_count": 22,
   "metadata": {},
   "outputs": [
    {
     "name": "stdout",
     "output_type": "stream",
     "text": [
      "{'010-1234-1234': 'Kim'}\n"
     ]
    }
   ],
   "source": [
    "phone_dict = {'Kim':'010-1234-1234'}\n",
    "idict = {v:k for k, v in phone_dict.items()}\n",
    "print(idict)"
   ]
  },
  {
   "cell_type": "markdown",
   "metadata": {},
   "source": [
    "# 3.17 리스트를 통한 인수 전달하기"
   ]
  },
  {
   "cell_type": "code",
   "execution_count": 23,
   "metadata": {},
   "outputs": [
    {
     "name": "stdout",
     "output_type": "stream",
     "text": [
      "[100, 200, 150]\n"
     ]
    }
   ],
   "source": [
    "def set_list_vals(list_arg):\n",
    "    list_arg[0] = 100\n",
    "    list_arg[1] = 200\n",
    "    list_arg[2] = 150\n",
    "\n",
    "a_list = [0, 0, 0]\n",
    "set_list_vals(a_list)\n",
    "print(a_list)"
   ]
  },
  {
   "cell_type": "code",
   "execution_count": 24,
   "metadata": {},
   "outputs": [
    {
     "name": "stdout",
     "output_type": "stream",
     "text": [
      "[0, 0, 0]\n"
     ]
    }
   ],
   "source": [
    "def set_list_vals(list_args):\n",
    "    list_arg = [100, 200, 150]\n",
    "\n",
    "a_list = [0, 0, 0]\n",
    "set_list_vals(a_list)\n",
    "print(a_list)"
   ]
  },
  {
   "cell_type": "markdown",
   "metadata": {},
   "source": [
    "# 3.18 다차원 리스트"
   ]
  },
  {
   "cell_type": "code",
   "execution_count": 25,
   "metadata": {},
   "outputs": [],
   "source": [
    "weird_list = [[1, 2, 3], 'John', 'George']"
   ]
  },
  {
   "cell_type": "code",
   "execution_count": 27,
   "metadata": {},
   "outputs": [],
   "source": [
    "mat = [[10, 11, 21], [20, 21, 22], [25, 15, 15]]"
   ]
  },
  {
   "cell_type": "markdown",
   "metadata": {},
   "source": [
    "## 3.18.1 불균형 행렬"
   ]
  },
  {
   "cell_type": "code",
   "execution_count": 28,
   "metadata": {},
   "outputs": [
    {
     "name": "stdout",
     "output_type": "stream",
     "text": [
      "3\n",
      "4\n",
      "2\n",
      "3\n"
     ]
    }
   ],
   "source": [
    "weird_mat = [[1, 2, 3, 4], [0, 5], [9, 8 ,3]]\n",
    "\n",
    "print(len(weird_mat))\n",
    "print(len(weird_mat[0]))\n",
    "print(len(weird_mat[1]))\n",
    "print(len(weird_mat[2]))"
   ]
  },
  {
   "cell_type": "markdown",
   "metadata": {},
   "source": [
    "## 3.18.2 제멋대로 큰 행렬 만들기"
   ]
  },
  {
   "cell_type": "code",
   "execution_count": 29,
   "metadata": {},
   "outputs": [],
   "source": [
    "mat = []\n",
    "for i in range(200):\n",
    "    mat.append([0] * 100)\n",
    "\n",
    "mat[150][87] = 3.1415792"
   ]
  },
  {
   "cell_type": "code",
   "execution_count": 30,
   "metadata": {},
   "outputs": [],
   "source": [
    "mat = [[0] * 100 for i in range(200)]"
   ]
  },
  {
   "cell_type": "code",
   "execution_count": 31,
   "metadata": {},
   "outputs": [],
   "source": [
    "mat2 = [[0] * 25 for _ in range(30)]"
   ]
  },
  {
   "cell_type": "code",
   "execution_count": 32,
   "metadata": {},
   "outputs": [],
   "source": [
    "mat2 = [[[0] * 25   for _ in range(20)] \n",
    "                    for _ in range(30)]"
   ]
  },
  {
   "cell_type": "code",
   "execution_count": 33,
   "metadata": {},
   "outputs": [],
   "source": [
    "mat2 = [[[[0] * 25   for _ in range(20)] \n",
    "                    for _ in range(30)]\n",
    "                    for _ in range(10)]"
   ]
  }
 ],
 "metadata": {
  "kernelspec": {
   "display_name": "Python 3",
   "language": "python",
   "name": "python3"
  },
  "language_info": {
   "codemirror_mode": {
    "name": "ipython",
    "version": 3
   },
   "file_extension": ".py",
   "mimetype": "text/x-python",
   "name": "python",
   "nbconvert_exporter": "python",
   "pygments_lexer": "ipython3",
   "version": "3.7.6"
  }
 },
 "nbformat": 4,
 "nbformat_minor": 4
}
