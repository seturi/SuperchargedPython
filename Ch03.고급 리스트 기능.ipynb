{
 "cells": [
  {
   "cell_type": "markdown",
   "metadata": {},
   "source": [
    "# 3.1 파이썬 리스트 생성 및 활용"
   ]
  },
  {
   "cell_type": "code",
   "execution_count": 1,
   "metadata": {},
   "outputs": [],
   "source": [
    "my_int_list = [5, -20, 5, -69]\n",
    "beat_list = ['John', 'Paul', 'George', 'Ringo']\n",
    "mixed_list = [10, 'John', 5, 'Paul']"
   ]
  },
  {
   "cell_type": "code",
   "execution_count": 4,
   "metadata": {},
   "outputs": [
    {
     "data": {
      "text/plain": [
       "[2, 2.5, 3, 17]"
      ]
     },
     "execution_count": 4,
     "metadata": {},
     "output_type": "execute_result"
    }
   ],
   "source": [
    "num_list = [3, 2, 17, 2.5]\n",
    "num_list.sort()\n",
    "num_list"
   ]
  },
  {
   "cell_type": "code",
   "execution_count": 7,
   "metadata": {},
   "outputs": [
    {
     "name": "stdout",
     "output_type": "stream",
     "text": [
      "[1, 2, 3]\n",
      "[2, 3]\n"
     ]
    }
   ],
   "source": [
    "my_list = []\n",
    "my_list.append(1)\n",
    "my_list.append(2)\n",
    "my_list.append(3)\n",
    "print(my_list)\n",
    "my_list.remove(1)\n",
    "print(my_list)"
   ]
  },
  {
   "cell_type": "code",
   "execution_count": 9,
   "metadata": {},
   "outputs": [
    {
     "data": {
      "text/plain": [
       "[1.0, 9.8, 1.0]"
      ]
     },
     "execution_count": 9,
     "metadata": {},
     "output_type": "execute_result"
    }
   ],
   "source": [
    "the_scores = [1.0, 1.0, 9.8, 1.0]\n",
    "the_scores.remove(1.0)\n",
    "the_scores"
   ]
  },
  {
   "cell_type": "markdown",
   "metadata": {},
   "source": [
    "# 3.2 리스트 복사 vs 리스트 변수 복사"
   ]
  },
  {
   "cell_type": "code",
   "execution_count": 11,
   "metadata": {},
   "outputs": [
    {
     "name": "stdout",
     "output_type": "stream",
     "text": [
      "[2, 5, 10, 100, 200, 1]\n"
     ]
    }
   ],
   "source": [
    "a_list = [2, 5, 10]\n",
    "b_list = a_list  # 참조\n",
    "\n",
    "b_list.append(100)\n",
    "b_list.append(200)\n",
    "b_list.append(1)\n",
    "print(a_list)"
   ]
  },
  {
   "cell_type": "code",
   "execution_count": 12,
   "metadata": {},
   "outputs": [],
   "source": [
    "my_list = [1, 10, 5]\n",
    "yr_list = my_list[:] # 항목 간 복사"
   ]
  },
  {
   "cell_type": "markdown",
   "metadata": {},
   "source": [
    "# 3.3 인덱스"
   ]
  },
  {
   "cell_type": "code",
   "execution_count": 13,
   "metadata": {},
   "outputs": [
    {
     "data": {
      "text/plain": [
       "100"
      ]
     },
     "execution_count": 13,
     "metadata": {},
     "output_type": "execute_result"
    }
   ],
   "source": [
    "my_list = [100, 500, 1000]\n",
    "my_list[0]"
   ]
  },
  {
   "cell_type": "code",
   "execution_count": 14,
   "metadata": {},
   "outputs": [],
   "source": [
    "my_list[1] = 55"
   ]
  },
  {
   "cell_type": "markdown",
   "metadata": {},
   "source": [
    "## 3.3.1 양수 인덱스"
   ]
  },
  {
   "cell_type": "code",
   "execution_count": 17,
   "metadata": {},
   "outputs": [
    {
     "name": "stdout",
     "output_type": "stream",
     "text": [
      "100\n",
      "200\n",
      "300\n"
     ]
    }
   ],
   "source": [
    "a_list = [100, 200, 300, 400, 500, 600]\n",
    "print(a_list[0], a_list[1], a_list[2], sep = '\\n')"
   ]
  },
  {
   "cell_type": "markdown",
   "metadata": {},
   "source": [
    "## 3.3.2 음수 인덱스"
   ]
  },
  {
   "cell_type": "code",
   "execution_count": 18,
   "metadata": {},
   "outputs": [
    {
     "name": "stdout",
     "output_type": "stream",
     "text": [
      "600\n",
      "400\n"
     ]
    }
   ],
   "source": [
    "print(a_list[-1], a_list[-3], sep = '\\n')"
   ]
  },
  {
   "cell_type": "markdown",
   "metadata": {},
   "source": [
    "## 3.3.3 enumerate 함수로 인덱스 숫자 생성"
   ]
  },
  {
   "cell_type": "code",
   "execution_count": 19,
   "metadata": {},
   "outputs": [
    {
     "name": "stdout",
     "output_type": "stream",
     "text": [
      "Tom\n",
      "Dick\n",
      "Jane\n"
     ]
    }
   ],
   "source": [
    "a_list = ['Tom', 'Dick', 'Jane']\n",
    "\n",
    "for s in a_list:\n",
    "    print(s)"
   ]
  },
  {
   "cell_type": "code",
   "execution_count": 20,
   "metadata": {},
   "outputs": [
    {
     "name": "stdout",
     "output_type": "stream",
     "text": [
      "Tom\n",
      "Dick\n",
      "Jane\n"
     ]
    }
   ],
   "source": [
    "for i in range(len(a_list)):\n",
    "    print(a_list[i])"
   ]
  },
  {
   "cell_type": "code",
   "execution_count": 21,
   "metadata": {},
   "outputs": [
    {
     "data": {
      "text/plain": [
       "[(1, 'Tom'), (2, 'Dick'), (3, 'Jane')]"
      ]
     },
     "execution_count": 21,
     "metadata": {},
     "output_type": "execute_result"
    }
   ],
   "source": [
    "list(enumerate(a_list, 1))"
   ]
  },
  {
   "cell_type": "code",
   "execution_count": 23,
   "metadata": {},
   "outputs": [
    {
     "name": "stdout",
     "output_type": "stream",
     "text": [
      "1. Tom\n",
      "2. Dick\n",
      "3. Jane\n"
     ]
    }
   ],
   "source": [
    "for item_num, name_str in enumerate(a_list, 1):\n",
    "    print(item_num, '. ', name_str, sep='')"
   ]
  },
  {
   "cell_type": "markdown",
   "metadata": {},
   "source": [
    "# 3.4 조각으로부터 데이터 가져오기"
   ]
  },
  {
   "cell_type": "code",
   "execution_count": 24,
   "metadata": {},
   "outputs": [
    {
     "name": "stdout",
     "output_type": "stream",
     "text": [
      "[2, 5]\n",
      "[20, 30]\n",
      "[5, 10, 20]\n",
      "[30]\n"
     ]
    }
   ],
   "source": [
    "a_list = [1, 2, 5, 10, 20, 30]\n",
    "b_list = a_list[1:3]\n",
    "c_list = a_list[4:]\n",
    "d_list = a_list[-4:-1]\n",
    "e_list = a_list[-1:]\n",
    "print(b_list, c_list, d_list, e_list, sep='\\n')"
   ]
  },
  {
   "cell_type": "code",
   "execution_count": 26,
   "metadata": {},
   "outputs": [
    {
     "name": "stdout",
     "output_type": "stream",
     "text": [
      "[300, 500]\n"
     ]
    }
   ],
   "source": [
    "a_list = [100, 200, 300, 400, 500, 600]\n",
    "b_list = a_list[2:5:2]\n",
    "print(b_list)"
   ]
  },
  {
   "cell_type": "code",
   "execution_count": 27,
   "metadata": {},
   "outputs": [
    {
     "name": "stdout",
     "output_type": "stream",
     "text": [
      "[600, 500, 400, 300, 200, 100]\n"
     ]
    }
   ],
   "source": [
    "rev_list = a_list[::-1]\n",
    "print(rev_list)"
   ]
  },
  {
   "cell_type": "markdown",
   "metadata": {},
   "source": [
    "# 3.5 조각 안에 값 대입하기"
   ]
  },
  {
   "cell_type": "code",
   "execution_count": 29,
   "metadata": {},
   "outputs": [
    {
     "name": "stdout",
     "output_type": "stream",
     "text": [
      "[10, 707, 777, 50, 60]\n"
     ]
    }
   ],
   "source": [
    "my_list = [10, 20, 30, 40, 50, 60]\n",
    "my_list[1:4] = [707, 777]\n",
    "print(my_list)"
   ]
  },
  {
   "cell_type": "code",
   "execution_count": 1,
   "metadata": {},
   "outputs": [
    {
     "name": "stdout",
     "output_type": "stream",
     "text": [
      "[-50, -40, 1, 2, 3, 4]\n"
     ]
    }
   ],
   "source": [
    "my_list = [1, 2, 3, 4]\n",
    "my_list[0:0] = [-50, -40]\n",
    "print(my_list)"
   ]
  },
  {
   "cell_type": "markdown",
   "metadata": {},
   "source": [
    "# 3.6 리스트 연산자"
   ]
  },
  {
   "cell_type": "code",
   "execution_count": 2,
   "metadata": {},
   "outputs": [],
   "source": [
    "a_list = [1, 3, 5, 0, 2]\n",
    "b_list = a_list    # 별칭 생성\n",
    "c_list = a_list[:] # 항목 간 복사"
   ]
  },
  {
   "cell_type": "code",
   "execution_count": 3,
   "metadata": {},
   "outputs": [],
   "source": [
    "big_array = [0] * 1000"
   ]
  },
  {
   "cell_type": "code",
   "execution_count": 4,
   "metadata": {},
   "outputs": [
    {
     "name": "stdout",
     "output_type": "stream",
     "text": [
      "False\n",
      "False\n"
     ]
    }
   ],
   "source": [
    "a = [1, 2, 3]\n",
    "print(None in a)\n",
    "print([] in a)"
   ]
  },
  {
   "cell_type": "code",
   "execution_count": 5,
   "metadata": {},
   "outputs": [
    {
     "name": "stdout",
     "output_type": "stream",
     "text": [
      "True\n",
      "True\n"
     ]
    }
   ],
   "source": [
    "b = [1, 2, 3, [], None]\n",
    "print(None in b)\n",
    "print([] in b)"
   ]
  },
  {
   "cell_type": "markdown",
   "metadata": {},
   "source": [
    "# 3.7 얕은 복사 vs 깊은 복사"
   ]
  },
  {
   "cell_type": "code",
   "execution_count": 7,
   "metadata": {},
   "outputs": [
    {
     "name": "stdout",
     "output_type": "stream",
     "text": [
      "[1, 2, [0, 0]]\n",
      "[0, 0, [0, 0]]\n"
     ]
    }
   ],
   "source": [
    "a_list = [1, 2, [5, 10]]\n",
    "b_list = a_list[:]  # 항목 간 복사로 깊은 복사를 시도했으나, 내부 리스트는 그 참조가 복사됨\n",
    "\n",
    "b_list[0] = 0\n",
    "b_list[1] = 0\n",
    "b_list[2][0] = 0\n",
    "b_list[2][1] = 0\n",
    "\n",
    "print(a_list)\n",
    "print(b_list)"
   ]
  },
  {
   "cell_type": "code",
   "execution_count": 8,
   "metadata": {},
   "outputs": [],
   "source": [
    "import copy\n",
    "\n",
    "a_list = [1, 2, [5, 10]]\n",
    "b_list = copy.deepcopy(a_list)  # 깊은 복사로 복제본 만들기"
   ]
  }
 ],
 "metadata": {
  "kernelspec": {
   "display_name": "Python 3",
   "language": "python",
   "name": "python3"
  },
  "language_info": {
   "codemirror_mode": {
    "name": "ipython",
    "version": 3
   },
   "file_extension": ".py",
   "mimetype": "text/x-python",
   "name": "python",
   "nbconvert_exporter": "python",
   "pygments_lexer": "ipython3",
   "version": "3.7.6"
  }
 },
 "nbformat": 4,
 "nbformat_minor": 4
}
