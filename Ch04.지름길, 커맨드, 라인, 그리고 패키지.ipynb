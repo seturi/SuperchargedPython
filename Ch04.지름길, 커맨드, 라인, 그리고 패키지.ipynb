{
 "cells": [
  {
   "cell_type": "markdown",
   "metadata": {},
   "source": [
    "# 4.2 22가지 프로그래밍 지름길"
   ]
  },
  {
   "cell_type": "markdown",
   "metadata": {},
   "source": [
    "## 4.2.1 필요하다면 코드를 여러 줄에 걸쳐 작성한다"
   ]
  },
  {
   "cell_type": "code",
   "execution_count": 4,
   "metadata": {},
   "outputs": [
    {
     "name": "stdout",
     "output_type": "stream",
     "text": [
      "I am Hen-er-y the Eighth, I am!\n"
     ]
    }
   ],
   "source": [
    "my_str = 'I am Hen-er-y the Eighth, ' 'I am!'\n",
    "print(my_str)"
   ]
  },
  {
   "cell_type": "code",
   "execution_count": 5,
   "metadata": {},
   "outputs": [
    {
     "name": "stdout",
     "output_type": "stream",
     "text": [
      "I am Hen-er-y the Eighth, I am!\n"
     ]
    }
   ],
   "source": [
    "my_str = 'I am Hen-er-y the Eighth, '\\\n",
    "'I am!'\n",
    "print(my_str)"
   ]
  },
  {
   "cell_type": "code",
   "execution_count": 6,
   "metadata": {},
   "outputs": [
    {
     "name": "stdout",
     "output_type": "stream",
     "text": [
      "I am Hen-er-y the Eighth, I am! I am not just any Henry VIII, I really I am!\n"
     ]
    }
   ],
   "source": [
    "my_str = ('I am Hen-er-y the Eighth, ' \n",
    "'I am! I am not just any Henry VIII, '\n",
    "'I really I am!')\n",
    "print(my_str)"
   ]
  },
  {
   "cell_type": "markdown",
   "metadata": {},
   "source": [
    "## 4.2.2 for 루프는 현명하게 사용한다"
   ]
  },
  {
   "cell_type": "code",
   "execution_count": 7,
   "metadata": {},
   "outputs": [
    {
     "name": "stdout",
     "output_type": "stream",
     "text": [
      "John\n",
      "Paul\n",
      "George\n",
      "Ringo\n"
     ]
    }
   ],
   "source": [
    "# 안 좋은 예시 - range와 인덱스를 이용하는 C언어 스타일의 for 루프\n",
    "beat_list = ['John', 'Paul', 'George', 'Ringo']\n",
    "for i in range(len(beat_list)):\n",
    "    print(beat_list[i])"
   ]
  },
  {
   "cell_type": "code",
   "execution_count": 8,
   "metadata": {},
   "outputs": [
    {
     "name": "stdout",
     "output_type": "stream",
     "text": [
      "John\n",
      "Paul\n",
      "George\n",
      "Ringo\n"
     ]
    }
   ],
   "source": [
    "# 추천방식 1\n",
    "beat_list = ['John', 'Paul', 'George', 'Ringo']\n",
    "for guy in beat_list:\n",
    "    print(guy)"
   ]
  },
  {
   "cell_type": "code",
   "execution_count": 10,
   "metadata": {},
   "outputs": [
    {
     "name": "stdout",
     "output_type": "stream",
     "text": [
      "1. John\n",
      "2. Paul\n",
      "3. George\n",
      "4. Ringo\n"
     ]
    }
   ],
   "source": [
    "# 추천방식 2 - enumerate 함수 사용\n",
    "beat_list = ['John', 'Paul', 'George', 'Ringo']\n",
    "for i, name in enumerate(beat_list, 1):\n",
    "    print(i, '. ', name, sep='')"
   ]
  },
  {
   "cell_type": "code",
   "execution_count": 11,
   "metadata": {},
   "outputs": [
    {
     "name": "stdout",
     "output_type": "stream",
     "text": [
      "['John', 'Paul', 'George', 'Ringo']\n"
     ]
    }
   ],
   "source": [
    "# 인덱스를 사용하지 않고 변수 값 변경을 시도하는 경우 - 신규 객체가 생성되어 대입되며 기존 객체의 값은 변경되지 않음\n",
    "beat_list = ['John', 'Paul', 'George', 'Ringo']\n",
    "for guy in beat_list:\n",
    "    guy = 'Chris'\n",
    "print(beat_list)"
   ]
  },
  {
   "cell_type": "markdown",
   "metadata": {},
   "source": [
    "## 4.2.3 대입 연산자 조합을 이해한다"
   ]
  },
  {
   "cell_type": "code",
   "execution_count": 12,
   "metadata": {},
   "outputs": [
    {
     "name": "stdout",
     "output_type": "stream",
     "text": [
      "s1: A string...with more stuff\n",
      "s2: A string\n"
     ]
    }
   ],
   "source": [
    "s1 = s2 = 'A string'\n",
    "s1 += '...with more stuff'\n",
    "print('s1:', s1)\n",
    "print('s2:', s2)"
   ]
  },
  {
   "cell_type": "code",
   "execution_count": 13,
   "metadata": {},
   "outputs": [
    {
     "name": "stdout",
     "output_type": "stream",
     "text": [
      "a_list: [10, 20, 30, 40]\n",
      "b_list: [10, 20, 30, 40]\n"
     ]
    }
   ],
   "source": [
    "a_list = b_list = [10, 20]\n",
    "a_list += [30, 40]\n",
    "print('a_list:', a_list)\n",
    "print('b_list:', b_list)"
   ]
  },
  {
   "cell_type": "code",
   "execution_count": 14,
   "metadata": {},
   "outputs": [
    {
     "name": "stdout",
     "output_type": "stream",
     "text": [
      "abcdefghijklmnopqrstuvwxyz\n"
     ]
    }
   ],
   "source": [
    "str_list = []\n",
    "n = ord('a')\n",
    "for i in range(n, n + 26):\n",
    "    str_list += chr(i)\n",
    "alphabet_str = ''.join(str_list)\n",
    "print(alphabet_str)"
   ]
  },
  {
   "cell_type": "markdown",
   "metadata": {},
   "source": [
    "## 4.2.4 다중 대입을 사용한다"
   ]
  },
  {
   "cell_type": "code",
   "execution_count": 15,
   "metadata": {},
   "outputs": [
    {
     "data": {
      "text/plain": [
       "True"
      ]
     },
     "execution_count": 15,
     "metadata": {},
     "output_type": "execute_result"
    }
   ],
   "source": [
    "a = b = c = d = e = 0\n",
    "a is b"
   ]
  },
  {
   "cell_type": "markdown",
   "metadata": {},
   "source": [
    " ## 4.2.5 튜플 대입을 사용한다"
   ]
  },
  {
   "cell_type": "code",
   "execution_count": 16,
   "metadata": {},
   "outputs": [],
   "source": [
    "a, b = 1, 0\n",
    "a = 4, 8, 12"
   ]
  },
  {
   "cell_type": "code",
   "execution_count": 18,
   "metadata": {},
   "outputs": [],
   "source": [
    "def fibo(n):\n",
    "    a, b = 1, 0\n",
    "    \n",
    "    while a <= n:\n",
    "        print(a, end=' ')\n",
    "        a, b = a + b, a"
   ]
  },
  {
   "cell_type": "code",
   "execution_count": 19,
   "metadata": {},
   "outputs": [
    {
     "name": "stdout",
     "output_type": "stream",
     "text": [
      "1 25\n",
      "25 1\n"
     ]
    }
   ],
   "source": [
    "x, y = 1, 25\n",
    "print(x, y)\n",
    "x, y = y, x\n",
    "print(x, y)"
   ]
  },
  {
   "cell_type": "markdown",
   "metadata": {},
   "source": [
    "## 4.2.6 고급 튜플 대입을 사용한다"
   ]
  },
  {
   "cell_type": "code",
   "execution_count": 20,
   "metadata": {},
   "outputs": [
    {
     "name": "stdout",
     "output_type": "stream",
     "text": [
      "10 20 30\n"
     ]
    }
   ],
   "source": [
    "tup = 10, 20, 30\n",
    "a, b, c = tup\n",
    "print(a, b, c)"
   ]
  },
  {
   "cell_type": "code",
   "execution_count": 21,
   "metadata": {},
   "outputs": [],
   "source": [
    "my_tup = (3, ) # 한 항목을 가진 튜플 생성"
   ]
  },
  {
   "cell_type": "code",
   "execution_count": 24,
   "metadata": {},
   "outputs": [
    {
     "name": "stdout",
     "output_type": "stream",
     "text": [
      "2 [4, 6, 8]\n"
     ]
    }
   ],
   "source": [
    "a, *b = 2, 4, 6, 8\n",
    "print(a, b)"
   ]
  },
  {
   "cell_type": "code",
   "execution_count": 25,
   "metadata": {},
   "outputs": [
    {
     "name": "stdout",
     "output_type": "stream",
     "text": [
      "10 [20, 30, 40] 50\n"
     ]
    }
   ],
   "source": [
    "a, *b, c = 10, 20, 30, 40, 50\n",
    "print(a, b, c)"
   ]
  },
  {
   "cell_type": "code",
   "execution_count": 27,
   "metadata": {},
   "outputs": [
    {
     "name": "stdout",
     "output_type": "stream",
     "text": [
      "100\n",
      "200\n",
      "[300, 400, 500]\n"
     ]
    }
   ],
   "source": [
    "big, bigger, *many = 100, 200, 300, 400, 500\n",
    "print(big, bigger, many, sep='\\n')"
   ]
  },
  {
   "cell_type": "markdown",
   "metadata": {},
   "source": [
    "## 4.2.7 리스트와 문자열 '곱하기'를 사용한다"
   ]
  },
  {
   "cell_type": "code",
   "execution_count": 28,
   "metadata": {},
   "outputs": [
    {
     "data": {
      "text/plain": [
       "10000"
      ]
     },
     "execution_count": 28,
     "metadata": {},
     "output_type": "execute_result"
    }
   ],
   "source": [
    "my_list = [0] * 10000\n",
    "len(my_list)"
   ]
  },
  {
   "cell_type": "code",
   "execution_count": 29,
   "metadata": {},
   "outputs": [
    {
     "data": {
      "text/plain": [
       "1999"
      ]
     },
     "execution_count": 29,
     "metadata": {},
     "output_type": "execute_result"
    }
   ],
   "source": [
    "my_list = 1999 * [2]\n",
    "len(my_list)"
   ]
  },
  {
   "cell_type": "code",
   "execution_count": 30,
   "metadata": {},
   "outputs": [
    {
     "data": {
      "text/plain": [
       "300"
      ]
     },
     "execution_count": 30,
     "metadata": {},
     "output_type": "execute_result"
    }
   ],
   "source": [
    "trip_list = [1, 2, 3] * 100\n",
    "len(trip_list)"
   ]
  },
  {
   "cell_type": "code",
   "execution_count": 31,
   "metadata": {},
   "outputs": [
    {
     "name": "stdout",
     "output_type": "stream",
     "text": [
      "________________________________________\n"
     ]
    }
   ],
   "source": [
    "divider_str = '_' * 40\n",
    "print(divider_str)"
   ]
  },
  {
   "cell_type": "markdown",
   "metadata": {},
   "source": [
    "## 4.2.8 다중 값을 반환한다"
   ]
  },
  {
   "cell_type": "code",
   "execution_count": 32,
   "metadata": {},
   "outputs": [
    {
     "data": {
      "text/plain": [
       "20"
      ]
     },
     "execution_count": 32,
     "metadata": {},
     "output_type": "execute_result"
    }
   ],
   "source": [
    "def double_me(n):\n",
    "    return n * 2\n",
    "\n",
    "a = 10\n",
    "a = double_me(a)\n",
    "a"
   ]
  },
  {
   "cell_type": "code",
   "execution_count": 34,
   "metadata": {},
   "outputs": [
    {
     "name": "stdout",
     "output_type": "stream",
     "text": [
      "1.618033988749895 -0.6180339887498949\n",
      "(1.618033988749895, -0.6180339887498949)\n"
     ]
    }
   ],
   "source": [
    "def quad(a, b, c):\n",
    "    determin = (b * b - 4 * a * c) ** .5\n",
    "    x1 = (-b + determin) / (2 * a)\n",
    "    x2 = (-b - determin) / (2 * a)\n",
    "    return x1, x2\n",
    "\n",
    "x1, x2 = quad(1, -1, -1)\n",
    "x = quad(1, -1, -1)\n",
    "print(x1, x2)\n",
    "print(x)"
   ]
  },
  {
   "cell_type": "markdown",
   "metadata": {},
   "source": [
    "## 4.2.9 루프와 else 키워드를 사용한다"
   ]
  },
  {
   "cell_type": "code",
   "execution_count": 37,
   "metadata": {},
   "outputs": [
    {
     "name": "stdout",
     "output_type": "stream",
     "text": [
      "No divisor found\n",
      "7 divides evenly into 49\n"
     ]
    }
   ],
   "source": [
    "def find_divisor(n, max):\n",
    "    for i in range(2, max + 1):\n",
    "        if n % i == 0:\n",
    "            print(i, 'divides evenly into', n)\n",
    "            break\n",
    "    else:\n",
    "        print(\"No divisor found\")\n",
    "find_divisor(49, 6)\n",
    "find_divisor(49, 7)"
   ]
  },
  {
   "cell_type": "markdown",
   "metadata": {},
   "source": [
    "## 4.2.10 불리언과 'not'의 이점을 활용한다"
   ]
  },
  {
   "cell_type": "code",
   "execution_count": 39,
   "metadata": {},
   "outputs": [
    {
     "name": "stdout",
     "output_type": "stream",
     "text": [
      "break\n",
      "break\n"
     ]
    }
   ],
   "source": [
    "my_str = ''\n",
    "if len(my_str) == 0:\n",
    "    print('break')\n",
    "    \n",
    "# 위 표현을 다음과 같이 표현할 수 있다\n",
    "if not my_str:\n",
    "    print('break')"
   ]
  },
  {
   "cell_type": "markdown",
   "metadata": {},
   "source": [
    "## 4.2.11 문자열은 문자의 나열로 다룬다"
   ]
  },
  {
   "cell_type": "code",
   "execution_count": 40,
   "metadata": {},
   "outputs": [
    {
     "name": "stdout",
     "output_type": "stream",
     "text": [
      "Enter test string: A man, A plan, a canal, Panama!\n",
      "True\n"
     ]
    }
   ],
   "source": [
    "test_str = input('Enter test string: ')\n",
    "a_list = [c.upper() for c in test_str if c.isalnum()]\n",
    "print(a_list == a_list[::-1])"
   ]
  },
  {
   "cell_type": "markdown",
   "metadata": {},
   "source": [
    "## 4.2.12 replace를 사용하여 문자를 제거한다"
   ]
  },
  {
   "cell_type": "code",
   "execution_count": 41,
   "metadata": {},
   "outputs": [],
   "source": [
    "s = '1 / 2'\n",
    "s = s.replace(' ', '')"
   ]
  },
  {
   "cell_type": "code",
   "execution_count": 43,
   "metadata": {},
   "outputs": [],
   "source": [
    "a_list = [c for c in s if c not in 'aeiou']\n",
    "s = ''.join(a_list)"
   ]
  },
  {
   "cell_type": "markdown",
   "metadata": {},
   "source": [
    "## 4.2.13 필요없는 루프는 사용하지 않는다"
   ]
  },
  {
   "cell_type": "code",
   "execution_count": 44,
   "metadata": {},
   "outputs": [],
   "source": [
    "def calc_triangle_num(n):\n",
    "    return sum(range(n+1))"
   ]
  },
  {
   "cell_type": "code",
   "execution_count": 45,
   "metadata": {},
   "outputs": [],
   "source": [
    "def get_avg(a_list):\n",
    "    return sum(a_list) / len(a_list)"
   ]
  },
  {
   "cell_type": "markdown",
   "metadata": {},
   "source": [
    "## 4.2.14 연결된 비교 연산자를 사용한다"
   ]
  },
  {
   "cell_type": "code",
   "execution_count": 47,
   "metadata": {},
   "outputs": [
    {
     "name": "stdout",
     "output_type": "stream",
     "text": [
      "x is in range.\n"
     ]
    }
   ],
   "source": [
    "x = 1\n",
    "if 0 < x < 100:\n",
    "    print('x is in range.')"
   ]
  },
  {
   "cell_type": "code",
   "execution_count": 48,
   "metadata": {},
   "outputs": [
    {
     "name": "stdout",
     "output_type": "stream",
     "text": [
      "All these comparisons are true!\n",
      "c is equal or greater than all the rest!\n"
     ]
    }
   ],
   "source": [
    "a, b, c = 5, 10, 15\n",
    "if 0 < a <= c > b > 1:\n",
    "    print('All these comparisons are true!')\n",
    "    print('c is equal or greater than all the rest!')"
   ]
  },
  {
   "cell_type": "code",
   "execution_count": 49,
   "metadata": {},
   "outputs": [
    {
     "name": "stdout",
     "output_type": "stream",
     "text": [
      "All the variables are equal to each other.\n"
     ]
    }
   ],
   "source": [
    "a = b = c = d = e = 100\n",
    "if a == b == c == d == e:\n",
    "    print('All the variables are equal to each other.')"
   ]
  },
  {
   "cell_type": "code",
   "execution_count": 51,
   "metadata": {},
   "outputs": [
    {
     "name": "stdout",
     "output_type": "stream",
     "text": [
      "All the elements are equal to each other\n"
     ]
    }
   ],
   "source": [
    "a_list = [5, 5, 5, 5]\n",
    "if min(a_list) == max(a_list):\n",
    "    print('All the elements are equal to each other')"
   ]
  },
  {
   "cell_type": "markdown",
   "metadata": {},
   "source": [
    "## 4.2.15 함수 테이블(리스트, 딕셔너리)로 switch 문을 모방한다"
   ]
  },
  {
   "cell_type": "code",
   "execution_count": 55,
   "metadata": {},
   "outputs": [
    {
     "name": "stdout",
     "output_type": "stream",
     "text": [
      "\n"
     ]
    }
   ],
   "source": [
    "\"\"\"\n",
    "if n == 1:\n",
    "    do_plot(stockdf)\n",
    "elif n == 2:\n",
    "    do_highlow_plot(stockdf)\n",
    "elif n == 3:\n",
    "    do_volume_subplot(stockdf)\n",
    "elif n == 4:\n",
    "    do_movingavg_plot(stockdf)\n",
    "\"\"\"\n",
    "\n",
    "# 위 코드는 다음과 같이 변형할 수 있다.\n",
    "\"\"\"\n",
    "fn = [do_plot, do_highlow_plot, do_volume_subplot, do_movingavg_plot][n-1]\n",
    "fn(stockdf)\n",
    "\"\"\""
   ]
  },
  {
   "cell_type": "code",
   "execution_count": 57,
   "metadata": {},
   "outputs": [
    {
     "name": "stdout",
     "output_type": "stream",
     "text": [
      "\n"
     ]
    }
   ],
   "source": [
    "\"\"\"\n",
    "menu_dict = {'load':load_fn, 'save':save_fn, 'exit':exit_fn, 'update', update_fn}\n",
    "(menu_dict[selector])()  # 함수 호출\n",
    "\"\"\""
   ]
  },
  {
   "cell_type": "markdown",
   "metadata": {},
   "source": [
    "## 4.2.16 is 연산자는 정확하게 사용한다"
   ]
  },
  {
   "cell_type": "code",
   "execution_count": 59,
   "metadata": {},
   "outputs": [
    {
     "data": {
      "text/plain": [
       "True"
      ]
     },
     "execution_count": 59,
     "metadata": {},
     "output_type": "execute_result"
    }
   ],
   "source": [
    "a = 'cat'\n",
    "b = 'cat'\n",
    "a == b"
   ]
  },
  {
   "cell_type": "code",
   "execution_count": 60,
   "metadata": {},
   "outputs": [
    {
     "name": "stdout",
     "output_type": "stream",
     "text": [
      "True\n",
      "False\n"
     ]
    }
   ],
   "source": [
    "s1 = 'I am what I am and that is all that I am'\n",
    "s2 = 'I am what I am' + ' and that is all that I am'\n",
    "print(s1 == s2)\n",
    "print(s1 is s2)"
   ]
  },
  {
   "cell_type": "code",
   "execution_count": 61,
   "metadata": {},
   "outputs": [
    {
     "name": "stdout",
     "output_type": "stream",
     "text": [
      "\n"
     ]
    }
   ],
   "source": [
    "\"\"\"\n",
    "a_value = my_function()\n",
    "if a_value is None:\n",
    "    # 특별한 행동\n",
    "\"\"\""
   ]
  },
  {
   "cell_type": "markdown",
   "metadata": {},
   "source": [
    "## 4.2.17 단일 행 for 루프를 사용한다"
   ]
  },
  {
   "cell_type": "code",
   "execution_count": 62,
   "metadata": {},
   "outputs": [
    {
     "name": "stdout",
     "output_type": "stream",
     "text": [
      "0 1 2 3 4 5 6 7 8 9 "
     ]
    }
   ],
   "source": [
    "for i in range(10): print(i, end=' ')"
   ]
  },
  {
   "cell_type": "markdown",
   "metadata": {},
   "source": [
    "## 4.2.18 여러 문장을 하나의 행으로 줄인다"
   ]
  },
  {
   "cell_type": "code",
   "execution_count": 64,
   "metadata": {},
   "outputs": [
    {
     "name": "stdout",
     "output_type": "stream",
     "text": [
      "5 7 9 11 13 "
     ]
    }
   ],
   "source": [
    "for i in range(5): n = i * 2; m = 5; print(n+m, end=' ')"
   ]
  },
  {
   "cell_type": "code",
   "execution_count": 65,
   "metadata": {},
   "outputs": [
    {
     "name": "stdout",
     "output_type": "stream",
     "text": [
      "3\n"
     ]
    }
   ],
   "source": [
    "a = 1; b = 2; c = a + b; print(c)"
   ]
  },
  {
   "cell_type": "markdown",
   "metadata": {},
   "source": [
    "## 4.2.19 단일 행 if/then/else 문을 작성한다"
   ]
  },
  {
   "cell_type": "code",
   "execution_count": 67,
   "metadata": {},
   "outputs": [],
   "source": [
    "turn = 0\n",
    "# ...\n",
    "if turn % 2:\n",
    "    cell = 'x'\n",
    "else:\n",
    "    cell = 'O'"
   ]
  },
  {
   "cell_type": "code",
   "execution_count": 68,
   "metadata": {},
   "outputs": [],
   "source": [
    "cell = 'X' if turn % 2 else 'O'"
   ]
  },
  {
   "cell_type": "markdown",
   "metadata": {},
   "source": [
    "## 4.2.20 range와 enum을 생성한다"
   ]
  },
  {
   "cell_type": "code",
   "execution_count": 69,
   "metadata": {},
   "outputs": [],
   "source": [
    "red = 0\n",
    "blue = 1\n",
    "green = 2\n",
    "black = 3\n",
    "white = 4"
   ]
  },
  {
   "cell_type": "code",
   "execution_count": 70,
   "metadata": {},
   "outputs": [],
   "source": [
    "red, blue, green, black, white = range(5)"
   ]
  },
  {
   "cell_type": "code",
   "execution_count": 71,
   "metadata": {},
   "outputs": [],
   "source": [
    "red, blue, green, black, white = range(1, 6)"
   ]
  },
  {
   "cell_type": "markdown",
   "metadata": {},
   "source": [
    "## 4.2.21 IDLE 안에서 비효율적인 print 함수 사용을 줄인다"
   ]
  },
  {
   "cell_type": "code",
   "execution_count": 78,
   "metadata": {},
   "outputs": [
    {
     "name": "stdout",
     "output_type": "stream",
     "text": [
      "****************************************\n",
      "****************************************\n",
      "****************************************\n",
      "****************************************\n",
      "****************************************\n",
      "****************************************\n",
      "****************************************\n",
      "****************************************\n",
      "****************************************\n",
      "****************************************\n",
      "****************************************\n",
      "****************************************\n",
      "****************************************\n",
      "****************************************\n",
      "****************************************\n",
      "****************************************\n",
      "****************************************\n",
      "****************************************\n",
      "****************************************\n",
      "****************************************\n"
     ]
    }
   ],
   "source": [
    "for i in range(20):\n",
    "    for j in range(40):\n",
    "        print('*', end='')\n",
    "    print()"
   ]
  },
  {
   "cell_type": "code",
   "execution_count": 72,
   "metadata": {},
   "outputs": [
    {
     "name": "stdout",
     "output_type": "stream",
     "text": [
      "****************************************\n",
      "****************************************\n",
      "****************************************\n",
      "****************************************\n",
      "****************************************\n",
      "****************************************\n",
      "****************************************\n",
      "****************************************\n",
      "****************************************\n",
      "****************************************\n",
      "****************************************\n",
      "****************************************\n",
      "****************************************\n",
      "****************************************\n",
      "****************************************\n",
      "****************************************\n",
      "****************************************\n",
      "****************************************\n",
      "****************************************\n",
      "****************************************\n"
     ]
    }
   ],
   "source": [
    "row_of_asterisks = '*' * 40\n",
    "for i in range(20):\n",
    "    print(row_of_asterisks)"
   ]
  },
  {
   "cell_type": "code",
   "execution_count": 77,
   "metadata": {},
   "outputs": [
    {
     "name": "stdout",
     "output_type": "stream",
     "text": [
      "****************************************\n",
      "****************************************\n",
      "****************************************\n",
      "****************************************\n",
      "****************************************\n",
      "****************************************\n",
      "****************************************\n",
      "****************************************\n",
      "****************************************\n",
      "****************************************\n",
      "****************************************\n",
      "****************************************\n",
      "****************************************\n",
      "****************************************\n",
      "****************************************\n",
      "****************************************\n",
      "****************************************\n",
      "****************************************\n",
      "****************************************\n",
      "****************************************\n",
      "\n"
     ]
    }
   ],
   "source": [
    "row_of_asterisks = '*' * 40\n",
    "s = ''\n",
    "for i in range(20):\n",
    "    s += row_of_asterisks + '\\n'\n",
    "print(s)"
   ]
  },
  {
   "cell_type": "code",
   "execution_count": 79,
   "metadata": {},
   "outputs": [
    {
     "name": "stdout",
     "output_type": "stream",
     "text": [
      "****************************************\n",
      "****************************************\n",
      "****************************************\n",
      "****************************************\n",
      "****************************************\n",
      "****************************************\n",
      "****************************************\n",
      "****************************************\n",
      "****************************************\n",
      "****************************************\n",
      "****************************************\n",
      "****************************************\n",
      "****************************************\n",
      "****************************************\n",
      "****************************************\n",
      "****************************************\n",
      "****************************************\n",
      "****************************************\n",
      "****************************************\n",
      "****************************************\n"
     ]
    }
   ],
   "source": [
    "row_of_asterisks = '*' * 40\n",
    "list_of_str = []\n",
    "for i in range(20):\n",
    "    list_of_str.append(row_of_asterisks)\n",
    "print('\\n'.join(list_of_str))"
   ]
  },
  {
   "cell_type": "code",
   "execution_count": 80,
   "metadata": {},
   "outputs": [
    {
     "name": "stdout",
     "output_type": "stream",
     "text": [
      "****************************************\n",
      "****************************************\n",
      "****************************************\n",
      "****************************************\n",
      "****************************************\n",
      "****************************************\n",
      "****************************************\n",
      "****************************************\n",
      "****************************************\n",
      "****************************************\n",
      "****************************************\n",
      "****************************************\n",
      "****************************************\n",
      "****************************************\n",
      "****************************************\n",
      "****************************************\n",
      "****************************************\n",
      "****************************************\n",
      "****************************************\n",
      "****************************************\n"
     ]
    }
   ],
   "source": [
    "print('\\n'.join(['*' * 40] * 20))"
   ]
  },
  {
   "cell_type": "markdown",
   "metadata": {},
   "source": [
    "## 4.2.22 큰 번호 안에 언더스코어(_)를 넣는다"
   ]
  },
  {
   "cell_type": "code",
   "execution_count": 81,
   "metadata": {},
   "outputs": [],
   "source": [
    "CEO_salary = 1500000\n",
    "CEO_salary = 1_500_000"
   ]
  }
 ],
 "metadata": {
  "kernelspec": {
   "display_name": "Python 3",
   "language": "python",
   "name": "python3"
  },
  "language_info": {
   "codemirror_mode": {
    "name": "ipython",
    "version": 3
   },
   "file_extension": ".py",
   "mimetype": "text/x-python",
   "name": "python",
   "nbconvert_exporter": "python",
   "pygments_lexer": "ipython3",
   "version": "3.7.6"
  }
 },
 "nbformat": 4,
 "nbformat_minor": 4
}
