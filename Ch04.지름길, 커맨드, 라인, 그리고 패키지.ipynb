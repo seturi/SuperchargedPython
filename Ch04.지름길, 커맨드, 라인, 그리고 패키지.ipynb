{
 "cells": [
  {
   "cell_type": "markdown",
   "metadata": {},
   "source": [
    "# 4.2 22가지 프로그래밍 지름길"
   ]
  },
  {
   "cell_type": "markdown",
   "metadata": {},
   "source": [
    "## 4.2.1 필요하다면 코드를 여러 줄에 걸쳐 작성한다"
   ]
  },
  {
   "cell_type": "code",
   "execution_count": 4,
   "metadata": {},
   "outputs": [
    {
     "name": "stdout",
     "output_type": "stream",
     "text": [
      "I am Hen-er-y the Eighth, I am!\n"
     ]
    }
   ],
   "source": [
    "my_str = 'I am Hen-er-y the Eighth, ' 'I am!'\n",
    "print(my_str)"
   ]
  },
  {
   "cell_type": "code",
   "execution_count": 5,
   "metadata": {},
   "outputs": [
    {
     "name": "stdout",
     "output_type": "stream",
     "text": [
      "I am Hen-er-y the Eighth, I am!\n"
     ]
    }
   ],
   "source": [
    "my_str = 'I am Hen-er-y the Eighth, '\\\n",
    "'I am!'\n",
    "print(my_str)"
   ]
  },
  {
   "cell_type": "code",
   "execution_count": 6,
   "metadata": {},
   "outputs": [
    {
     "name": "stdout",
     "output_type": "stream",
     "text": [
      "I am Hen-er-y the Eighth, I am! I am not just any Henry VIII, I really I am!\n"
     ]
    }
   ],
   "source": [
    "my_str = ('I am Hen-er-y the Eighth, ' \n",
    "'I am! I am not just any Henry VIII, '\n",
    "'I really I am!')\n",
    "print(my_str)"
   ]
  },
  {
   "cell_type": "markdown",
   "metadata": {},
   "source": [
    "## 4.2.2 for 루프는 현명하게 사용한다"
   ]
  },
  {
   "cell_type": "code",
   "execution_count": 7,
   "metadata": {},
   "outputs": [
    {
     "name": "stdout",
     "output_type": "stream",
     "text": [
      "John\n",
      "Paul\n",
      "George\n",
      "Ringo\n"
     ]
    }
   ],
   "source": [
    "# 안 좋은 예시 - range와 인덱스를 이용하는 C언어 스타일의 for 루프\n",
    "beat_list = ['John', 'Paul', 'George', 'Ringo']\n",
    "for i in range(len(beat_list)):\n",
    "    print(beat_list[i])"
   ]
  },
  {
   "cell_type": "code",
   "execution_count": 8,
   "metadata": {},
   "outputs": [
    {
     "name": "stdout",
     "output_type": "stream",
     "text": [
      "John\n",
      "Paul\n",
      "George\n",
      "Ringo\n"
     ]
    }
   ],
   "source": [
    "# 추천방식 1\n",
    "beat_list = ['John', 'Paul', 'George', 'Ringo']\n",
    "for guy in beat_list:\n",
    "    print(guy)"
   ]
  },
  {
   "cell_type": "code",
   "execution_count": 10,
   "metadata": {},
   "outputs": [
    {
     "name": "stdout",
     "output_type": "stream",
     "text": [
      "1. John\n",
      "2. Paul\n",
      "3. George\n",
      "4. Ringo\n"
     ]
    }
   ],
   "source": [
    "# 추천방식 2 - enumerate 함수 사용\n",
    "beat_list = ['John', 'Paul', 'George', 'Ringo']\n",
    "for i, name in enumerate(beat_list, 1):\n",
    "    print(i, '. ', name, sep='')"
   ]
  },
  {
   "cell_type": "code",
   "execution_count": 11,
   "metadata": {},
   "outputs": [
    {
     "name": "stdout",
     "output_type": "stream",
     "text": [
      "['John', 'Paul', 'George', 'Ringo']\n"
     ]
    }
   ],
   "source": [
    "# 인덱스를 사용하지 않고 변수 값 변경을 시도하는 경우 - 신규 객체가 생성되어 대입되며 기존 객체의 값은 변경되지 않음\n",
    "beat_list = ['John', 'Paul', 'George', 'Ringo']\n",
    "for guy in beat_list:\n",
    "    guy = 'Chris'\n",
    "print(beat_list)"
   ]
  },
  {
   "cell_type": "markdown",
   "metadata": {},
   "source": [
    "## 4.2.3 대입 연산자 조합을 이해한다"
   ]
  },
  {
   "cell_type": "code",
   "execution_count": 12,
   "metadata": {},
   "outputs": [
    {
     "name": "stdout",
     "output_type": "stream",
     "text": [
      "s1: A string...with more stuff\n",
      "s2: A string\n"
     ]
    }
   ],
   "source": [
    "s1 = s2 = 'A string'\n",
    "s1 += '...with more stuff'\n",
    "print('s1:', s1)\n",
    "print('s2:', s2)"
   ]
  },
  {
   "cell_type": "code",
   "execution_count": 13,
   "metadata": {},
   "outputs": [
    {
     "name": "stdout",
     "output_type": "stream",
     "text": [
      "a_list: [10, 20, 30, 40]\n",
      "b_list: [10, 20, 30, 40]\n"
     ]
    }
   ],
   "source": [
    "a_list = b_list = [10, 20]\n",
    "a_list += [30, 40]\n",
    "print('a_list:', a_list)\n",
    "print('b_list:', b_list)"
   ]
  },
  {
   "cell_type": "code",
   "execution_count": 14,
   "metadata": {},
   "outputs": [
    {
     "name": "stdout",
     "output_type": "stream",
     "text": [
      "abcdefghijklmnopqrstuvwxyz\n"
     ]
    }
   ],
   "source": [
    "str_list = []\n",
    "n = ord('a')\n",
    "for i in range(n, n + 26):\n",
    "    str_list += chr(i)\n",
    "alphabet_str = ''.join(str_list)\n",
    "print(alphabet_str)"
   ]
  },
  {
   "cell_type": "markdown",
   "metadata": {},
   "source": [
    "## 4.2.4 다중 대입을 사용한다"
   ]
  },
  {
   "cell_type": "code",
   "execution_count": 15,
   "metadata": {},
   "outputs": [
    {
     "data": {
      "text/plain": [
       "True"
      ]
     },
     "execution_count": 15,
     "metadata": {},
     "output_type": "execute_result"
    }
   ],
   "source": [
    "a = b = c = d = e = 0\n",
    "a is b"
   ]
  },
  {
   "cell_type": "markdown",
   "metadata": {},
   "source": [
    " ## 4.2.5 튜플 대입을 사용한다"
   ]
  },
  {
   "cell_type": "code",
   "execution_count": 16,
   "metadata": {},
   "outputs": [],
   "source": [
    "a, b = 1, 0\n",
    "a = 4, 8, 12"
   ]
  },
  {
   "cell_type": "code",
   "execution_count": 18,
   "metadata": {},
   "outputs": [],
   "source": [
    "def fibo(n):\n",
    "    a, b = 1, 0\n",
    "    \n",
    "    while a <= n:\n",
    "        print(a, end=' ')\n",
    "        a, b = a + b, a"
   ]
  },
  {
   "cell_type": "code",
   "execution_count": 19,
   "metadata": {},
   "outputs": [
    {
     "name": "stdout",
     "output_type": "stream",
     "text": [
      "1 25\n",
      "25 1\n"
     ]
    }
   ],
   "source": [
    "x, y = 1, 25\n",
    "print(x, y)\n",
    "x, y = y, x\n",
    "print(x, y)"
   ]
  },
  {
   "cell_type": "markdown",
   "metadata": {},
   "source": [
    "## 4.2.6 고급 튜플 대입을 사용한다"
   ]
  },
  {
   "cell_type": "code",
   "execution_count": 20,
   "metadata": {},
   "outputs": [
    {
     "name": "stdout",
     "output_type": "stream",
     "text": [
      "10 20 30\n"
     ]
    }
   ],
   "source": [
    "tup = 10, 20, 30\n",
    "a, b, c = tup\n",
    "print(a, b, c)"
   ]
  },
  {
   "cell_type": "code",
   "execution_count": 21,
   "metadata": {},
   "outputs": [],
   "source": [
    "my_tup = (3, ) # 한 항목을 가진 튜플 생성"
   ]
  },
  {
   "cell_type": "code",
   "execution_count": 24,
   "metadata": {},
   "outputs": [
    {
     "name": "stdout",
     "output_type": "stream",
     "text": [
      "2 [4, 6, 8]\n"
     ]
    }
   ],
   "source": [
    "a, *b = 2, 4, 6, 8\n",
    "print(a, b)"
   ]
  },
  {
   "cell_type": "code",
   "execution_count": 25,
   "metadata": {},
   "outputs": [
    {
     "name": "stdout",
     "output_type": "stream",
     "text": [
      "10 [20, 30, 40] 50\n"
     ]
    }
   ],
   "source": [
    "a, *b, c = 10, 20, 30, 40, 50\n",
    "print(a, b, c)"
   ]
  },
  {
   "cell_type": "code",
   "execution_count": 27,
   "metadata": {},
   "outputs": [
    {
     "name": "stdout",
     "output_type": "stream",
     "text": [
      "100\n",
      "200\n",
      "[300, 400, 500]\n"
     ]
    }
   ],
   "source": [
    "big, bigger, *many = 100, 200, 300, 400, 500\n",
    "print(big, bigger, many, sep='\\n')"
   ]
  },
  {
   "cell_type": "markdown",
   "metadata": {},
   "source": [
    "## 4.2.7 리스트와 문자열 '곱하기'를 사용한다"
   ]
  },
  {
   "cell_type": "code",
   "execution_count": 28,
   "metadata": {},
   "outputs": [
    {
     "data": {
      "text/plain": [
       "10000"
      ]
     },
     "execution_count": 28,
     "metadata": {},
     "output_type": "execute_result"
    }
   ],
   "source": [
    "my_list = [0] * 10000\n",
    "len(my_list)"
   ]
  },
  {
   "cell_type": "code",
   "execution_count": 29,
   "metadata": {},
   "outputs": [
    {
     "data": {
      "text/plain": [
       "1999"
      ]
     },
     "execution_count": 29,
     "metadata": {},
     "output_type": "execute_result"
    }
   ],
   "source": [
    "my_list = 1999 * [2]\n",
    "len(my_list)"
   ]
  },
  {
   "cell_type": "code",
   "execution_count": 30,
   "metadata": {},
   "outputs": [
    {
     "data": {
      "text/plain": [
       "300"
      ]
     },
     "execution_count": 30,
     "metadata": {},
     "output_type": "execute_result"
    }
   ],
   "source": [
    "trip_list = [1, 2, 3] * 100\n",
    "len(trip_list)"
   ]
  },
  {
   "cell_type": "code",
   "execution_count": 31,
   "metadata": {},
   "outputs": [
    {
     "name": "stdout",
     "output_type": "stream",
     "text": [
      "________________________________________\n"
     ]
    }
   ],
   "source": [
    "divider_str = '_' * 40\n",
    "print(divider_str)"
   ]
  },
  {
   "cell_type": "markdown",
   "metadata": {},
   "source": [
    "## 4.2.8 다중 값을 반환한다"
   ]
  },
  {
   "cell_type": "code",
   "execution_count": 32,
   "metadata": {},
   "outputs": [
    {
     "data": {
      "text/plain": [
       "20"
      ]
     },
     "execution_count": 32,
     "metadata": {},
     "output_type": "execute_result"
    }
   ],
   "source": [
    "def double_me(n):\n",
    "    return n * 2\n",
    "\n",
    "a = 10\n",
    "a = double_me(a)\n",
    "a"
   ]
  },
  {
   "cell_type": "code",
   "execution_count": 34,
   "metadata": {},
   "outputs": [
    {
     "name": "stdout",
     "output_type": "stream",
     "text": [
      "1.618033988749895 -0.6180339887498949\n",
      "(1.618033988749895, -0.6180339887498949)\n"
     ]
    }
   ],
   "source": [
    "def quad(a, b, c):\n",
    "    determin = (b * b - 4 * a * c) ** .5\n",
    "    x1 = (-b + determin) / (2 * a)\n",
    "    x2 = (-b - determin) / (2 * a)\n",
    "    return x1, x2\n",
    "\n",
    "x1, x2 = quad(1, -1, -1)\n",
    "x = quad(1, -1, -1)\n",
    "print(x1, x2)\n",
    "print(x)"
   ]
  },
  {
   "cell_type": "markdown",
   "metadata": {},
   "source": [
    "## 4.2.9 루프와 else 키워드를 사용한다"
   ]
  },
  {
   "cell_type": "code",
   "execution_count": 37,
   "metadata": {},
   "outputs": [
    {
     "name": "stdout",
     "output_type": "stream",
     "text": [
      "No divisor found\n",
      "7 divides evenly into 49\n"
     ]
    }
   ],
   "source": [
    "def find_divisor(n, max):\n",
    "    for i in range(2, max + 1):\n",
    "        if n % i == 0:\n",
    "            print(i, 'divides evenly into', n)\n",
    "            break\n",
    "    else:\n",
    "        print(\"No divisor found\")\n",
    "find_divisor(49, 6)\n",
    "find_divisor(49, 7)"
   ]
  },
  {
   "cell_type": "markdown",
   "metadata": {},
   "source": [
    "## 4.2.10 불리언과 'not'의 이점을 활용한다"
   ]
  },
  {
   "cell_type": "code",
   "execution_count": 39,
   "metadata": {},
   "outputs": [
    {
     "name": "stdout",
     "output_type": "stream",
     "text": [
      "break\n",
      "break\n"
     ]
    }
   ],
   "source": [
    "my_str = ''\n",
    "if len(my_str) == 0:\n",
    "    print('break')\n",
    "    \n",
    "# 위 표현을 다음과 같이 표현할 수 있다\n",
    "if not my_str:\n",
    "    print('break')"
   ]
  },
  {
   "cell_type": "markdown",
   "metadata": {},
   "source": [
    "## 4.2.11 문자열은 문자의 나열로 다룬다"
   ]
  },
  {
   "cell_type": "code",
   "execution_count": 40,
   "metadata": {},
   "outputs": [
    {
     "name": "stdout",
     "output_type": "stream",
     "text": [
      "Enter test string: A man, A plan, a canal, Panama!\n",
      "True\n"
     ]
    }
   ],
   "source": [
    "test_str = input('Enter test string: ')\n",
    "a_list = [c.upper() for c in test_str if c.isalnum()]\n",
    "print(a_list == a_list[::-1])"
   ]
  },
  {
   "cell_type": "markdown",
   "metadata": {},
   "source": [
    "## 4.2.12 replace를 사용하여 문자를 제거한다"
   ]
  },
  {
   "cell_type": "code",
   "execution_count": 41,
   "metadata": {},
   "outputs": [],
   "source": [
    "s = '1 / 2'\n",
    "s = s.replace(' ', '')"
   ]
  },
  {
   "cell_type": "code",
   "execution_count": 43,
   "metadata": {},
   "outputs": [],
   "source": [
    "a_list = [c for c in s if c not in 'aeiou']\n",
    "s = ''.join(a_list)"
   ]
  },
  {
   "cell_type": "markdown",
   "metadata": {},
   "source": [
    "## 4.2.13 필요없는 루프는 사용하지 않는다"
   ]
  },
  {
   "cell_type": "code",
   "execution_count": 44,
   "metadata": {},
   "outputs": [],
   "source": [
    "def calc_triangle_num(n):\n",
    "    return sum(range(n+1))"
   ]
  },
  {
   "cell_type": "code",
   "execution_count": 45,
   "metadata": {},
   "outputs": [],
   "source": [
    "def get_avg(a_list):\n",
    "    return sum(a_list) / len(a_list)"
   ]
  },
  {
   "cell_type": "markdown",
   "metadata": {},
   "source": [
    "## 4.2.14 연결된 비교 연산자를 사용한다"
   ]
  },
  {
   "cell_type": "code",
   "execution_count": 47,
   "metadata": {},
   "outputs": [
    {
     "name": "stdout",
     "output_type": "stream",
     "text": [
      "x is in range.\n"
     ]
    }
   ],
   "source": [
    "x = 1\n",
    "if 0 < x < 100:\n",
    "    print('x is in range.')"
   ]
  },
  {
   "cell_type": "code",
   "execution_count": 48,
   "metadata": {},
   "outputs": [
    {
     "name": "stdout",
     "output_type": "stream",
     "text": [
      "All these comparisons are true!\n",
      "c is equal or greater than all the rest!\n"
     ]
    }
   ],
   "source": [
    "a, b, c = 5, 10, 15\n",
    "if 0 < a <= c > b > 1:\n",
    "    print('All these comparisons are true!')\n",
    "    print('c is equal or greater than all the rest!')"
   ]
  },
  {
   "cell_type": "code",
   "execution_count": 49,
   "metadata": {},
   "outputs": [
    {
     "name": "stdout",
     "output_type": "stream",
     "text": [
      "All the variables are equal to each other.\n"
     ]
    }
   ],
   "source": [
    "a = b = c = d = e = 100\n",
    "if a == b == c == d == e:\n",
    "    print('All the variables are equal to each other.')"
   ]
  },
  {
   "cell_type": "code",
   "execution_count": 51,
   "metadata": {},
   "outputs": [
    {
     "name": "stdout",
     "output_type": "stream",
     "text": [
      "All the elements are equal to each other\n"
     ]
    }
   ],
   "source": [
    "a_list = [5, 5, 5, 5]\n",
    "if min(a_list) == max(a_list):\n",
    "    print('All the elements are equal to each other')"
   ]
  },
  {
   "cell_type": "markdown",
   "metadata": {},
   "source": [
    "## 4.2.15 함수 테이블(리스트, 딕셔너리)로 switch 문을 모방한다"
   ]
  },
  {
   "cell_type": "code",
   "execution_count": 55,
   "metadata": {},
   "outputs": [
    {
     "name": "stdout",
     "output_type": "stream",
     "text": [
      "\n"
     ]
    }
   ],
   "source": [
    "\"\"\"\n",
    "if n == 1:\n",
    "    do_plot(stockdf)\n",
    "elif n == 2:\n",
    "    do_highlow_plot(stockdf)\n",
    "elif n == 3:\n",
    "    do_volume_subplot(stockdf)\n",
    "elif n == 4:\n",
    "    do_movingavg_plot(stockdf)\n",
    "\"\"\"\n",
    "\n",
    "# 위 코드는 다음과 같이 변형할 수 있다.\n",
    "\"\"\"\n",
    "fn = [do_plot, do_highlow_plot, do_volume_subplot, do_movingavg_plot][n-1]\n",
    "fn(stockdf)\n",
    "\"\"\""
   ]
  },
  {
   "cell_type": "code",
   "execution_count": 57,
   "metadata": {},
   "outputs": [
    {
     "name": "stdout",
     "output_type": "stream",
     "text": [
      "\n"
     ]
    }
   ],
   "source": [
    "\"\"\"\n",
    "menu_dict = {'load':load_fn, 'save':save_fn, 'exit':exit_fn, 'update', update_fn}\n",
    "(menu_dict[selector])()  # 함수 호출\n",
    "\"\"\""
   ]
  },
  {
   "cell_type": "markdown",
   "metadata": {},
   "source": [
    "## 4.2.16 is 연산자는 정확하게 사용한다"
   ]
  },
  {
   "cell_type": "code",
   "execution_count": 59,
   "metadata": {},
   "outputs": [
    {
     "data": {
      "text/plain": [
       "True"
      ]
     },
     "execution_count": 59,
     "metadata": {},
     "output_type": "execute_result"
    }
   ],
   "source": [
    "a = 'cat'\n",
    "b = 'cat'\n",
    "a == b"
   ]
  },
  {
   "cell_type": "code",
   "execution_count": 60,
   "metadata": {},
   "outputs": [
    {
     "name": "stdout",
     "output_type": "stream",
     "text": [
      "True\n",
      "False\n"
     ]
    }
   ],
   "source": [
    "s1 = 'I am what I am and that is all that I am'\n",
    "s2 = 'I am what I am' + ' and that is all that I am'\n",
    "print(s1 == s2)\n",
    "print(s1 is s2)"
   ]
  },
  {
   "cell_type": "code",
   "execution_count": 61,
   "metadata": {},
   "outputs": [
    {
     "name": "stdout",
     "output_type": "stream",
     "text": [
      "\n"
     ]
    }
   ],
   "source": [
    "\"\"\"\n",
    "a_value = my_function()\n",
    "if a_value is None:\n",
    "    # 특별한 행동\n",
    "\"\"\""
   ]
  },
  {
   "cell_type": "markdown",
   "metadata": {},
   "source": [
    "## 4.2.17 단일 행 for 루프를 사용한다"
   ]
  },
  {
   "cell_type": "code",
   "execution_count": 62,
   "metadata": {},
   "outputs": [
    {
     "name": "stdout",
     "output_type": "stream",
     "text": [
      "0 1 2 3 4 5 6 7 8 9 "
     ]
    }
   ],
   "source": [
    "for i in range(10): print(i, end=' ')"
   ]
  },
  {
   "cell_type": "markdown",
   "metadata": {},
   "source": [
    "## 4.2.18 여러 문장을 하나의 행으로 줄인다"
   ]
  },
  {
   "cell_type": "code",
   "execution_count": 64,
   "metadata": {},
   "outputs": [
    {
     "name": "stdout",
     "output_type": "stream",
     "text": [
      "5 7 9 11 13 "
     ]
    }
   ],
   "source": [
    "for i in range(5): n = i * 2; m = 5; print(n+m, end=' ')"
   ]
  },
  {
   "cell_type": "code",
   "execution_count": 65,
   "metadata": {},
   "outputs": [
    {
     "name": "stdout",
     "output_type": "stream",
     "text": [
      "3\n"
     ]
    }
   ],
   "source": [
    "a = 1; b = 2; c = a + b; print(c)"
   ]
  },
  {
   "cell_type": "markdown",
   "metadata": {},
   "source": [
    "## 4.2.19 단일 행 if/then/else 문을 작성한다"
   ]
  },
  {
   "cell_type": "code",
   "execution_count": 67,
   "metadata": {},
   "outputs": [],
   "source": [
    "turn = 0\n",
    "# ...\n",
    "if turn % 2:\n",
    "    cell = 'x'\n",
    "else:\n",
    "    cell = 'O'"
   ]
  },
  {
   "cell_type": "code",
   "execution_count": 68,
   "metadata": {},
   "outputs": [],
   "source": [
    "cell = 'X' if turn % 2 else 'O'"
   ]
  },
  {
   "cell_type": "markdown",
   "metadata": {},
   "source": [
    "## 4.2.20 range와 enum을 생성한다"
   ]
  },
  {
   "cell_type": "code",
   "execution_count": 69,
   "metadata": {},
   "outputs": [],
   "source": [
    "red = 0\n",
    "blue = 1\n",
    "green = 2\n",
    "black = 3\n",
    "white = 4"
   ]
  },
  {
   "cell_type": "code",
   "execution_count": 70,
   "metadata": {},
   "outputs": [],
   "source": [
    "red, blue, green, black, white = range(5)"
   ]
  },
  {
   "cell_type": "code",
   "execution_count": 71,
   "metadata": {},
   "outputs": [],
   "source": [
    "red, blue, green, black, white = range(1, 6)"
   ]
  },
  {
   "cell_type": "markdown",
   "metadata": {},
   "source": [
    "## 4.2.21 IDLE 안에서 비효율적인 print 함수 사용을 줄인다"
   ]
  },
  {
   "cell_type": "code",
   "execution_count": 78,
   "metadata": {},
   "outputs": [
    {
     "name": "stdout",
     "output_type": "stream",
     "text": [
      "****************************************\n",
      "****************************************\n",
      "****************************************\n",
      "****************************************\n",
      "****************************************\n",
      "****************************************\n",
      "****************************************\n",
      "****************************************\n",
      "****************************************\n",
      "****************************************\n",
      "****************************************\n",
      "****************************************\n",
      "****************************************\n",
      "****************************************\n",
      "****************************************\n",
      "****************************************\n",
      "****************************************\n",
      "****************************************\n",
      "****************************************\n",
      "****************************************\n"
     ]
    }
   ],
   "source": [
    "for i in range(20):\n",
    "    for j in range(40):\n",
    "        print('*', end='')\n",
    "    print()"
   ]
  },
  {
   "cell_type": "code",
   "execution_count": 72,
   "metadata": {},
   "outputs": [
    {
     "name": "stdout",
     "output_type": "stream",
     "text": [
      "****************************************\n",
      "****************************************\n",
      "****************************************\n",
      "****************************************\n",
      "****************************************\n",
      "****************************************\n",
      "****************************************\n",
      "****************************************\n",
      "****************************************\n",
      "****************************************\n",
      "****************************************\n",
      "****************************************\n",
      "****************************************\n",
      "****************************************\n",
      "****************************************\n",
      "****************************************\n",
      "****************************************\n",
      "****************************************\n",
      "****************************************\n",
      "****************************************\n"
     ]
    }
   ],
   "source": [
    "row_of_asterisks = '*' * 40\n",
    "for i in range(20):\n",
    "    print(row_of_asterisks)"
   ]
  },
  {
   "cell_type": "code",
   "execution_count": 77,
   "metadata": {},
   "outputs": [
    {
     "name": "stdout",
     "output_type": "stream",
     "text": [
      "****************************************\n",
      "****************************************\n",
      "****************************************\n",
      "****************************************\n",
      "****************************************\n",
      "****************************************\n",
      "****************************************\n",
      "****************************************\n",
      "****************************************\n",
      "****************************************\n",
      "****************************************\n",
      "****************************************\n",
      "****************************************\n",
      "****************************************\n",
      "****************************************\n",
      "****************************************\n",
      "****************************************\n",
      "****************************************\n",
      "****************************************\n",
      "****************************************\n",
      "\n"
     ]
    }
   ],
   "source": [
    "row_of_asterisks = '*' * 40\n",
    "s = ''\n",
    "for i in range(20):\n",
    "    s += row_of_asterisks + '\\n'\n",
    "print(s)"
   ]
  },
  {
   "cell_type": "code",
   "execution_count": 79,
   "metadata": {},
   "outputs": [
    {
     "name": "stdout",
     "output_type": "stream",
     "text": [
      "****************************************\n",
      "****************************************\n",
      "****************************************\n",
      "****************************************\n",
      "****************************************\n",
      "****************************************\n",
      "****************************************\n",
      "****************************************\n",
      "****************************************\n",
      "****************************************\n",
      "****************************************\n",
      "****************************************\n",
      "****************************************\n",
      "****************************************\n",
      "****************************************\n",
      "****************************************\n",
      "****************************************\n",
      "****************************************\n",
      "****************************************\n",
      "****************************************\n"
     ]
    }
   ],
   "source": [
    "row_of_asterisks = '*' * 40\n",
    "list_of_str = []\n",
    "for i in range(20):\n",
    "    list_of_str.append(row_of_asterisks)\n",
    "print('\\n'.join(list_of_str))"
   ]
  },
  {
   "cell_type": "code",
   "execution_count": 80,
   "metadata": {},
   "outputs": [
    {
     "name": "stdout",
     "output_type": "stream",
     "text": [
      "****************************************\n",
      "****************************************\n",
      "****************************************\n",
      "****************************************\n",
      "****************************************\n",
      "****************************************\n",
      "****************************************\n",
      "****************************************\n",
      "****************************************\n",
      "****************************************\n",
      "****************************************\n",
      "****************************************\n",
      "****************************************\n",
      "****************************************\n",
      "****************************************\n",
      "****************************************\n",
      "****************************************\n",
      "****************************************\n",
      "****************************************\n",
      "****************************************\n"
     ]
    }
   ],
   "source": [
    "print('\\n'.join(['*' * 40] * 20))"
   ]
  },
  {
   "cell_type": "markdown",
   "metadata": {},
   "source": [
    "## 4.2.22 큰 번호 안에 언더스코어(_)를 넣는다"
   ]
  },
  {
   "cell_type": "code",
   "execution_count": 1,
   "metadata": {},
   "outputs": [],
   "source": [
    "CEO_salary = 1500000\n",
    "CEO_salary = 1_500_000"
   ]
  },
  {
   "cell_type": "markdown",
   "metadata": {},
   "source": [
    "# 4.4 doc string 작성하고 사용하기"
   ]
  },
  {
   "cell_type": "code",
   "execution_count": 2,
   "metadata": {},
   "outputs": [],
   "source": [
    "def quad(a, b, c):\n",
    "    ''' Quadratic Formula function\n",
    "    \n",
    "    This function applies the Quadratic Formula\n",
    "    to determine the roots of x in a quadratic\n",
    "    equation of the form ax^2 + bx + c = 0.\n",
    "    '''\n",
    "    \n",
    "    determin = (b * b - 4 *a * c) **.5\n",
    "    x1 = (-b + determin) / (2 * a)\n",
    "    x2 = (-b - determin) / (2 * a)\n",
    "    return x1, x2"
   ]
  },
  {
   "cell_type": "code",
   "execution_count": 3,
   "metadata": {},
   "outputs": [
    {
     "name": "stdout",
     "output_type": "stream",
     "text": [
      "Help on function quad in module __main__:\n",
      "\n",
      "quad(a, b, c)\n",
      "    Quadratic Formula function\n",
      "    \n",
      "    This function applies the Quadratic Formula\n",
      "    to determine the roots of x in a quadratic\n",
      "    equation of the form ax^2 + bx + c = 0.\n",
      "\n"
     ]
    }
   ],
   "source": [
    "help(quad)"
   ]
  },
  {
   "cell_type": "markdown",
   "metadata": {},
   "source": [
    "# 4.5 패키지 탑재하기"
   ]
  },
  {
   "cell_type": "code",
   "execution_count": 4,
   "metadata": {},
   "outputs": [
    {
     "name": "stdout",
     "output_type": "stream",
     "text": [
      "Help on built-in module math:\n",
      "\n",
      "NAME\n",
      "    math\n",
      "\n",
      "DESCRIPTION\n",
      "    This module provides access to the mathematical functions\n",
      "    defined by the C standard.\n",
      "\n",
      "FUNCTIONS\n",
      "    acos(x, /)\n",
      "        Return the arc cosine (measured in radians) of x.\n",
      "    \n",
      "    acosh(x, /)\n",
      "        Return the inverse hyperbolic cosine of x.\n",
      "    \n",
      "    asin(x, /)\n",
      "        Return the arc sine (measured in radians) of x.\n",
      "    \n",
      "    asinh(x, /)\n",
      "        Return the inverse hyperbolic sine of x.\n",
      "    \n",
      "    atan(x, /)\n",
      "        Return the arc tangent (measured in radians) of x.\n",
      "    \n",
      "    atan2(y, x, /)\n",
      "        Return the arc tangent (measured in radians) of y/x.\n",
      "        \n",
      "        Unlike atan(y/x), the signs of both x and y are considered.\n",
      "    \n",
      "    atanh(x, /)\n",
      "        Return the inverse hyperbolic tangent of x.\n",
      "    \n",
      "    ceil(x, /)\n",
      "        Return the ceiling of x as an Integral.\n",
      "        \n",
      "        This is the smallest integer >= x.\n",
      "    \n",
      "    copysign(x, y, /)\n",
      "        Return a float with the magnitude (absolute value) of x but the sign of y.\n",
      "        \n",
      "        On platforms that support signed zeros, copysign(1.0, -0.0)\n",
      "        returns -1.0.\n",
      "    \n",
      "    cos(x, /)\n",
      "        Return the cosine of x (measured in radians).\n",
      "    \n",
      "    cosh(x, /)\n",
      "        Return the hyperbolic cosine of x.\n",
      "    \n",
      "    degrees(x, /)\n",
      "        Convert angle x from radians to degrees.\n",
      "    \n",
      "    erf(x, /)\n",
      "        Error function at x.\n",
      "    \n",
      "    erfc(x, /)\n",
      "        Complementary error function at x.\n",
      "    \n",
      "    exp(x, /)\n",
      "        Return e raised to the power of x.\n",
      "    \n",
      "    expm1(x, /)\n",
      "        Return exp(x)-1.\n",
      "        \n",
      "        This function avoids the loss of precision involved in the direct evaluation of exp(x)-1 for small x.\n",
      "    \n",
      "    fabs(x, /)\n",
      "        Return the absolute value of the float x.\n",
      "    \n",
      "    factorial(x, /)\n",
      "        Find x!.\n",
      "        \n",
      "        Raise a ValueError if x is negative or non-integral.\n",
      "    \n",
      "    floor(x, /)\n",
      "        Return the floor of x as an Integral.\n",
      "        \n",
      "        This is the largest integer <= x.\n",
      "    \n",
      "    fmod(x, y, /)\n",
      "        Return fmod(x, y), according to platform C.\n",
      "        \n",
      "        x % y may differ.\n",
      "    \n",
      "    frexp(x, /)\n",
      "        Return the mantissa and exponent of x, as pair (m, e).\n",
      "        \n",
      "        m is a float and e is an int, such that x = m * 2.**e.\n",
      "        If x is 0, m and e are both 0.  Else 0.5 <= abs(m) < 1.0.\n",
      "    \n",
      "    fsum(seq, /)\n",
      "        Return an accurate floating point sum of values in the iterable seq.\n",
      "        \n",
      "        Assumes IEEE-754 floating point arithmetic.\n",
      "    \n",
      "    gamma(x, /)\n",
      "        Gamma function at x.\n",
      "    \n",
      "    gcd(x, y, /)\n",
      "        greatest common divisor of x and y\n",
      "    \n",
      "    hypot(x, y, /)\n",
      "        Return the Euclidean distance, sqrt(x*x + y*y).\n",
      "    \n",
      "    isclose(a, b, *, rel_tol=1e-09, abs_tol=0.0)\n",
      "        Determine whether two floating point numbers are close in value.\n",
      "        \n",
      "          rel_tol\n",
      "            maximum difference for being considered \"close\", relative to the\n",
      "            magnitude of the input values\n",
      "          abs_tol\n",
      "            maximum difference for being considered \"close\", regardless of the\n",
      "            magnitude of the input values\n",
      "        \n",
      "        Return True if a is close in value to b, and False otherwise.\n",
      "        \n",
      "        For the values to be considered close, the difference between them\n",
      "        must be smaller than at least one of the tolerances.\n",
      "        \n",
      "        -inf, inf and NaN behave similarly to the IEEE 754 Standard.  That\n",
      "        is, NaN is not close to anything, even itself.  inf and -inf are\n",
      "        only close to themselves.\n",
      "    \n",
      "    isfinite(x, /)\n",
      "        Return True if x is neither an infinity nor a NaN, and False otherwise.\n",
      "    \n",
      "    isinf(x, /)\n",
      "        Return True if x is a positive or negative infinity, and False otherwise.\n",
      "    \n",
      "    isnan(x, /)\n",
      "        Return True if x is a NaN (not a number), and False otherwise.\n",
      "    \n",
      "    ldexp(x, i, /)\n",
      "        Return x * (2**i).\n",
      "        \n",
      "        This is essentially the inverse of frexp().\n",
      "    \n",
      "    lgamma(x, /)\n",
      "        Natural logarithm of absolute value of Gamma function at x.\n",
      "    \n",
      "    log(...)\n",
      "        log(x, [base=math.e])\n",
      "        Return the logarithm of x to the given base.\n",
      "        \n",
      "        If the base not specified, returns the natural logarithm (base e) of x.\n",
      "    \n",
      "    log10(x, /)\n",
      "        Return the base 10 logarithm of x.\n",
      "    \n",
      "    log1p(x, /)\n",
      "        Return the natural logarithm of 1+x (base e).\n",
      "        \n",
      "        The result is computed in a way which is accurate for x near zero.\n",
      "    \n",
      "    log2(x, /)\n",
      "        Return the base 2 logarithm of x.\n",
      "    \n",
      "    modf(x, /)\n",
      "        Return the fractional and integer parts of x.\n",
      "        \n",
      "        Both results carry the sign of x and are floats.\n",
      "    \n",
      "    pow(x, y, /)\n",
      "        Return x**y (x to the power of y).\n",
      "    \n",
      "    radians(x, /)\n",
      "        Convert angle x from degrees to radians.\n",
      "    \n",
      "    remainder(x, y, /)\n",
      "        Difference between x and the closest integer multiple of y.\n",
      "        \n",
      "        Return x - n*y where n*y is the closest integer multiple of y.\n",
      "        In the case where x is exactly halfway between two multiples of\n",
      "        y, the nearest even value of n is used. The result is always exact.\n",
      "    \n",
      "    sin(x, /)\n",
      "        Return the sine of x (measured in radians).\n",
      "    \n",
      "    sinh(x, /)\n",
      "        Return the hyperbolic sine of x.\n",
      "    \n",
      "    sqrt(x, /)\n",
      "        Return the square root of x.\n",
      "    \n",
      "    tan(x, /)\n",
      "        Return the tangent of x (measured in radians).\n",
      "    \n",
      "    tanh(x, /)\n",
      "        Return the hyperbolic tangent of x.\n",
      "    \n",
      "    trunc(x, /)\n",
      "        Truncates the Real x to the nearest Integral toward 0.\n",
      "        \n",
      "        Uses the __trunc__ magic method.\n",
      "\n",
      "DATA\n",
      "    e = 2.718281828459045\n",
      "    inf = inf\n",
      "    nan = nan\n",
      "    pi = 3.141592653589793\n",
      "    tau = 6.283185307179586\n",
      "\n",
      "FILE\n",
      "    (built-in)\n",
      "\n",
      "\n"
     ]
    }
   ],
   "source": [
    "import math\n",
    "help(math)"
   ]
  },
  {
   "cell_type": "code",
   "execution_count": 5,
   "metadata": {},
   "outputs": [
    {
     "data": {
      "text/plain": [
       "1.4142135623730951"
      ]
     },
     "execution_count": 5,
     "metadata": {},
     "output_type": "execute_result"
    }
   ],
   "source": [
    "math.sqrt(2)"
   ]
  },
  {
   "cell_type": "code",
   "execution_count": 8,
   "metadata": {},
   "outputs": [
    {
     "data": {
      "text/plain": [
       "3.141592653589793"
      ]
     },
     "execution_count": 8,
     "metadata": {},
     "output_type": "execute_result"
    }
   ],
   "source": [
    "math.atan(1) * 4"
   ]
  },
  {
   "cell_type": "code",
   "execution_count": 7,
   "metadata": {},
   "outputs": [
    {
     "data": {
      "text/plain": [
       "3.141592653589793"
      ]
     },
     "execution_count": 7,
     "metadata": {},
     "output_type": "execute_result"
    }
   ],
   "source": [
    "math.pi"
   ]
  },
  {
   "cell_type": "code",
   "execution_count": 9,
   "metadata": {},
   "outputs": [],
   "source": [
    "import matplotlib.pyplot as plt"
   ]
  },
  {
   "cell_type": "code",
   "execution_count": 10,
   "metadata": {},
   "outputs": [
    {
     "name": "stdout",
     "output_type": "stream",
     "text": [
      "3.141592653589793\n"
     ]
    }
   ],
   "source": [
    "from math import pi\n",
    "print(pi)"
   ]
  },
  {
   "cell_type": "code",
   "execution_count": 11,
   "metadata": {},
   "outputs": [
    {
     "name": "stdout",
     "output_type": "stream",
     "text": [
      "3.141592653589793\n",
      "1.4142135623730951\n"
     ]
    }
   ],
   "source": [
    "from math import *\n",
    "print(pi)\n",
    "print(sqrt(2))"
   ]
  },
  {
   "cell_type": "markdown",
   "metadata": {},
   "source": [
    "# 4.7 일급 객체인 함수"
   ]
  },
  {
   "cell_type": "code",
   "execution_count": 14,
   "metadata": {},
   "outputs": [
    {
     "data": {
      "text/plain": [
       "function"
      ]
     },
     "execution_count": 14,
     "metadata": {},
     "output_type": "execute_result"
    }
   ],
   "source": [
    "def avg(a_list):\n",
    "    '''리스트 항목들의 평균값을 반환한다'''\n",
    "    x = (sum(a_list) / len(a_list))\n",
    "    print('The average is:', x)\n",
    "    return x\n",
    "\n",
    "type(avg)"
   ]
  },
  {
   "cell_type": "code",
   "execution_count": 15,
   "metadata": {},
   "outputs": [
    {
     "name": "stdout",
     "output_type": "stream",
     "text": [
      "The average is: 5.0\n"
     ]
    },
    {
     "data": {
      "text/plain": [
       "5.0"
      ]
     },
     "execution_count": 15,
     "metadata": {},
     "output_type": "execute_result"
    }
   ],
   "source": [
    "def new_func(a_list):\n",
    "    return (sum(a_list) / len(a_list))\n",
    "\n",
    "old_avg = avg\n",
    "avg = new_func\n",
    "\n",
    "old_avg([4, 6])"
   ]
  },
  {
   "cell_type": "code",
   "execution_count": 17,
   "metadata": {},
   "outputs": [
    {
     "name": "stdout",
     "output_type": "stream",
     "text": [
      "Function name: avg\n",
      "Function documentation:\n",
      "Help on function avg in module __main__:\n",
      "\n",
      "avg(a_list)\n",
      "    리스트 항목들의 평균값을 반환한다\n",
      "\n"
     ]
    }
   ],
   "source": [
    "def func_info(func):\n",
    "    print('Function name:', func.__name__)\n",
    "    print('Function documentation:')\n",
    "    help(func)\n",
    "    \n",
    "func_info(old_avg)"
   ]
  },
  {
   "cell_type": "markdown",
   "metadata": {},
   "source": [
    "# 4.8 가변 길이 인수 리스트"
   ]
  },
  {
   "cell_type": "markdown",
   "metadata": {},
   "source": [
    "## 4.8.1 *args 리스트"
   ]
  },
  {
   "cell_type": "code",
   "execution_count": 3,
   "metadata": {},
   "outputs": [],
   "source": [
    "def my_var_func(*args):\n",
    "    print('The number of args is', len(args))\n",
    "    for item in args:\n",
    "        print(item)"
   ]
  },
  {
   "cell_type": "code",
   "execution_count": 4,
   "metadata": {},
   "outputs": [
    {
     "name": "stdout",
     "output_type": "stream",
     "text": [
      "The number of args is 4\n",
      "10\n",
      "20\n",
      "30\n",
      "40\n"
     ]
    }
   ],
   "source": [
    "my_var_func(10, 20, 30, 40)"
   ]
  },
  {
   "cell_type": "code",
   "execution_count": 5,
   "metadata": {},
   "outputs": [
    {
     "name": "stdout",
     "output_type": "stream",
     "text": [
      "22.0\n",
      "1.5\n"
     ]
    }
   ],
   "source": [
    "def avg(*args):\n",
    "    return sum(args) / len(args)\n",
    "\n",
    "print(avg(11, 22, 33))\n",
    "print(avg(1, 2))"
   ]
  },
  {
   "cell_type": "code",
   "execution_count": 6,
   "metadata": {},
   "outputs": [
    {
     "name": "stdout",
     "output_type": "stream",
     "text": [
      "22.0 inches\n"
     ]
    }
   ],
   "source": [
    "def avg(units, *args):\n",
    "    print(sum(args)/len(args), units)\n",
    "    \n",
    "avg('inches', 11, 22, 33)"
   ]
  },
  {
   "cell_type": "markdown",
   "metadata": {},
   "source": [
    "## 4.8.2 **kwargs 리스트"
   ]
  },
  {
   "cell_type": "code",
   "execution_count": 7,
   "metadata": {},
   "outputs": [
    {
     "name": "stdout",
     "output_type": "stream",
     "text": [
      "a : 10\n",
      "b : 20\n",
      "c : 30\n"
     ]
    }
   ],
   "source": [
    "def pr_named_vals(**kwargs):\n",
    "    for k in kwargs:\n",
    "        print(k, ':', kwargs[k])\n",
    "        \n",
    "pr_named_vals(a=10, b=20, c=30)"
   ]
  },
  {
   "cell_type": "code",
   "execution_count": 9,
   "metadata": {},
   "outputs": [
    {
     "name": "stdout",
     "output_type": "stream",
     "text": [
      "1\n",
      "2\n",
      "3\n",
      "-4\n",
      "a : 100\n",
      "b : 200\n"
     ]
    }
   ],
   "source": [
    "def pr_vals_2(*args, **kwargs):\n",
    "    for i in args:\n",
    "        print(i)\n",
    "    for k in kwargs:\n",
    "        print(k, ':', kwargs[k])\n",
    "\n",
    "pr_vals_2(1, 2, 3, -4, a=100, b=200)"
   ]
  },
  {
   "cell_type": "markdown",
   "metadata": {},
   "source": [
    "# 4.9 데코레이터와 함수 프로파일러"
   ]
  },
  {
   "cell_type": "code",
   "execution_count": 9,
   "metadata": {},
   "outputs": [
    {
     "name": "stdout",
     "output_type": "stream",
     "text": [
      "소요 시간 : 0.7099976539611816\n"
     ]
    }
   ],
   "source": [
    "import time\n",
    "\n",
    "def make_timer(func):\n",
    "    def wrapper(*args, **kwargs):\n",
    "        t1 = time.time()\n",
    "        ret_val = func(*args, **kwargs)\n",
    "        t2 = time.time()\n",
    "        print('소요 시간 :', t2 - t1)\n",
    "        return ret_val\n",
    "    return wrapper\n",
    "\n",
    "def count_nums(n):\n",
    "    for i in range(n):\n",
    "        for j in range(1000):\n",
    "            pass\n",
    "        \n",
    "count_nums = make_timer(count_nums)\n",
    "count_nums(33000)"
   ]
  },
  {
   "cell_type": "code",
   "execution_count": 11,
   "metadata": {},
   "outputs": [
    {
     "name": "stdout",
     "output_type": "stream",
     "text": [
      "소요 시간 : 0.6829962730407715\n"
     ]
    }
   ],
   "source": [
    "@make_timer\n",
    "def count_nums(n):\n",
    "    for i in range(n):\n",
    "        for j in range(1000):\n",
    "            pass\n",
    "        \n",
    "count_nums(33000)"
   ]
  },
  {
   "cell_type": "markdown",
   "metadata": {},
   "source": [
    "# 4.10 제너레이터"
   ]
  },
  {
   "cell_type": "markdown",
   "metadata": {},
   "source": [
    "## 4.10.1 이터레이터란 무엇인가?"
   ]
  },
  {
   "cell_type": "code",
   "execution_count": 12,
   "metadata": {},
   "outputs": [
    {
     "name": "stdout",
     "output_type": "stream",
     "text": [
      "<list_reverseiterator object at 0x0000025FF3069E08>\n"
     ]
    }
   ],
   "source": [
    "iter1 = reversed([1, 2, 3, 4])\n",
    "print(iter1)"
   ]
  },
  {
   "cell_type": "code",
   "execution_count": 13,
   "metadata": {},
   "outputs": [
    {
     "name": "stdout",
     "output_type": "stream",
     "text": [
      "[4, 3, 2, 1]\n"
     ]
    }
   ],
   "source": [
    "print(list(iter1))"
   ]
  },
  {
   "cell_type": "code",
   "execution_count": 17,
   "metadata": {},
   "outputs": [
    {
     "name": "stdout",
     "output_type": "stream",
     "text": [
      "4 3 2 1 "
     ]
    }
   ],
   "source": [
    "iter1 = reversed([1, 2, 3, 4])\n",
    "for i in iter1:\n",
    "    print(i, end=' ')"
   ]
  },
  {
   "cell_type": "markdown",
   "metadata": {},
   "source": [
    "## 4.10.2 제너레이터 소개"
   ]
  },
  {
   "cell_type": "code",
   "execution_count": 18,
   "metadata": {},
   "outputs": [],
   "source": [
    "def print_evens():\n",
    "    for n in range(2, 11, 2):\n",
    "        print(n)"
   ]
  },
  {
   "cell_type": "code",
   "execution_count": 19,
   "metadata": {},
   "outputs": [
    {
     "data": {
      "text/plain": [
       "<generator object make_evens_gen at 0x0000025FF2B868C8>"
      ]
     },
     "execution_count": 19,
     "metadata": {},
     "output_type": "execute_result"
    }
   ],
   "source": [
    "def make_evens_gen():\n",
    "    for n in range(2, 11, 2):\n",
    "        yield n\n",
    "        \n",
    "make_evens_gen()"
   ]
  },
  {
   "cell_type": "code",
   "execution_count": 20,
   "metadata": {},
   "outputs": [
    {
     "data": {
      "text/plain": [
       "2"
      ]
     },
     "execution_count": 20,
     "metadata": {},
     "output_type": "execute_result"
    }
   ],
   "source": [
    "my_gen = make_evens_gen()\n",
    "next(my_gen)"
   ]
  },
  {
   "cell_type": "code",
   "execution_count": 21,
   "metadata": {},
   "outputs": [
    {
     "data": {
      "text/plain": [
       "4"
      ]
     },
     "execution_count": 21,
     "metadata": {},
     "output_type": "execute_result"
    }
   ],
   "source": [
    "next(my_gen)"
   ]
  },
  {
   "cell_type": "code",
   "execution_count": 22,
   "metadata": {},
   "outputs": [
    {
     "data": {
      "text/plain": [
       "6"
      ]
     },
     "execution_count": 22,
     "metadata": {},
     "output_type": "execute_result"
    }
   ],
   "source": [
    "next(my_gen)"
   ]
  },
  {
   "cell_type": "code",
   "execution_count": 23,
   "metadata": {},
   "outputs": [
    {
     "data": {
      "text/plain": [
       "2"
      ]
     },
     "execution_count": 23,
     "metadata": {},
     "output_type": "execute_result"
    }
   ],
   "source": [
    "my_gen = make_evens_gen()  # 다시 시작\n",
    "next(my_gen)"
   ]
  },
  {
   "cell_type": "code",
   "execution_count": 24,
   "metadata": {},
   "outputs": [
    {
     "data": {
      "text/plain": [
       "2"
      ]
     },
     "execution_count": 24,
     "metadata": {},
     "output_type": "execute_result"
    }
   ],
   "source": [
    "my_gen = make_evens_gen()  # 다시 시작\n",
    "next(my_gen)"
   ]
  },
  {
   "cell_type": "code",
   "execution_count": 25,
   "metadata": {},
   "outputs": [
    {
     "name": "stdout",
     "output_type": "stream",
     "text": [
      "2 4 6 8 10 "
     ]
    }
   ],
   "source": [
    "for i in make_evens_gen():\n",
    "    print(i, end=' ')"
   ]
  },
  {
   "cell_type": "code",
   "execution_count": 28,
   "metadata": {},
   "outputs": [
    {
     "ename": "TypeError",
     "evalue": "'function' object is not iterable",
     "output_type": "error",
     "traceback": [
      "\u001b[1;31m---------------------------------------------------------------------------\u001b[0m",
      "\u001b[1;31mTypeError\u001b[0m                                 Traceback (most recent call last)",
      "\u001b[1;32m<ipython-input-28-99a8ae99e732>\u001b[0m in \u001b[0;36m<module>\u001b[1;34m\u001b[0m\n\u001b[0;32m      1\u001b[0m \u001b[1;31m# make_evens_gen을 직접 참조하려하면 에러가 발생한다.\u001b[0m\u001b[1;33m\u001b[0m\u001b[1;33m\u001b[0m\u001b[1;33m\u001b[0m\u001b[0m\n\u001b[1;32m----> 2\u001b[1;33m \u001b[1;32mfor\u001b[0m \u001b[0mi\u001b[0m \u001b[1;32min\u001b[0m \u001b[0mmake_evens_gen\u001b[0m\u001b[1;33m:\u001b[0m\u001b[1;33m\u001b[0m\u001b[1;33m\u001b[0m\u001b[0m\n\u001b[0m\u001b[0;32m      3\u001b[0m     \u001b[0mprint\u001b[0m\u001b[1;33m(\u001b[0m\u001b[0mi\u001b[0m\u001b[1;33m,\u001b[0m \u001b[0mend\u001b[0m\u001b[1;33m=\u001b[0m\u001b[1;34m' '\u001b[0m\u001b[1;33m)\u001b[0m\u001b[1;33m\u001b[0m\u001b[1;33m\u001b[0m\u001b[0m\n",
      "\u001b[1;31mTypeError\u001b[0m: 'function' object is not iterable"
     ]
    }
   ],
   "source": [
    "# make_evens_gen을 직접 참조하려 하면 에러가 발생한다.\n",
    "for i in make_evens_gen:\n",
    "    print(i, end=' ')"
   ]
  },
  {
   "cell_type": "code",
   "execution_count": 29,
   "metadata": {},
   "outputs": [
    {
     "data": {
      "text/plain": [
       "[2, 4, 6, 8, 10]"
      ]
     },
     "execution_count": 29,
     "metadata": {},
     "output_type": "execute_result"
    }
   ],
   "source": [
    "my_gen = make_evens_gen()\n",
    "a_list = list(my_gen)\n",
    "a_list"
   ]
  },
  {
   "cell_type": "code",
   "execution_count": 32,
   "metadata": {},
   "outputs": [
    {
     "data": {
      "text/plain": [
       "[]"
      ]
     },
     "execution_count": 32,
     "metadata": {},
     "output_type": "execute_result"
    }
   ],
   "source": [
    "a_list = list(my_gen)  # 재설정해야한다\n",
    "a_list"
   ]
  },
  {
   "cell_type": "code",
   "execution_count": 35,
   "metadata": {},
   "outputs": [
    {
     "data": {
      "text/plain": [
       "[2, 4, 6, 8, 10]"
      ]
     },
     "execution_count": 35,
     "metadata": {},
     "output_type": "execute_result"
    }
   ],
   "source": [
    "my_gen = make_evens_gen()\n",
    "a_list = list(my_gen)\n",
    "a_list"
   ]
  },
  {
   "cell_type": "code",
   "execution_count": 36,
   "metadata": {},
   "outputs": [
    {
     "data": {
      "text/plain": [
       "[2, 4, 6, 8, 10]"
      ]
     },
     "execution_count": 36,
     "metadata": {},
     "output_type": "execute_result"
    }
   ],
   "source": [
    "a_list = list(make_evens_gen())\n",
    "a_list"
   ]
  },
  {
   "cell_type": "code",
   "execution_count": 37,
   "metadata": {},
   "outputs": [],
   "source": [
    "def make_fibo_gen(n):\n",
    "    a, b = 1, 1\n",
    "    while a <= n:\n",
    "        yield a\n",
    "        a, b = a + b, a"
   ]
  },
  {
   "cell_type": "code",
   "execution_count": 38,
   "metadata": {},
   "outputs": [
    {
     "name": "stdout",
     "output_type": "stream",
     "text": [
      "Enter number: 10\n",
      "number is not a Fibonacci\n"
     ]
    }
   ],
   "source": [
    "n = int(input('Enter number: '))\n",
    "if n in make_fibo_gen(n):\n",
    "    print('number is a Fibonacci.')\n",
    "else:\n",
    "    print('number is not a Fibonacci')"
   ]
  },
  {
   "cell_type": "code",
   "execution_count": 39,
   "metadata": {},
   "outputs": [
    {
     "name": "stdout",
     "output_type": "stream",
     "text": [
      "Enter number: 21\n",
      "number is a Fibonacci. \n"
     ]
    }
   ],
   "source": [
    "n = int(input('Enter number: '))\n",
    "my_fibo_gen = make_fibo_gen(n)\n",
    "if n in my_fibo_gen:\n",
    "    print('number is a Fibonacci. ')\n",
    "else:\n",
    "    print('number is not a Fibonacci. ')"
   ]
  }
 ],
 "metadata": {
  "kernelspec": {
   "display_name": "Python 3",
   "language": "python",
   "name": "python3"
  },
  "language_info": {
   "codemirror_mode": {
    "name": "ipython",
    "version": 3
   },
   "file_extension": ".py",
   "mimetype": "text/x-python",
   "name": "python",
   "nbconvert_exporter": "python",
   "pygments_lexer": "ipython3",
   "version": "3.7.6"
  }
 },
 "nbformat": 4,
 "nbformat_minor": 4
}
